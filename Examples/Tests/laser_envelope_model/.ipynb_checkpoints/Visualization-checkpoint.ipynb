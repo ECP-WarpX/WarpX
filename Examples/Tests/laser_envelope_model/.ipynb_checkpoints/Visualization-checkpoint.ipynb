{
 "cells": [
  {
   "cell_type": "code",
   "execution_count": null,
   "id": "dd1566c0",
   "metadata": {},
   "outputs": [],
   "source": [
    "%matplotlib widget\n",
    "\n",
    "import matplotlib.pyplot as plt\n",
    "import numpy as np\n",
    "from openpmd_viewer import OpenPMDTimeSeries\n",
    "\n",
    "\n",
    "ts = OpenPMDTimeSeries('./../../../../run/diags/diag1/')\n",
    "ts.avail_fields\n",
    "ts.avail_species\n",
    "plt.figure()\n",
    "\n",
    "Ez_2d, info_Ez_2d = ts.get_field( field='E', coord='z', iteration=40, slice_across=None )\n",
    "print( Ez_2d )\n",
    "\n",
    "plt.figure()\n",
    "ts.slider()\n",
    "\n",
    "plt.figure()\n",
    "# Plot the blue phase space with all the electrons\n",
    "ts.get_particle( ['z', 'uz'], species='electrons', iteration=40, plot=True, vmax=1e12 );\n",
    "\n",
    "# Select only particles that have uz between 0.05 and 0.2 \n",
    "# and plot them as green dots, on top of the phase space\n",
    "z_selected, uz_selected = ts.get_particle( ['z', 'uz'], species='electrons', \n",
    "                            iteration=40)#, select={'uz':[0.05, 0.2]} )\n",
    "plt.plot(z_selected, uz_selected, 'g.',)\n",
    "\n",
    "#plt.ylim([-1, 18])\n",
    "plt.figure()\n",
    "# Plot the blue phase space with all the electrons\n",
    "ts.get_particle( ['z', 'uz'], species='electrons', iteration=40, plot=True, vmax=1e12 );\n",
    "\n",
    "# Select only particles that have uz between 0.05 and 0.2 AND z between 22 and 26\n",
    "# and plot them as green dots, on top of the phase space\n",
    "z_selected, uz_selected = ts.get_particle( ['z', 'uz'], species='electrons', \n",
    "                            iteration=40, select={'uz':[0.05, 2], 'z':[-5e-6,0]} )\n",
    "plt.plot(z_selected, uz_selected, 'g.')\n"
   ]
  }
 ],
 "metadata": {
  "kernelspec": {
   "display_name": "Python 3 (ipykernel)",
   "language": "python",
   "name": "python3"
  },
  "language_info": {
   "codemirror_mode": {
    "name": "ipython",
    "version": 3
   },
   "file_extension": ".py",
   "mimetype": "text/x-python",
   "name": "python",
   "nbconvert_exporter": "python",
   "pygments_lexer": "ipython3",
   "version": "3.11.3"
  }
 },
 "nbformat": 4,
 "nbformat_minor": 5
}
