{
 "cells": [
  {
   "cell_type": "code",
   "execution_count": 6,
   "id": "670a7a59",
   "metadata": {},
   "outputs": [],
   "source": [
    "import os\n",
    "import sys\n",
    "\n",
    "import numpy as np\n",
    "import scipy.constants as scc\n",
    "\n",
    "import yt ; yt.funcs.mylog.setLevel(0)\n",
    "sys.path.insert(1, '../../../../warpx/Regression/Checksum/')\n",
    "import checksumAPI\n",
    "\n",
    "filename = sys.argv[1]"
   ]
  },
  {
   "cell_type": "code",
   "execution_count": 7,
   "id": "8068cbb0",
   "metadata": {
    "scrolled": true
   },
   "outputs": [
    {
     "ename": "FileNotFoundError",
     "evalue": "No such file or directory: '-f'.\n(Also tried '/Users/adam/src/warpx/Examples/Tests/laser_envelope_model/-f').",
     "output_type": "error",
     "traceback": [
      "\u001b[0;31m---------------------------------------------------------------------------\u001b[0m",
      "\u001b[0;31mFileNotFoundError\u001b[0m                         Traceback (most recent call last)",
      "Cell \u001b[0;32mIn[7], line 9\u001b[0m\n\u001b[1;32m      4\u001b[0m energy_start \u001b[38;5;241m=\u001b[39m \u001b[38;5;241m9.1301289517e-08\u001b[39m\n\u001b[1;32m      6\u001b[0m \u001b[38;5;66;03m##########################\u001b[39;00m\n\u001b[1;32m      7\u001b[0m \u001b[38;5;66;03m### FINAL LASER ENERGY ###\u001b[39;00m\n\u001b[1;32m      8\u001b[0m \u001b[38;5;66;03m##########################\u001b[39;00m\n\u001b[0;32m----> 9\u001b[0m ds \u001b[38;5;241m=\u001b[39m \u001b[43myt\u001b[49m\u001b[38;5;241;43m.\u001b[39;49m\u001b[43mload\u001b[49m\u001b[43m(\u001b[49m\u001b[43m \u001b[49m\u001b[43mfilename\u001b[49m\u001b[43m \u001b[49m\u001b[43m)\u001b[49m\n\u001b[1;32m     10\u001b[0m all_data_level_0 \u001b[38;5;241m=\u001b[39m ds\u001b[38;5;241m.\u001b[39mcovering_grid(level\u001b[38;5;241m=\u001b[39m\u001b[38;5;241m0\u001b[39m,left_edge\u001b[38;5;241m=\u001b[39mds\u001b[38;5;241m.\u001b[39mdomain_left_edge, dims\u001b[38;5;241m=\u001b[39mds\u001b[38;5;241m.\u001b[39mdomain_dimensions)\n\u001b[1;32m     11\u001b[0m Bx \u001b[38;5;241m=\u001b[39m all_data_level_0[\u001b[38;5;124m'\u001b[39m\u001b[38;5;124mboxlib\u001b[39m\u001b[38;5;124m'\u001b[39m, \u001b[38;5;124m'\u001b[39m\u001b[38;5;124mBx\u001b[39m\u001b[38;5;124m'\u001b[39m]\u001b[38;5;241m.\u001b[39mv\u001b[38;5;241m.\u001b[39msqueeze()\n",
      "File \u001b[0;32m~/mambaforge/envs/warpx-dev/lib/python3.11/site-packages/yt/loaders.py:96\u001b[0m, in \u001b[0;36mload\u001b[0;34m(fn, hint, *args, **kwargs)\u001b[0m\n\u001b[1;32m     93\u001b[0m \u001b[38;5;66;03m# This will raise FileNotFoundError if the path isn't matched\u001b[39;00m\n\u001b[1;32m     94\u001b[0m \u001b[38;5;66;03m# either in the current dir or yt.config.ytcfg['data_dir_directory']\u001b[39;00m\n\u001b[1;32m     95\u001b[0m \u001b[38;5;28;01mif\u001b[39;00m \u001b[38;5;129;01mnot\u001b[39;00m fn\u001b[38;5;241m.\u001b[39mstartswith(\u001b[38;5;124m\"\u001b[39m\u001b[38;5;124mhttp\u001b[39m\u001b[38;5;124m\"\u001b[39m):\n\u001b[0;32m---> 96\u001b[0m     fn \u001b[38;5;241m=\u001b[39m \u001b[38;5;28mstr\u001b[39m(\u001b[43mlookup_on_disk_data\u001b[49m\u001b[43m(\u001b[49m\u001b[43mfn\u001b[49m\u001b[43m)\u001b[49m)\n\u001b[1;32m     98\u001b[0m candidates \u001b[38;5;241m=\u001b[39m []\n\u001b[1;32m     99\u001b[0m \u001b[38;5;28;01mfor\u001b[39;00m \u001b[38;5;28mcls\u001b[39m \u001b[38;5;129;01min\u001b[39;00m output_type_registry\u001b[38;5;241m.\u001b[39mvalues():\n",
      "File \u001b[0;32m~/mambaforge/envs/warpx-dev/lib/python3.11/site-packages/yt/sample_data/api.py:181\u001b[0m, in \u001b[0;36mlookup_on_disk_data\u001b[0;34m(fn)\u001b[0m\n\u001b[1;32m    179\u001b[0m         \u001b[38;5;28;01mreturn\u001b[39;00m alt_path\n\u001b[1;32m    180\u001b[0m     err_msg \u001b[38;5;241m+\u001b[39m\u001b[38;5;241m=\u001b[39m \u001b[38;5;124mf\u001b[39m\u001b[38;5;124m\"\u001b[39m\u001b[38;5;130;01m\\n\u001b[39;00m\u001b[38;5;124m(Also tried \u001b[39m\u001b[38;5;124m'\u001b[39m\u001b[38;5;132;01m{\u001b[39;00malt_path\u001b[38;5;132;01m}\u001b[39;00m\u001b[38;5;124m'\u001b[39m\u001b[38;5;124m).\u001b[39m\u001b[38;5;124m\"\u001b[39m\n\u001b[0;32m--> 181\u001b[0m \u001b[38;5;28;01mraise\u001b[39;00m \u001b[38;5;167;01mFileNotFoundError\u001b[39;00m(err_msg)\n",
      "\u001b[0;31mFileNotFoundError\u001b[0m: No such file or directory: '-f'.\n(Also tried '/Users/adam/src/warpx/Examples/Tests/laser_envelope_model/-f')."
     ]
    }
   ],
   "source": [
    "############################\n",
    "### INITIAL LASER ENERGY ###\n",
    "############################\n",
    "energy_start = 9.1301289517e-08\n",
    "\n",
    "##########################\n",
    "### FINAL LASER ENERGY ###\n",
    "##########################\n",
    "ds = yt.load( filename )\n",
    "all_data_level_0 = ds.covering_grid(level=0,left_edge=ds.domain_left_edge, dims=ds.domain_dimensions)\n",
    "Bx = all_data_level_0['boxlib', 'Bx'].v.squeeze()\n",
    "By = all_data_level_0['boxlib', 'By'].v.squeeze()\n",
    "Bz = all_data_level_0['boxlib', 'Bz'].v.squeeze()\n",
    "Ex = all_data_level_0['boxlib', 'Ex'].v.squeeze()\n",
    "Ey = all_data_level_0['boxlib', 'Ey'].v.squeeze()\n",
    "Ez = all_data_level_0['boxlib', 'Ez'].v.squeeze()\n",
    "energyE = np.sum(scc.epsilon_0/2*(Ex**2+Ey**2+Ez**2))\n",
    "energyB = np.sum(1./scc.mu_0/2*(Bx**2+By**2+Bz**2))\n",
    "energy_end = energyE + energyB\n",
    "\n",
    "Reflectivity = energy_end/energy_start\n",
    "Reflectivity_theory = 5.683000058954201e-07\n",
    "\n",
    "print(\"Reflectivity: %s\" %Reflectivity)\n",
    "print(\"Reflectivity_theory: %s\" %Reflectivity_theory)\n",
    "\n",
    "error_rel = abs(Reflectivity-Reflectivity_theory) / Reflectivity_theory\n",
    "tolerance_rel = 5./100\n",
    "\n",
    "print(\"error_rel    : \" + str(error_rel))\n",
    "print(\"tolerance_rel: \" + str(tolerance_rel))\n",
    "\n",
    "assert( error_rel < tolerance_rel )\n",
    "\n",
    "# Check restart data v. original data\n",
    "sys.path.insert(0, '../../../../warpx/Examples/')\n",
    "from analysis_default_restart import check_restart\n",
    "\n",
    "check_restart(filename)\n",
    "\n",
    "test_name = os.path.split(os.getcwd())[1]\n",
    "checksumAPI.evaluate_checksum(test_name, filename)"
   ]
  },
  {
   "cell_type": "raw",
   "id": "a5ff65ed",
   "metadata": {},
   "source": []
  }
 ],
 "metadata": {
  "kernelspec": {
   "display_name": "Python 3 (ipykernel)",
   "language": "python",
   "name": "python3"
  },
  "language_info": {
   "codemirror_mode": {
    "name": "ipython",
    "version": 3
   },
   "file_extension": ".py",
   "mimetype": "text/x-python",
   "name": "python",
   "nbconvert_exporter": "python",
   "pygments_lexer": "ipython3",
   "version": "3.11.3"
  }
 },
 "nbformat": 4,
 "nbformat_minor": 5
}
