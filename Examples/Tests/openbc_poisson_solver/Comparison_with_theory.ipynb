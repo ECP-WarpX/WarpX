{
 "cells": [
  {
   "cell_type": "code",
   "execution_count": null,
   "id": "ff2014a0-c9f0-49bb-bed7-fa2b0fff6c43",
   "metadata": {},
   "outputs": [],
   "source": [
    "%matplotlib widget\n",
    "import matplotlib.pyplot as plt\n",
    "import numpy as np"
   ]
  },
  {
   "cell_type": "code",
   "execution_count": null,
   "id": "11dadc96-cc85-40e8-9943-bbc7460da393",
   "metadata": {},
   "outputs": [],
   "source": [
    "# Basseti-Erskine formula\n",
    "\n",
    "sigmaz = 300e-6\n",
    "sigmax = 516e-9\n",
    "sigmay = 7.7e-9\n",
    "Q = -3.2e-9\n",
    "\n",
    "from scipy.special import erf\n",
    "from scipy.constants import epsilon_0\n",
    "def w(z):\n",
    "    return np.exp(-z**2) * ( 1 + erf(1.j*z) )\n",
    "\n",
    "def evaluate_E(x, y):\n",
    "    E_complex = Q/(4*np.pi*epsilon_0*sigmaz*np.sqrt((sigmax**2 - sigmay**2))) * ( \n",
    "        w( (x+1j*y)/np.sqrt(2*(sigmax**2 - sigmay**2)) ) \\\n",
    "        - np.exp( -x**2/(2*sigmax**2) - y**2/(2*sigmay**2) ) * w( (x*sigmay/sigmax + 1j*y*sigmax/sigmay)/np.sqrt(2*(sigmax**2 - sigmay**2)) ) \\\n",
    "    )\n",
    "    return E_complex.imag, E_complex.real"
   ]
  },
  {
   "cell_type": "code",
   "execution_count": null,
   "id": "3952668c-1926-475f-bdcc-8ab22cd4c624",
   "metadata": {},
   "outputs": [],
   "source": [
    "from openpmd_viewer import OpenPMDTimeSeries"
   ]
  },
  {
   "cell_type": "code",
   "execution_count": null,
   "id": "7406c6ba-00eb-4f1b-9277-7b123dbbb561",
   "metadata": {},
   "outputs": [],
   "source": [
    "ts = OpenPMDTimeSeries('./diags/diag1/')"
   ]
  },
  {
   "cell_type": "code",
   "execution_count": null,
   "id": "9c49edce-852f-4cba-a49b-8ea585dc85ff",
   "metadata": {},
   "outputs": [],
   "source": [
    "plt.figure(figsize=(10, 5))\n",
    "\n",
    "plt.subplot(121)\n",
    "Ex, info = ts.get_field('E', 'x', slice_across=['y', 'z'], iteration=1, plot=True );\n",
    "plt.plot(info.x, Ex, 'b-', label='WarpX')\n",
    "Ex_th, Ey_th = evaluate_E( info.x, 0 )\n",
    "plt.plot( info.x, Ex_th, '--', label='Basseti-Erskine formula' )\n",
    "plt.legend(loc=0)\n",
    "plt.grid()\n",
    "\n",
    "\n",
    "plt.subplot(122)\n",
    "Ey, info = ts.get_field('E', 'y', slice_across=['x', 'z'], iteration=1, plot=True );\n",
    "plt.plot(info.y, Ey, 'b-', label='WarpX')\n",
    "Ex_th, Ey_th = evaluate_E( 0, info.y )\n",
    "plt.plot( info.y, Ey_th, '--', label='Basseti-Erskine formula' )\n",
    "plt.legend(loc=0)\n",
    "plt.grid()"
   ]
  },
  {
   "cell_type": "code",
   "execution_count": null,
   "id": "5c05d867-7832-45ed-9f9f-e3c5532b8caf",
   "metadata": {},
   "outputs": [],
   "source": []
  },
  {
   "cell_type": "code",
   "execution_count": null,
   "id": "9a3105f9-9ca2-4acb-8f7b-fc10dc66f8b6",
   "metadata": {},
   "outputs": [],
   "source": []
  }
 ],
 "metadata": {
  "kernelspec": {
   "display_name": "Python 3 (ipykernel)",
   "language": "python",
   "name": "python3"
  },
  "language_info": {
   "codemirror_mode": {
    "name": "ipython",
    "version": 3
   },
   "file_extension": ".py",
   "mimetype": "text/x-python",
   "name": "python",
   "nbconvert_exporter": "python",
   "pygments_lexer": "ipython3",
   "version": "3.11.5"
  }
 },
 "nbformat": 4,
 "nbformat_minor": 5
}
