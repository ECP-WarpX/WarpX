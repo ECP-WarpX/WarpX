{
 "cells": [
  {
   "cell_type": "code",
   "execution_count": 1,
   "id": "02d1c331",
   "metadata": {},
   "outputs": [],
   "source": [
    "import yt"
   ]
  },
  {
   "cell_type": "code",
   "execution_count": 22,
   "id": "d638a03a",
   "metadata": {},
   "outputs": [
    {
     "name": "stderr",
     "output_type": "stream",
     "text": [
      "yt : [INFO     ] 2021-10-08 16:58:05,622 Parameters: current_time              = 2.658088883610253e-13\n",
      "yt : [INFO     ] 2021-10-08 16:58:05,623 Parameters: domain_dimensions         = [512   1   1]\n",
      "yt : [INFO     ] 2021-10-08 16:58:05,625 Parameters: domain_left_edge          = [0. 0. 0.]\n",
      "yt : [INFO     ] 2021-10-08 16:58:05,626 Parameters: domain_right_edge         = [0. 1. 1.]\n"
     ]
    }
   ],
   "source": [
    "ds = yt.load('./diag100600/')"
   ]
  },
  {
   "cell_type": "code",
   "execution_count": 5,
   "id": "daab3281",
   "metadata": {},
   "outputs": [
    {
     "data": {
      "text/plain": [
       "[('all', 'particle_cpu'),\n",
       " ('all', 'particle_id'),\n",
       " ('all', 'particle_momentum_x'),\n",
       " ('all', 'particle_momentum_y'),\n",
       " ('all', 'particle_momentum_z'),\n",
       " ('all', 'particle_position_x'),\n",
       " ('all', 'particle_weight'),\n",
       " ('boxlib', 'Bx'),\n",
       " ('boxlib', 'By'),\n",
       " ('boxlib', 'Bz'),\n",
       " ('boxlib', 'Ex'),\n",
       " ('boxlib', 'Ey'),\n",
       " ('boxlib', 'Ez'),\n",
       " ('boxlib', 'jx'),\n",
       " ('boxlib', 'jy'),\n",
       " ('boxlib', 'jz'),\n",
       " ('boxlib', 'rho'),\n",
       " ('electrons', 'particle_cpu'),\n",
       " ('electrons', 'particle_id'),\n",
       " ('electrons', 'particle_momentum_x'),\n",
       " ('electrons', 'particle_momentum_y'),\n",
       " ('electrons', 'particle_momentum_z'),\n",
       " ('electrons', 'particle_position_x'),\n",
       " ('electrons', 'particle_weight'),\n",
       " ('nbody', 'particle_cpu'),\n",
       " ('nbody', 'particle_id'),\n",
       " ('nbody', 'particle_momentum_x'),\n",
       " ('nbody', 'particle_momentum_y'),\n",
       " ('nbody', 'particle_momentum_z'),\n",
       " ('nbody', 'particle_position_x'),\n",
       " ('nbody', 'particle_weight')]"
      ]
     },
     "execution_count": 5,
     "metadata": {},
     "output_type": "execute_result"
    }
   ],
   "source": [
    "ds.field_list"
   ]
  },
  {
   "cell_type": "code",
   "execution_count": 25,
   "id": "c054bc49",
   "metadata": {},
   "outputs": [
    {
     "name": "stdout",
     "output_type": "stream",
     "text": [
      "[512   1   1]\n",
      "functools.partial(<class 'yt.data_objects.construction_data_containers.YTCoveringGrid'>, ds=<weakproxy at 0x7f0746f26e50 to WarpXDataset at 0x7f0746f3a760>)\n"
     ]
    },
    {
     "name": "stderr",
     "output_type": "stream",
     "text": [
      "/home/prachi/miniconda3/lib/python3.9/site-packages/yt/data_objects/data_containers.py:1421: VisibleDeprecationWarning: The requested field name 'particle_id' is ambiguous and corresponds to any one of the following field types:\n",
      " {'all', 'nbody'}\n",
      "Please specify the requested field as an explicit tuple (ftype, fname).\n",
      "Defaulting to '(\"all\", \"particle_id\")'.\n",
      "Deprecated since v4.0.0. This feature will be removed in v4.1.0\n",
      "  finfo = self.ds._get_field_info(field)\n"
     ]
    },
    {
     "ename": "RuntimeError",
     "evalue": "Region right edge[0] < left edge: width = 0.0",
     "output_type": "error",
     "traceback": [
      "\u001b[0;31m---------------------------------------------------------------------------\u001b[0m",
      "\u001b[0;31mRuntimeError\u001b[0m                              Traceback (most recent call last)",
      "\u001b[0;32m/tmp/ipykernel_14970/1981826691.py\u001b[0m in \u001b[0;36m<module>\u001b[0;34m\u001b[0m\n\u001b[1;32m      2\u001b[0m \u001b[0mprint\u001b[0m\u001b[0;34m(\u001b[0m\u001b[0mds\u001b[0m\u001b[0;34m.\u001b[0m\u001b[0mcovering_grid\u001b[0m\u001b[0;34m)\u001b[0m\u001b[0;34m\u001b[0m\u001b[0;34m\u001b[0m\u001b[0m\n\u001b[1;32m      3\u001b[0m \u001b[0mad\u001b[0m \u001b[0;34m=\u001b[0m \u001b[0mds\u001b[0m\u001b[0;34m.\u001b[0m\u001b[0mall_data\u001b[0m\u001b[0;34m(\u001b[0m\u001b[0;34m)\u001b[0m\u001b[0;34m\u001b[0m\u001b[0;34m\u001b[0m\u001b[0m\n\u001b[0;32m----> 4\u001b[0;31m \u001b[0mx\u001b[0m \u001b[0;34m=\u001b[0m \u001b[0mad\u001b[0m\u001b[0;34m[\u001b[0m\u001b[0;34m'particle_id'\u001b[0m\u001b[0;34m]\u001b[0m\u001b[0;34m.\u001b[0m\u001b[0mto_ndarray\u001b[0m\u001b[0;34m(\u001b[0m\u001b[0;34m)\u001b[0m\u001b[0;34m\u001b[0m\u001b[0;34m\u001b[0m\u001b[0m\n\u001b[0m",
      "\u001b[0;32m~/miniconda3/lib/python3.9/site-packages/yt/data_objects/data_containers.py\u001b[0m in \u001b[0;36m__getitem__\u001b[0;34m(self, key)\u001b[0m\n\u001b[1;32m    256\u001b[0m                 \u001b[0;32mreturn\u001b[0m \u001b[0mself\u001b[0m\u001b[0;34m.\u001b[0m\u001b[0mfield_data\u001b[0m\u001b[0;34m[\u001b[0m\u001b[0mf\u001b[0m\u001b[0;34m]\u001b[0m\u001b[0;34m\u001b[0m\u001b[0;34m\u001b[0m\u001b[0m\n\u001b[1;32m    257\u001b[0m             \u001b[0;32melse\u001b[0m\u001b[0;34m:\u001b[0m\u001b[0;34m\u001b[0m\u001b[0;34m\u001b[0m\u001b[0m\n\u001b[0;32m--> 258\u001b[0;31m                 \u001b[0mself\u001b[0m\u001b[0;34m.\u001b[0m\u001b[0mget_data\u001b[0m\u001b[0;34m(\u001b[0m\u001b[0mf\u001b[0m\u001b[0;34m)\u001b[0m\u001b[0;34m\u001b[0m\u001b[0;34m\u001b[0m\u001b[0m\n\u001b[0m\u001b[1;32m    259\u001b[0m         \u001b[0;31m# fi.units is the unit expression string. We depend on the registry\u001b[0m\u001b[0;34m\u001b[0m\u001b[0;34m\u001b[0m\u001b[0;34m\u001b[0m\u001b[0m\n\u001b[1;32m    260\u001b[0m         \u001b[0;31m# hanging off the dataset to define this unit object.\u001b[0m\u001b[0;34m\u001b[0m\u001b[0;34m\u001b[0m\u001b[0;34m\u001b[0m\u001b[0m\n",
      "\u001b[0;32m~/miniconda3/lib/python3.9/site-packages/yt/data_objects/selection_objects/data_selection_objects.py\u001b[0m in \u001b[0;36mget_data\u001b[0;34m(self, fields)\u001b[0m\n\u001b[1;32m    128\u001b[0m     \u001b[0;32mdef\u001b[0m \u001b[0mget_data\u001b[0m\u001b[0;34m(\u001b[0m\u001b[0mself\u001b[0m\u001b[0;34m,\u001b[0m \u001b[0mfields\u001b[0m\u001b[0;34m=\u001b[0m\u001b[0;32mNone\u001b[0m\u001b[0;34m)\u001b[0m\u001b[0;34m:\u001b[0m\u001b[0;34m\u001b[0m\u001b[0;34m\u001b[0m\u001b[0m\n\u001b[1;32m    129\u001b[0m         \u001b[0;32mif\u001b[0m \u001b[0mself\u001b[0m\u001b[0;34m.\u001b[0m\u001b[0m_current_chunk\u001b[0m \u001b[0;32mis\u001b[0m \u001b[0;32mNone\u001b[0m\u001b[0;34m:\u001b[0m\u001b[0;34m\u001b[0m\u001b[0;34m\u001b[0m\u001b[0m\n\u001b[0;32m--> 130\u001b[0;31m             \u001b[0mself\u001b[0m\u001b[0;34m.\u001b[0m\u001b[0mindex\u001b[0m\u001b[0;34m.\u001b[0m\u001b[0m_identify_base_chunk\u001b[0m\u001b[0;34m(\u001b[0m\u001b[0mself\u001b[0m\u001b[0;34m)\u001b[0m\u001b[0;34m\u001b[0m\u001b[0;34m\u001b[0m\u001b[0m\n\u001b[0m\u001b[1;32m    131\u001b[0m         \u001b[0;32mif\u001b[0m \u001b[0mfields\u001b[0m \u001b[0;32mis\u001b[0m \u001b[0;32mNone\u001b[0m\u001b[0;34m:\u001b[0m\u001b[0;34m\u001b[0m\u001b[0;34m\u001b[0m\u001b[0m\n\u001b[1;32m    132\u001b[0m             \u001b[0;32mreturn\u001b[0m\u001b[0;34m\u001b[0m\u001b[0;34m\u001b[0m\u001b[0m\n",
      "\u001b[0;32m~/miniconda3/lib/python3.9/site-packages/yt/geometry/grid_geometry_handler.py\u001b[0m in \u001b[0;36m_identify_base_chunk\u001b[0;34m(self, dobj)\u001b[0m\n\u001b[1;32m    333\u001b[0m             \u001b[0mdobj\u001b[0m\u001b[0;34m.\u001b[0m\u001b[0m_chunk_info\u001b[0m\u001b[0;34m[\u001b[0m\u001b[0;36m0\u001b[0m\u001b[0;34m]\u001b[0m \u001b[0;34m=\u001b[0m \u001b[0mweakref\u001b[0m\u001b[0;34m.\u001b[0m\u001b[0mproxy\u001b[0m\u001b[0;34m(\u001b[0m\u001b[0mdobj\u001b[0m\u001b[0;34m)\u001b[0m\u001b[0;34m\u001b[0m\u001b[0;34m\u001b[0m\u001b[0m\n\u001b[1;32m    334\u001b[0m         \u001b[0;32melif\u001b[0m \u001b[0mgetattr\u001b[0m\u001b[0;34m(\u001b[0m\u001b[0mdobj\u001b[0m\u001b[0;34m,\u001b[0m \u001b[0;34m\"_grids\"\u001b[0m\u001b[0;34m,\u001b[0m \u001b[0;32mNone\u001b[0m\u001b[0;34m)\u001b[0m \u001b[0;32mis\u001b[0m \u001b[0;32mNone\u001b[0m\u001b[0;34m:\u001b[0m\u001b[0;34m\u001b[0m\u001b[0;34m\u001b[0m\u001b[0m\n\u001b[0;32m--> 335\u001b[0;31m             gi = dobj.selector.select_grids(\n\u001b[0m\u001b[1;32m    336\u001b[0m                 \u001b[0mself\u001b[0m\u001b[0;34m.\u001b[0m\u001b[0mgrid_left_edge\u001b[0m\u001b[0;34m,\u001b[0m \u001b[0mself\u001b[0m\u001b[0;34m.\u001b[0m\u001b[0mgrid_right_edge\u001b[0m\u001b[0;34m,\u001b[0m \u001b[0mself\u001b[0m\u001b[0;34m.\u001b[0m\u001b[0mgrid_levels\u001b[0m\u001b[0;34m\u001b[0m\u001b[0;34m\u001b[0m\u001b[0m\n\u001b[1;32m    337\u001b[0m             )\n",
      "\u001b[0;32m~/miniconda3/lib/python3.9/site-packages/yt/data_objects/selection_objects/data_selection_objects.py\u001b[0m in \u001b[0;36mselector\u001b[0;34m(self)\u001b[0m\n\u001b[1;32m     78\u001b[0m             )\n\u001b[1;32m     79\u001b[0m         \u001b[0;32melse\u001b[0m\u001b[0;34m:\u001b[0m\u001b[0;34m\u001b[0m\u001b[0;34m\u001b[0m\u001b[0m\n\u001b[0;32m---> 80\u001b[0;31m             \u001b[0mself\u001b[0m\u001b[0;34m.\u001b[0m\u001b[0m_selector\u001b[0m \u001b[0;34m=\u001b[0m \u001b[0msclass\u001b[0m\u001b[0;34m(\u001b[0m\u001b[0mself\u001b[0m\u001b[0;34m)\u001b[0m\u001b[0;34m\u001b[0m\u001b[0;34m\u001b[0m\u001b[0m\n\u001b[0m\u001b[1;32m     81\u001b[0m         \u001b[0;32mreturn\u001b[0m \u001b[0mself\u001b[0m\u001b[0;34m.\u001b[0m\u001b[0m_selector\u001b[0m\u001b[0;34m\u001b[0m\u001b[0;34m\u001b[0m\u001b[0m\n\u001b[1;32m     82\u001b[0m \u001b[0;34m\u001b[0m\u001b[0m\n",
      "\u001b[0;32m~/miniconda3/lib/python3.9/site-packages/yt/geometry/_selection_routines/region_selector.pxi\u001b[0m in \u001b[0;36myt.geometry.selection_routines.RegionSelector.__init__\u001b[0;34m()\u001b[0m\n",
      "\u001b[0;31mRuntimeError\u001b[0m: Region right edge[0] < left edge: width = 0.0"
     ]
    }
   ],
   "source": [
    "print(ds.domain_dimensions)\n",
    "print(ds.covering_grid)\n",
    "ad = ds.all_data()\n",
    "x = ad['particle_id'].to_ndarray()"
   ]
  },
  {
   "cell_type": "code",
   "execution_count": 17,
   "id": "593acbd4",
   "metadata": {},
   "outputs": [
    {
     "name": "stderr",
     "output_type": "stream",
     "text": [
      "/home/prachi/miniconda3/lib/python3.9/site-packages/yt/data_objects/data_containers.py:1421: VisibleDeprecationWarning: The requested field name 'jx' is ambiguous and corresponds to any one of the following field types:\n",
      " {'mesh'}\n",
      "Please specify the requested field as an explicit tuple (ftype, fname).\n",
      "Defaulting to '(\"boxlib\", \"jx\")'.\n",
      "Deprecated since v4.0.0. This feature will be removed in v4.1.0\n",
      "  finfo = self.ds._get_field_info(field)\n"
     ]
    },
    {
     "ename": "RuntimeError",
     "evalue": "Region right edge[0] < left edge: width = 0.0",
     "output_type": "error",
     "traceback": [
      "\u001b[0;31m---------------------------------------------------------------------------\u001b[0m",
      "\u001b[0;31mRuntimeError\u001b[0m                              Traceback (most recent call last)",
      "\u001b[0;32m/tmp/ipykernel_14970/230660716.py\u001b[0m in \u001b[0;36m<module>\u001b[0;34m\u001b[0m\n\u001b[1;32m      1\u001b[0m \u001b[0mad0\u001b[0m \u001b[0;34m=\u001b[0m \u001b[0mds\u001b[0m\u001b[0;34m.\u001b[0m\u001b[0mcovering_grid\u001b[0m\u001b[0;34m(\u001b[0m\u001b[0mlevel\u001b[0m\u001b[0;34m=\u001b[0m\u001b[0;36m0\u001b[0m\u001b[0;34m,\u001b[0m \u001b[0mleft_edge\u001b[0m\u001b[0;34m=\u001b[0m\u001b[0mds\u001b[0m\u001b[0;34m.\u001b[0m\u001b[0mdomain_left_edge\u001b[0m\u001b[0;34m,\u001b[0m \u001b[0mdims\u001b[0m\u001b[0;34m=\u001b[0m\u001b[0mds\u001b[0m\u001b[0;34m.\u001b[0m\u001b[0mdomain_dimensions\u001b[0m\u001b[0;34m)\u001b[0m\u001b[0;34m\u001b[0m\u001b[0;34m\u001b[0m\u001b[0m\n\u001b[0;32m----> 2\u001b[0;31m \u001b[0mjz_array\u001b[0m \u001b[0;34m=\u001b[0m \u001b[0mad0\u001b[0m\u001b[0;34m[\u001b[0m\u001b[0;34m'jx'\u001b[0m\u001b[0;34m]\u001b[0m\u001b[0;34m.\u001b[0m\u001b[0mto_ndarray\u001b[0m\u001b[0;34m(\u001b[0m\u001b[0;34m)\u001b[0m\u001b[0;34m\u001b[0m\u001b[0;34m\u001b[0m\u001b[0m\n\u001b[0m",
      "\u001b[0;32m~/miniconda3/lib/python3.9/site-packages/yt/data_objects/data_containers.py\u001b[0m in \u001b[0;36m__getitem__\u001b[0;34m(self, key)\u001b[0m\n\u001b[1;32m    256\u001b[0m                 \u001b[0;32mreturn\u001b[0m \u001b[0mself\u001b[0m\u001b[0;34m.\u001b[0m\u001b[0mfield_data\u001b[0m\u001b[0;34m[\u001b[0m\u001b[0mf\u001b[0m\u001b[0;34m]\u001b[0m\u001b[0;34m\u001b[0m\u001b[0;34m\u001b[0m\u001b[0m\n\u001b[1;32m    257\u001b[0m             \u001b[0;32melse\u001b[0m\u001b[0;34m:\u001b[0m\u001b[0;34m\u001b[0m\u001b[0;34m\u001b[0m\u001b[0m\n\u001b[0;32m--> 258\u001b[0;31m                 \u001b[0mself\u001b[0m\u001b[0;34m.\u001b[0m\u001b[0mget_data\u001b[0m\u001b[0;34m(\u001b[0m\u001b[0mf\u001b[0m\u001b[0;34m)\u001b[0m\u001b[0;34m\u001b[0m\u001b[0;34m\u001b[0m\u001b[0m\n\u001b[0m\u001b[1;32m    259\u001b[0m         \u001b[0;31m# fi.units is the unit expression string. We depend on the registry\u001b[0m\u001b[0;34m\u001b[0m\u001b[0;34m\u001b[0m\u001b[0;34m\u001b[0m\u001b[0m\n\u001b[1;32m    260\u001b[0m         \u001b[0;31m# hanging off the dataset to define this unit object.\u001b[0m\u001b[0;34m\u001b[0m\u001b[0;34m\u001b[0m\u001b[0;34m\u001b[0m\u001b[0m\n",
      "\u001b[0;32m~/miniconda3/lib/python3.9/site-packages/yt/data_objects/construction_data_containers.py\u001b[0m in \u001b[0;36mget_data\u001b[0;34m(self, fields)\u001b[0m\n\u001b[1;32m    824\u001b[0m \u001b[0;34m\u001b[0m\u001b[0m\n\u001b[1;32m    825\u001b[0m         \u001b[0;32mif\u001b[0m \u001b[0mlen\u001b[0m\u001b[0;34m(\u001b[0m\u001b[0mfill\u001b[0m\u001b[0;34m)\u001b[0m \u001b[0;34m>\u001b[0m \u001b[0;36m0\u001b[0m\u001b[0;34m:\u001b[0m\u001b[0;34m\u001b[0m\u001b[0;34m\u001b[0m\u001b[0m\n\u001b[0;32m--> 826\u001b[0;31m             \u001b[0mself\u001b[0m\u001b[0;34m.\u001b[0m\u001b[0m_fill_fields\u001b[0m\u001b[0;34m(\u001b[0m\u001b[0mfill\u001b[0m\u001b[0;34m)\u001b[0m\u001b[0;34m\u001b[0m\u001b[0;34m\u001b[0m\u001b[0m\n\u001b[0m\u001b[1;32m    827\u001b[0m         \u001b[0;32mfor\u001b[0m \u001b[0ma\u001b[0m\u001b[0;34m,\u001b[0m \u001b[0mf\u001b[0m \u001b[0;32min\u001b[0m \u001b[0msorted\u001b[0m\u001b[0;34m(\u001b[0m\u001b[0malias\u001b[0m\u001b[0;34m.\u001b[0m\u001b[0mitems\u001b[0m\u001b[0;34m(\u001b[0m\u001b[0;34m)\u001b[0m\u001b[0;34m)\u001b[0m\u001b[0;34m:\u001b[0m\u001b[0;34m\u001b[0m\u001b[0;34m\u001b[0m\u001b[0m\n\u001b[1;32m    828\u001b[0m             \u001b[0;32mif\u001b[0m \u001b[0mf\u001b[0m\u001b[0;34m.\u001b[0m\u001b[0msampling_type\u001b[0m \u001b[0;34m==\u001b[0m \u001b[0;34m\"particle\"\u001b[0m \u001b[0;32mand\u001b[0m \u001b[0;32mnot\u001b[0m \u001b[0mis_sph_field\u001b[0m\u001b[0;34m:\u001b[0m\u001b[0;34m\u001b[0m\u001b[0;34m\u001b[0m\u001b[0m\n",
      "\u001b[0;32m~/miniconda3/lib/python3.9/site-packages/yt/data_objects/construction_data_containers.py\u001b[0m in \u001b[0;36m_fill_fields\u001b[0;34m(self, fields)\u001b[0m\n\u001b[1;32m    987\u001b[0m             \u001b[0mrefine_by\u001b[0m \u001b[0;34m=\u001b[0m \u001b[0;34m[\u001b[0m\u001b[0mrefine_by\u001b[0m\u001b[0;34m,\u001b[0m \u001b[0mrefine_by\u001b[0m\u001b[0;34m,\u001b[0m \u001b[0mrefine_by\u001b[0m\u001b[0;34m]\u001b[0m\u001b[0;34m\u001b[0m\u001b[0;34m\u001b[0m\u001b[0m\n\u001b[1;32m    988\u001b[0m         \u001b[0mrefine_by\u001b[0m \u001b[0;34m=\u001b[0m \u001b[0mnp\u001b[0m\u001b[0;34m.\u001b[0m\u001b[0marray\u001b[0m\u001b[0;34m(\u001b[0m\u001b[0mrefine_by\u001b[0m\u001b[0;34m,\u001b[0m \u001b[0mdtype\u001b[0m\u001b[0;34m=\u001b[0m\u001b[0;34m\"i8\"\u001b[0m\u001b[0;34m)\u001b[0m\u001b[0;34m\u001b[0m\u001b[0;34m\u001b[0m\u001b[0m\n\u001b[0;32m--> 989\u001b[0;31m         \u001b[0;32mfor\u001b[0m \u001b[0mchunk\u001b[0m \u001b[0;32min\u001b[0m \u001b[0mparallel_objects\u001b[0m\u001b[0;34m(\u001b[0m\u001b[0mself\u001b[0m\u001b[0;34m.\u001b[0m\u001b[0m_data_source\u001b[0m\u001b[0;34m.\u001b[0m\u001b[0mchunks\u001b[0m\u001b[0;34m(\u001b[0m\u001b[0mfields\u001b[0m\u001b[0;34m,\u001b[0m \u001b[0;34m\"io\"\u001b[0m\u001b[0;34m)\u001b[0m\u001b[0;34m)\u001b[0m\u001b[0;34m:\u001b[0m\u001b[0;34m\u001b[0m\u001b[0;34m\u001b[0m\u001b[0m\n\u001b[0m\u001b[1;32m    990\u001b[0m             \u001b[0minput_fields\u001b[0m \u001b[0;34m=\u001b[0m \u001b[0;34m[\u001b[0m\u001b[0mchunk\u001b[0m\u001b[0;34m[\u001b[0m\u001b[0mfield\u001b[0m\u001b[0;34m]\u001b[0m \u001b[0;32mfor\u001b[0m \u001b[0mfield\u001b[0m \u001b[0;32min\u001b[0m \u001b[0mfields\u001b[0m\u001b[0;34m]\u001b[0m\u001b[0;34m\u001b[0m\u001b[0;34m\u001b[0m\u001b[0m\n\u001b[1;32m    991\u001b[0m             \u001b[0;31m# NOTE: This usage of \"refine_by\" is actually *okay*, because it's\u001b[0m\u001b[0;34m\u001b[0m\u001b[0;34m\u001b[0m\u001b[0;34m\u001b[0m\u001b[0m\n",
      "\u001b[0;32m~/miniconda3/lib/python3.9/site-packages/yt/utilities/parallel_tools/parallel_analysis_interface.py\u001b[0m in \u001b[0;36mparallel_objects\u001b[0;34m(objects, njobs, storage, barrier, dynamic)\u001b[0m\n\u001b[1;32m    525\u001b[0m     \u001b[0;31m# this will prevent intermediate objects from being created.\u001b[0m\u001b[0;34m\u001b[0m\u001b[0;34m\u001b[0m\u001b[0;34m\u001b[0m\u001b[0m\n\u001b[1;32m    526\u001b[0m     \u001b[0moiter\u001b[0m \u001b[0;34m=\u001b[0m \u001b[0mitertools\u001b[0m\u001b[0;34m.\u001b[0m\u001b[0mislice\u001b[0m\u001b[0;34m(\u001b[0m\u001b[0menumerate\u001b[0m\u001b[0;34m(\u001b[0m\u001b[0mobjects\u001b[0m\u001b[0;34m)\u001b[0m\u001b[0;34m,\u001b[0m \u001b[0mmy_new_id\u001b[0m\u001b[0;34m,\u001b[0m \u001b[0;32mNone\u001b[0m\u001b[0;34m,\u001b[0m \u001b[0mnjobs\u001b[0m\u001b[0;34m)\u001b[0m\u001b[0;34m\u001b[0m\u001b[0;34m\u001b[0m\u001b[0m\n\u001b[0;32m--> 527\u001b[0;31m     \u001b[0;32mfor\u001b[0m \u001b[0mresult_id\u001b[0m\u001b[0;34m,\u001b[0m \u001b[0mobj\u001b[0m \u001b[0;32min\u001b[0m \u001b[0moiter\u001b[0m\u001b[0;34m:\u001b[0m\u001b[0;34m\u001b[0m\u001b[0;34m\u001b[0m\u001b[0m\n\u001b[0m\u001b[1;32m    528\u001b[0m         \u001b[0;32mif\u001b[0m \u001b[0mstorage\u001b[0m \u001b[0;32mis\u001b[0m \u001b[0;32mnot\u001b[0m \u001b[0;32mNone\u001b[0m\u001b[0;34m:\u001b[0m\u001b[0;34m\u001b[0m\u001b[0;34m\u001b[0m\u001b[0m\n\u001b[1;32m    529\u001b[0m             \u001b[0mrstore\u001b[0m \u001b[0;34m=\u001b[0m \u001b[0mResultsStorage\u001b[0m\u001b[0;34m(\u001b[0m\u001b[0;34m)\u001b[0m\u001b[0;34m\u001b[0m\u001b[0;34m\u001b[0m\u001b[0m\n",
      "\u001b[0;32m~/miniconda3/lib/python3.9/site-packages/yt/data_objects/selection_objects/data_selection_objects.py\u001b[0m in \u001b[0;36mchunks\u001b[0;34m(self, fields, chunking_style, **kwargs)\u001b[0m\n\u001b[1;32m     83\u001b[0m     \u001b[0;32mdef\u001b[0m \u001b[0mchunks\u001b[0m\u001b[0;34m(\u001b[0m\u001b[0mself\u001b[0m\u001b[0;34m,\u001b[0m \u001b[0mfields\u001b[0m\u001b[0;34m,\u001b[0m \u001b[0mchunking_style\u001b[0m\u001b[0;34m,\u001b[0m \u001b[0;34m**\u001b[0m\u001b[0mkwargs\u001b[0m\u001b[0;34m)\u001b[0m\u001b[0;34m:\u001b[0m\u001b[0;34m\u001b[0m\u001b[0;34m\u001b[0m\u001b[0m\n\u001b[1;32m     84\u001b[0m         \u001b[0;31m# This is an iterator that will yield the necessary chunks.\u001b[0m\u001b[0;34m\u001b[0m\u001b[0;34m\u001b[0m\u001b[0;34m\u001b[0m\u001b[0m\n\u001b[0;32m---> 85\u001b[0;31m         \u001b[0mself\u001b[0m\u001b[0;34m.\u001b[0m\u001b[0mget_data\u001b[0m\u001b[0;34m(\u001b[0m\u001b[0;34m)\u001b[0m  \u001b[0;31m# Ensure we have built ourselves\u001b[0m\u001b[0;34m\u001b[0m\u001b[0;34m\u001b[0m\u001b[0m\n\u001b[0m\u001b[1;32m     86\u001b[0m         \u001b[0;32mif\u001b[0m \u001b[0mfields\u001b[0m \u001b[0;32mis\u001b[0m \u001b[0;32mNone\u001b[0m\u001b[0;34m:\u001b[0m\u001b[0;34m\u001b[0m\u001b[0;34m\u001b[0m\u001b[0m\n\u001b[1;32m     87\u001b[0m             \u001b[0mfields\u001b[0m \u001b[0;34m=\u001b[0m \u001b[0;34m[\u001b[0m\u001b[0;34m]\u001b[0m\u001b[0;34m\u001b[0m\u001b[0;34m\u001b[0m\u001b[0m\n",
      "\u001b[0;32m~/miniconda3/lib/python3.9/site-packages/yt/data_objects/selection_objects/data_selection_objects.py\u001b[0m in \u001b[0;36mget_data\u001b[0;34m(self, fields)\u001b[0m\n\u001b[1;32m    128\u001b[0m     \u001b[0;32mdef\u001b[0m \u001b[0mget_data\u001b[0m\u001b[0;34m(\u001b[0m\u001b[0mself\u001b[0m\u001b[0;34m,\u001b[0m \u001b[0mfields\u001b[0m\u001b[0;34m=\u001b[0m\u001b[0;32mNone\u001b[0m\u001b[0;34m)\u001b[0m\u001b[0;34m:\u001b[0m\u001b[0;34m\u001b[0m\u001b[0;34m\u001b[0m\u001b[0m\n\u001b[1;32m    129\u001b[0m         \u001b[0;32mif\u001b[0m \u001b[0mself\u001b[0m\u001b[0;34m.\u001b[0m\u001b[0m_current_chunk\u001b[0m \u001b[0;32mis\u001b[0m \u001b[0;32mNone\u001b[0m\u001b[0;34m:\u001b[0m\u001b[0;34m\u001b[0m\u001b[0;34m\u001b[0m\u001b[0m\n\u001b[0;32m--> 130\u001b[0;31m             \u001b[0mself\u001b[0m\u001b[0;34m.\u001b[0m\u001b[0mindex\u001b[0m\u001b[0;34m.\u001b[0m\u001b[0m_identify_base_chunk\u001b[0m\u001b[0;34m(\u001b[0m\u001b[0mself\u001b[0m\u001b[0;34m)\u001b[0m\u001b[0;34m\u001b[0m\u001b[0;34m\u001b[0m\u001b[0m\n\u001b[0m\u001b[1;32m    131\u001b[0m         \u001b[0;32mif\u001b[0m \u001b[0mfields\u001b[0m \u001b[0;32mis\u001b[0m \u001b[0;32mNone\u001b[0m\u001b[0;34m:\u001b[0m\u001b[0;34m\u001b[0m\u001b[0;34m\u001b[0m\u001b[0m\n\u001b[1;32m    132\u001b[0m             \u001b[0;32mreturn\u001b[0m\u001b[0;34m\u001b[0m\u001b[0;34m\u001b[0m\u001b[0m\n",
      "\u001b[0;32m~/miniconda3/lib/python3.9/site-packages/yt/geometry/grid_geometry_handler.py\u001b[0m in \u001b[0;36m_identify_base_chunk\u001b[0;34m(self, dobj)\u001b[0m\n\u001b[1;32m    333\u001b[0m             \u001b[0mdobj\u001b[0m\u001b[0;34m.\u001b[0m\u001b[0m_chunk_info\u001b[0m\u001b[0;34m[\u001b[0m\u001b[0;36m0\u001b[0m\u001b[0;34m]\u001b[0m \u001b[0;34m=\u001b[0m \u001b[0mweakref\u001b[0m\u001b[0;34m.\u001b[0m\u001b[0mproxy\u001b[0m\u001b[0;34m(\u001b[0m\u001b[0mdobj\u001b[0m\u001b[0;34m)\u001b[0m\u001b[0;34m\u001b[0m\u001b[0;34m\u001b[0m\u001b[0m\n\u001b[1;32m    334\u001b[0m         \u001b[0;32melif\u001b[0m \u001b[0mgetattr\u001b[0m\u001b[0;34m(\u001b[0m\u001b[0mdobj\u001b[0m\u001b[0;34m,\u001b[0m \u001b[0;34m\"_grids\"\u001b[0m\u001b[0;34m,\u001b[0m \u001b[0;32mNone\u001b[0m\u001b[0;34m)\u001b[0m \u001b[0;32mis\u001b[0m \u001b[0;32mNone\u001b[0m\u001b[0;34m:\u001b[0m\u001b[0;34m\u001b[0m\u001b[0;34m\u001b[0m\u001b[0m\n\u001b[0;32m--> 335\u001b[0;31m             gi = dobj.selector.select_grids(\n\u001b[0m\u001b[1;32m    336\u001b[0m                 \u001b[0mself\u001b[0m\u001b[0;34m.\u001b[0m\u001b[0mgrid_left_edge\u001b[0m\u001b[0;34m,\u001b[0m \u001b[0mself\u001b[0m\u001b[0;34m.\u001b[0m\u001b[0mgrid_right_edge\u001b[0m\u001b[0;34m,\u001b[0m \u001b[0mself\u001b[0m\u001b[0;34m.\u001b[0m\u001b[0mgrid_levels\u001b[0m\u001b[0;34m\u001b[0m\u001b[0;34m\u001b[0m\u001b[0m\n\u001b[1;32m    337\u001b[0m             )\n",
      "\u001b[0;32m~/miniconda3/lib/python3.9/site-packages/yt/data_objects/selection_objects/data_selection_objects.py\u001b[0m in \u001b[0;36mselector\u001b[0;34m(self)\u001b[0m\n\u001b[1;32m     78\u001b[0m             )\n\u001b[1;32m     79\u001b[0m         \u001b[0;32melse\u001b[0m\u001b[0;34m:\u001b[0m\u001b[0;34m\u001b[0m\u001b[0;34m\u001b[0m\u001b[0m\n\u001b[0;32m---> 80\u001b[0;31m             \u001b[0mself\u001b[0m\u001b[0;34m.\u001b[0m\u001b[0m_selector\u001b[0m \u001b[0;34m=\u001b[0m \u001b[0msclass\u001b[0m\u001b[0;34m(\u001b[0m\u001b[0mself\u001b[0m\u001b[0;34m)\u001b[0m\u001b[0;34m\u001b[0m\u001b[0;34m\u001b[0m\u001b[0m\n\u001b[0m\u001b[1;32m     81\u001b[0m         \u001b[0;32mreturn\u001b[0m \u001b[0mself\u001b[0m\u001b[0;34m.\u001b[0m\u001b[0m_selector\u001b[0m\u001b[0;34m\u001b[0m\u001b[0;34m\u001b[0m\u001b[0m\n\u001b[1;32m     82\u001b[0m \u001b[0;34m\u001b[0m\u001b[0m\n",
      "\u001b[0;32m~/miniconda3/lib/python3.9/site-packages/yt/geometry/_selection_routines/region_selector.pxi\u001b[0m in \u001b[0;36myt.geometry.selection_routines.RegionSelector.__init__\u001b[0;34m()\u001b[0m\n",
      "\u001b[0;31mRuntimeError\u001b[0m: Region right edge[0] < left edge: width = 0.0"
     ]
    }
   ],
   "source": [
    "ad0 = ds.covering_grid(level=0, left_edge=ds.domain_left_edge, dims=ds.domain_dimensions)\n",
    "jz_array = ad0['jx'].to_ndarray()"
   ]
  },
  {
   "cell_type": "code",
   "execution_count": 8,
   "id": "6303e878",
   "metadata": {},
   "outputs": [
    {
     "name": "stderr",
     "output_type": "stream",
     "text": [
      "yt : [INFO     ] 2021-10-08 16:48:40,305 xlim = 0.000000 1.000000\n",
      "yt : [INFO     ] 2021-10-08 16:48:40,306 ylim = 0.000000 0.000000\n",
      "yt : [INFO     ] 2021-10-08 16:48:40,309 xlim = 0.000000 1.000000\n",
      "yt : [INFO     ] 2021-10-08 16:48:40,310 ylim = 0.000000 0.000000\n",
      "yt : [INFO     ] 2021-10-08 16:48:40,313 Making a fixed resolution buffer of (('boxlib', 'Ez')) 800 by 800\n",
      "/home/prachi/miniconda3/lib/python3.9/site-packages/yt/visualization/plot_window.py:1009: RuntimeWarning: All-NaN axis encountered\n",
      "  elif np.nanmax(image) == np.nanmin(image):\n",
      "/home/prachi/miniconda3/lib/python3.9/site-packages/yt/visualization/plot_window.py:1011: RuntimeWarning: All-NaN axis encountered\n",
      "  elif np.nanmax(image) <= 0:\n",
      "yt : [WARNING  ] 2021-10-08 16:48:41,666 Plotting ('boxlib', 'Ez'): All values = NaN.\n",
      "yt : [WARNING  ] 2021-10-08 16:48:41,667 Switching to linear colorbar scaling.\n",
      "/home/prachi/miniconda3/lib/python3.9/site-packages/unyt/array.py:1778: RuntimeWarning: divide by zero encountered in true_divide\n",
      "  out_arr = func(\n",
      "/home/prachi/miniconda3/lib/python3.9/site-packages/yt/visualization/base_plot_types.py:265: UserWarning: Attempting to set identical bottom == top == 0.0 results in singular transformations; automatically expanding.\n",
      "  self.image = self.axes.imshow(\n"
     ]
    },
    {
     "data": {
      "text/html": [
       "<img style=\"max-width:100%;max-height:100%;\" src=\"data:image/png;base64,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\"><br>"
      ],
      "text/plain": [
       "<yt.visualization.plot_window.AxisAlignedSlicePlot at 0x7f074a78fc40>"
      ]
     },
     "execution_count": 8,
     "metadata": {},
     "output_type": "execute_result"
    }
   ],
   "source": [
    "yt.SlicePlot( ds, 1, (\"boxlib\",\"Ez\"), aspect=1. )"
   ]
  },
  {
   "cell_type": "code",
   "execution_count": null,
   "id": "2c0dfe43",
   "metadata": {},
   "outputs": [],
   "source": []
  }
 ],
 "metadata": {
  "kernelspec": {
   "display_name": "Python 3",
   "language": "python",
   "name": "python3"
  },
  "language_info": {
   "codemirror_mode": {
    "name": "ipython",
    "version": 3
   },
   "file_extension": ".py",
   "mimetype": "text/x-python",
   "name": "python",
   "nbconvert_exporter": "python",
   "pygments_lexer": "ipython3",
   "version": "3.9.5"
  }
 },
 "nbformat": 4,
 "nbformat_minor": 5
}
