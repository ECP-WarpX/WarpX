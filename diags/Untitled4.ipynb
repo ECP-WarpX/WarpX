{
 "cells": [
  {
   "cell_type": "code",
   "execution_count": 2,
   "id": "273a0e9c",
   "metadata": {},
   "outputs": [],
   "source": [
    "import yt"
   ]
  },
  {
   "cell_type": "code",
   "execution_count": 3,
   "id": "1c605941",
   "metadata": {},
   "outputs": [
    {
     "name": "stderr",
     "output_type": "stream",
     "text": [
      "yt : [INFO     ] 2021-10-08 16:31:55,851 Parameters: current_time              = 8.860296278700894e-14\n",
      "yt : [INFO     ] 2021-10-08 16:31:55,852 Parameters: domain_dimensions         = [512   1   1]\n",
      "yt : [INFO     ] 2021-10-08 16:31:55,853 Parameters: domain_left_edge          = [0. 0. 0.]\n",
      "yt : [INFO     ] 2021-10-08 16:31:55,854 Parameters: domain_right_edge         = [0. 1. 1.]\n"
     ]
    }
   ],
   "source": [
    "ds = yt.load('./diag100200/')"
   ]
  },
  {
   "cell_type": "code",
   "execution_count": 4,
   "id": "445f64fa",
   "metadata": {},
   "outputs": [
    {
     "data": {
      "text/plain": [
       "[('all', 'particle_cpu'),\n",
       " ('all', 'particle_id'),\n",
       " ('all', 'particle_momentum_x'),\n",
       " ('all', 'particle_momentum_y'),\n",
       " ('all', 'particle_momentum_z'),\n",
       " ('all', 'particle_position_x'),\n",
       " ('all', 'particle_weight'),\n",
       " ('boxlib', 'Bx'),\n",
       " ('boxlib', 'By'),\n",
       " ('boxlib', 'Bz'),\n",
       " ('boxlib', 'Ex'),\n",
       " ('boxlib', 'Ey'),\n",
       " ('boxlib', 'Ez'),\n",
       " ('boxlib', 'jx'),\n",
       " ('boxlib', 'jy'),\n",
       " ('boxlib', 'jz'),\n",
       " ('boxlib', 'rho'),\n",
       " ('electrons', 'particle_cpu'),\n",
       " ('electrons', 'particle_id'),\n",
       " ('electrons', 'particle_momentum_x'),\n",
       " ('electrons', 'particle_momentum_y'),\n",
       " ('electrons', 'particle_momentum_z'),\n",
       " ('electrons', 'particle_position_x'),\n",
       " ('electrons', 'particle_weight'),\n",
       " ('nbody', 'particle_cpu'),\n",
       " ('nbody', 'particle_id'),\n",
       " ('nbody', 'particle_momentum_x'),\n",
       " ('nbody', 'particle_momentum_y'),\n",
       " ('nbody', 'particle_momentum_z'),\n",
       " ('nbody', 'particle_position_x'),\n",
       " ('nbody', 'particle_weight')]"
      ]
     },
     "execution_count": 4,
     "metadata": {},
     "output_type": "execute_result"
    }
   ],
   "source": [
    "ds.field_list"
   ]
  },
  {
   "cell_type": "code",
   "execution_count": null,
   "id": "ecca4a77",
   "metadata": {},
   "outputs": [],
   "source": [
    "plot = yt.LinePlot(ds, ('boxlib', 'Ez'), (0, 0, 0), (0, 1, 1), 512)\n",
    "plot.save()"
   ]
  },
  {
   "cell_type": "code",
   "execution_count": null,
   "id": "49046d08",
   "metadata": {},
   "outputs": [],
   "source": []
  },
  {
   "cell_type": "code",
   "execution_count": null,
   "id": "3cb737e6",
   "metadata": {},
   "outputs": [],
   "source": []
  },
  {
   "cell_type": "code",
   "execution_count": null,
   "id": "dd5ce5c5",
   "metadata": {},
   "outputs": [],
   "source": []
  }
 ],
 "metadata": {
  "kernelspec": {
   "display_name": "Python 3",
   "language": "python",
   "name": "python3"
  },
  "language_info": {
   "codemirror_mode": {
    "name": "ipython",
    "version": 3
   },
   "file_extension": ".py",
   "mimetype": "text/x-python",
   "name": "python",
   "nbconvert_exporter": "python",
   "pygments_lexer": "ipython3",
   "version": "3.9.5"
  }
 },
 "nbformat": 4,
 "nbformat_minor": 5
}
