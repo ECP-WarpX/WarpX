{
 "cells": [
  {
   "cell_type": "markdown",
   "metadata": {},
   "source": [
    "# Overview\n",
    "\n",
    "This notebook allows to use the `AMReX` library interactively in the Jupyter notebook.\n",
    "\n",
    "This is meant to help WarpX developers, by providing a way to quickly test/prototype AMReX-based code."
   ]
  },
  {
   "cell_type": "markdown",
   "metadata": {},
   "source": [
    "# Setup\n",
    "\n",
    "- Compile `AMReX` as a library as a dynamic library: from the `amrex` root source folder:\n",
    "```\n",
    "mkdir builddir\n",
    "cd builddir\n",
    "cmake .. -DBUILD_SHARED_LIBS=ON -DENABLE_MPI=OFF\n",
    "make install\n",
    "```\n",
    "(For MacOS, see [this page](https://amrex-codes.github.io/amrex/docs_html/BuildingAMReX.html#cmake-and-macos))\n",
    "\n",
    "This will create the library files in `tmp_install_dir/include` and `tmp_install_dir/lib`.\n",
    "\n",
    "- Create a new `conda` environment and install `xeus-cling`\n",
    "For Linux:\n",
    "```\n",
    "conda create -n xeus\n",
    "source activate xeus\n",
    "conda install -c conda-forge xeus-cling jupyter\n",
    "```\n",
    "For MacOS:\n",
    "```\n",
    "conda create -n xeus\n",
    "source activate xeus\n",
    "conda install -c QuantStack -c conda-forge xeus-cling jupyter\n",
    "```\n",
    "\n",
    "- **Optional:** in order to link the documentation:\n",
    "In the source folder of amrex, open the file `Docs/Doxygen/doxygen.conf` and change the line `GENERATE_TAGFILE       = ` to `GENERATE_TAGFILE       = amrex.tag.xml`, then run `doxygen doxygen.conf`. This creates a file `amrex.tag`. Copy this file to `$HOME/miniconda3/envs/xeus/share/xeus-cling/tagfiles/`. Then create a file `amrex.json` in `$HOME/miniconda3/envs/xeus/etc/xeus-cling/tags.d/`, and enter the following text:\n",
    "```\n",
    "{\n",
    "    \"url\": \"https://amrex-codes.github.io/amrex/doxygen/\",\n",
    "    \"tagfile\": \"amrex.tag\"\n",
    "}\n",
    "```\n",
    "\n",
    "- Copy this notebook outside of the source folder of WarpX (so that it is not tracked by `git`), and open it with `source activate xeus ; jupyter notebook`.\n",
    "\n",
    "- Change the paths of the cells below to the path of your amrex installation, and execute them"
   ]
  },
  {
   "cell_type": "code",
   "execution_count": null,
   "metadata": {},
   "outputs": [],
   "source": [
    "#pragma cling add_include_path(\"/home/rlehe/Documents/codes/warpx_directory/amrex/install_nompi_dynamic/include\")\n",
    "#pragma cling add_library_path(\"/home/rlehe/Documents/codes/warpx_directory/amrex/install_nompi_dynamic/lib\")\n",
    "#pragma cling load(\"libamrex.so\")"
   ]
  },
  {
   "cell_type": "code",
   "execution_count": null,
   "metadata": {},
   "outputs": [],
   "source": [
    "#define AMREX_SPACEDIM 3\n",
    "#include <AMReX.H>"
   ]
  },
  {
   "cell_type": "code",
   "execution_count": null,
   "metadata": {},
   "outputs": [],
   "source": [
    "MPI_Comm dummy_mpi_comm;\n",
    "amrex::Initialize(dummy_mpi_comm);"
   ]
  },
  {
   "cell_type": "markdown",
   "metadata": {},
   "source": [
    "# Example: typical MultiFab creation / looping\n",
    "\n",
    "- Create a box that represents the full domain, and a split it into a BoxArray"
   ]
  },
  {
   "cell_type": "code",
   "execution_count": null,
   "metadata": {},
   "outputs": [],
   "source": [
    "#include <AMReX_Print.H>\n",
    "#include <AMReX_IntVect.H>\n",
    "#include <AMReX_Box.H>\n",
    "#include <AMReX_BoxArray.H>\n",
    "using namespace amrex;"
   ]
  },
  {
   "cell_type": "code",
   "execution_count": null,
   "metadata": {},
   "outputs": [],
   "source": [
    "Box domain(IntVect{0,0,0}, IntVect{127,127,127});\n",
    "BoxArray ba(domain);  // Make a new BoxArray of size 128^3\n",
    "Print() << ba;"
   ]
  },
  {
   "cell_type": "code",
   "execution_count": null,
   "metadata": {},
   "outputs": [],
   "source": [
    "ba.maxSize(64);       // Chop into boxes of size 64^3\n",
    "Print() << ba;"
   ]
  },
  {
   "cell_type": "code",
   "execution_count": null,
   "metadata": {},
   "outputs": [],
   "source": [
    "?ba     // ba is a BoxArray ; get the doc for this"
   ]
  },
  {
   "cell_type": "code",
   "execution_count": null,
   "metadata": {},
   "outputs": [],
   "source": [
    "?ba[0]"
   ]
  },
  {
   "cell_type": "markdown",
   "metadata": {},
   "source": [
    "- Create a distribution mapping over the created BoxArray"
   ]
  },
  {
   "cell_type": "code",
   "execution_count": null,
   "metadata": {},
   "outputs": [],
   "source": [
    "#include <AMReX_DistributionMapping.H>"
   ]
  },
  {
   "cell_type": "code",
   "execution_count": null,
   "metadata": {},
   "outputs": [],
   "source": [
    "DistributionMapping dm{ba}; // Create distribution mapping from BoxArray"
   ]
  },
  {
   "cell_type": "code",
   "execution_count": null,
   "metadata": {},
   "outputs": [],
   "source": [
    "// Here, the mapping is trivial since we are using a single MPI proc\n",
    "Print() << \"Number of boxes: \" << dm.size() << std::endl;\n",
    "for (int i=0; i<dm.size(); i++){\n",
    "    Print() << \"Box number \" << i << \" is owned by MPI proc \" << dm[i] <<std::endl;\n",
    "}"
   ]
  },
  {
   "cell_type": "markdown",
   "metadata": {},
   "source": [
    "- Create a corresponding MultiFab"
   ]
  },
  {
   "cell_type": "code",
   "execution_count": null,
   "metadata": {},
   "outputs": [],
   "source": [
    "#include <AMReX_MultiFab.H>"
   ]
  },
  {
   "cell_type": "code",
   "execution_count": null,
   "metadata": {},
   "outputs": [],
   "source": [
    "int ncomp = 1;\n",
    "int ngrow = 0;\n",
    "MultiFab mf(ba, dm, ncomp, ngrow);"
   ]
  },
  {
   "cell_type": "code",
   "execution_count": null,
   "metadata": {},
   "outputs": [],
   "source": [
    "// Right now, the MultiFab allocated with non-sensical data, as it has not been initialize\n",
    "Print() << mf[0];"
   ]
  },
  {
   "cell_type": "code",
   "execution_count": null,
   "metadata": {},
   "outputs": [],
   "source": [
    "mf.setVal(0);\n",
    "Print() << mf[0];"
   ]
  }
 ],
 "metadata": {
  "kernelspec": {
   "display_name": "C++14",
   "language": "C++14",
   "name": "xeus-cling-cpp14"
  },
  "language_info": {
   "codemirror_mode": "text/x-c++src",
   "file_extension": ".cpp",
   "mimetype": "text/x-c++src",
   "name": "c++",
   "version": "-std=c++14"
  }
 },
 "nbformat": 4,
 "nbformat_minor": 2
}
