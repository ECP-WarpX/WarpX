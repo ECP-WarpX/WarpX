{
 "cells": [
  {
   "cell_type": "markdown",
   "metadata": {},
   "source": [
    "# Overview\n",
    "\n",
    "This notebook allows to use the `AMReX` library interactively in the Jupyter notebook.\n",
    "\n",
    "This is meant to help WarpX developers, by providing a way to quickly test/prototype AMReX-based code."
   ]
  },
  {
   "cell_type": "markdown",
   "metadata": {},
   "source": [
    "# Setup\n",
    "\n",
    "- Compile `AMReX` as a library as a dynamic library: from the `amrex` root source folder:\n",
    "```\n",
    "mkdir builddir\n",
    "cd builddir\n",
    "cmake .. -DBUILD_SHARED_LIBS=ON -DENABLE_MPI=OFF\n",
    "make install\n",
    "```\n",
    "(For MacOS, see [this page](https://amrex-codes.github.io/amrex/docs_html/BuildingAMReX.html#cmake-and-macos))\n",
    "\n",
    "This will create the library files in `tmp_install_dir/include` and `tmp_install_dir/lib`.\n",
    "\n",
    "- Create a new `conda` environment and do:\n",
    "```\n",
    "conda install -c conda-forge xeus-cling jupyter\n",
    "```"
   ]
  },
  {
   "cell_type": "code",
   "execution_count": null,
   "metadata": {},
   "outputs": [],
   "source": [
    "#pragma cling add_include_path(\"/home/rlehe/Documents/codes/warpx_directory/amrex/tmp_install_dir/include\")\n",
    "#pragma cling add_library_path(\"/home/rlehe/Documents/codes/warpx_directory/amrex/tmp_install_dir/lib\")\n",
    "#pragma cling load(\"/home/rlehe/Documents/codes/warpx_directory/amrex/tmp_install_dir/lib/libamrex.a\")"
   ]
  }
 ],
 "metadata": {
  "kernelspec": {
   "display_name": "C++14",
   "language": "C++14",
   "name": "xeus-cling-cpp14"
  },
  "language_info": {
   "codemirror_mode": "text/x-c++src",
   "file_extension": ".cpp",
   "mimetype": "text/x-c++src",
   "name": "c++",
   "version": "-std=c++14"
  }
 },
 "nbformat": 4,
 "nbformat_minor": 2
}
