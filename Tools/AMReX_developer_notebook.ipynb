{
 "cells": [
  {
   "cell_type": "markdown",
   "metadata": {},
   "source": [
    "# Overview\n",
    "\n",
    "This notebook allows to use the `AMReX` library interactively in the Jupyter notebook.\n",
    "\n",
    "This is meant to help WarpX developers, by providing a way to quickly test/prototype AMReX-based code."
   ]
  },
  {
   "cell_type": "markdown",
   "metadata": {},
   "source": [
    "# Setup\n",
    "\n",
    "- Compile `AMReX` as a library as a dynamic library: from the `amrex` root source folder:\n",
    "```\n",
    "mkdir builddir\n",
    "cd builddir\n",
    "cmake .. -DBUILD_SHARED_LIBS=ON -DENABLE_MPI=OFF\n",
    "make install\n",
    "```\n",
    "(For MacOS, see [this page](https://amrex-codes.github.io/amrex/docs_html/BuildingAMReX.html#cmake-and-macos))\n",
    "\n",
    "This will create the library files in `tmp_install_dir/include` and `tmp_install_dir/lib`.\n",
    "\n",
    "- Create a new `conda` environment and do:\n",
    "For Linux:\n",
    "```\n",
    "conda install -c conda-forge xeus-cling jupyter\n",
    "```\n",
    "For MacOS:\n",
    "```\n",
    "conda install -c QuantStack -c conda-forge xeus-cling jupyter\n",
    "```\n",
    "\n",
    "- Copy this notebook outside of the source folder of WarpX (so that it is not tracked by `git`), and open it with `jupyter notebook`.\n",
    "\n",
    "- Change the paths of the cells below to the path of your amrex installation, and execute them"
   ]
  },
  {
   "cell_type": "code",
   "execution_count": null,
   "metadata": {},
   "outputs": [],
   "source": [
    "#pragma cling add_include_path(\"/home/rlehe/Documents/codes/warpx_directory/amrex/install_nompi_dynamic/include\")\n",
    "#pragma cling add_library_path(\"/home/rlehe/Documents/codes/warpx_directory/amrex/install_nompi_dynamic/lib\")\n",
    "#pragma cling load(\"libamrex.so\")"
   ]
  },
  {
   "cell_type": "code",
   "execution_count": null,
   "metadata": {},
   "outputs": [],
   "source": [
    "#define AMREX_SPACEDIM 3\n",
    "#include <AMReX.H>"
   ]
  },
  {
   "cell_type": "code",
   "execution_count": null,
   "metadata": {},
   "outputs": [],
   "source": [
    "MPI_Comm dummy_mpi_comm;\n",
    "amrex::Initialize(dummy_mpi_comm);"
   ]
  },
  {
   "cell_type": "markdown",
   "metadata": {},
   "source": [
    "# Example"
   ]
  },
  {
   "cell_type": "code",
   "execution_count": null,
   "metadata": {},
   "outputs": [],
   "source": [
    "#include <AMReX_Box.H>\n",
    "#include <AMReX_IntVect.H>\n",
    "#include <AMReX_Print.H>"
   ]
  },
  {
   "cell_type": "code",
   "execution_count": null,
   "metadata": {},
   "outputs": [],
   "source": [
    "using namespace amrex;\n",
    "\n",
    "IntVect lo(AMREX_D_DECL(64,64,64));\n",
    "IntVect hi(AMREX_D_DECL(127,127,127));\n",
    "IndexType typ({AMREX_D_DECL(1,1,1)});\n",
    "Box cc(lo,hi);        // By default, Box is cell based.\n",
    "Box nd(lo,hi+1,typ);  // Construct a nodal Box."
   ]
  },
  {
   "cell_type": "code",
   "execution_count": null,
   "metadata": {},
   "outputs": [],
   "source": [
    "Print() << \"A cell-centered Box \" << cc << \"\\n\";"
   ]
  },
  {
   "cell_type": "code",
   "execution_count": null,
   "metadata": {},
   "outputs": [],
   "source": [
    "Print() << \"An all nodal Box    \" << nd << \"\\n\";"
   ]
  },
  {
   "cell_type": "code",
   "execution_count": null,
   "metadata": {},
   "outputs": [],
   "source": []
  }
 ],
 "metadata": {
  "kernelspec": {
   "display_name": "C++14",
   "language": "C++14",
   "name": "xeus-cling-cpp14"
  },
  "language_info": {
   "codemirror_mode": "text/x-c++src",
   "file_extension": ".cpp",
   "mimetype": "text/x-c++src",
   "name": "c++",
   "version": "-std=c++14"
  }
 },
 "nbformat": 4,
 "nbformat_minor": 2
}
