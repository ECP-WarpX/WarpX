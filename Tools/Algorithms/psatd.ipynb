{
 "cells": [
  {
   "cell_type": "code",
   "execution_count": 1,
   "metadata": {
    "scrolled": false
   },
   "outputs": [
    {
     "name": "stdout",
     "output_type": "stream",
     "text": [
      "IPython console for SymPy 1.9 (Python 3.8.10-64-bit) (ground types: python)\n",
      "\n",
      "These commands were executed:\n",
      ">>> from __future__ import division\n",
      ">>> from sympy import *\n",
      ">>> x, y, z, t = symbols('x y z t')\n",
      ">>> k, m, n = symbols('k m n', integer=True)\n",
      ">>> f, g, h = symbols('f g h', cls=Function)\n",
      ">>> init_printing()\n",
      "\n",
      "Documentation can be found at https://docs.sympy.org/1.9/\n",
      "\n"
     ]
    }
   ],
   "source": [
    "import sympy as sp\n",
    "from sympy import *\n",
    "from IPython.display import Math\n",
    "\n",
    "sp.init_session()\n",
    "sp.init_printing()"
   ]
  },
  {
   "cell_type": "markdown",
   "metadata": {},
   "source": [
    "### Selection of algorithm options:\n",
    "- \"$\\text{div}(\\boldsymbol{E})$ cleaning\" using additional scalar field $F$\n",
    "- \"$\\text{div}(\\boldsymbol{B})$ cleaning\" using additional scalar field $G$\n",
    "- $\\boldsymbol{J}$ constant, linear, or quadratic in time\n",
    "- $\\rho$ constant, linear, or quadratic in time"
   ]
  },
  {
   "cell_type": "code",
   "execution_count": 2,
   "metadata": {},
   "outputs": [],
   "source": [
    "divE_cleaning = True # If False, F does not show up in the equations\n",
    "divB_cleaning = True # If False, G does not show up in the equations\n",
    "J_in_time = 'constant'\n",
    "rho_in_time = 'constant'"
   ]
  },
  {
   "cell_type": "markdown",
   "metadata": {},
   "source": [
    "### Auxiliary functions:"
   ]
  },
  {
   "cell_type": "code",
   "execution_count": 3,
   "metadata": {},
   "outputs": [],
   "source": [
    "def check_diag(W, D, P, invP):\n",
    "    \"\"\"\n",
    "    Check diagonalization of W as P*D*P**(-1).\n",
    "    \"\"\"\n",
    "    Wd = P * D * invP\n",
    "    for i in range(Wd.shape[0]):\n",
    "        for j in range(Wd.shape[1]):\n",
    "            Wd[i,j] = Wd[i,j].expand().simplify()\n",
    "            diff = W[i,j] - Wd[i,j]\n",
    "            diff = diff.expand().simplify()\n",
    "            assert (diff == 0), f'Diagonalization failed: W[{i},{j}] - Wd[{i},{j}] = {diff} is not zero'\n",
    "\n",
    "def simple_mat(W):\n",
    "    \"\"\"\n",
    "    Simplify matrix W.\n",
    "    \"\"\"\n",
    "    for i in range(W.shape[0]):\n",
    "        for j in range(W.shape[1]):\n",
    "            W[i,j] = W[i,j].expand().simplify()\n",
    "            \n",
    "def limit(f, x, l):\n",
    "    \"\"\"\n",
    "    Compute limit of f at x=l.\n",
    "    \"\"\"\n",
    "    lim = f.series(x, l, 1).removeO() - f.series(x, l, 0).removeO()\n",
    "    lim = lim.simplify()\n",
    "    return lim"
   ]
  },
  {
   "cell_type": "markdown",
   "metadata": {},
   "source": [
    "### Definition of symbols:"
   ]
  },
  {
   "cell_type": "code",
   "execution_count": 4,
   "metadata": {},
   "outputs": [],
   "source": [
    "dim = 6\n",
    "if divE_cleaning:\n",
    "    dim += 1\n",
    "if divB_cleaning:\n",
    "    dim += 1\n",
    "\n",
    "c = sp.symbols(r'c', real=True, positive=True)\n",
    "mu0 = sp.symbols(r'\\mu_0', real=True, positive=True)\n",
    "\n",
    "s = sp.symbols(r's', real=True, positive=True)\n",
    "t = sp.symbols(r't', real=True, positive=True)\n",
    "tn = sp.symbols(r't_n', real=True, positive=True)\n",
    "dt = sp.symbols(r'\\Delta{t}', real=True, positive=True)\n",
    "\n",
    "# The assumption that kx, ky and kz are positive is general enough\n",
    "# and makes it easier for SymPy to perform some of the calculations\n",
    "kx = sp.symbols(r'k_x', real=True, positive=True)\n",
    "ky = sp.symbols(r'k_y', real=True, positive=True)\n",
    "kz = sp.symbols(r'k_z', real=True, positive=True)\n",
    "\n",
    "Ex = sp.symbols(r'E^x')\n",
    "Ey = sp.symbols(r'E^y')\n",
    "Ez = sp.symbols(r'E^z')\n",
    "E = Matrix([[Ex], [Ey], [Ez]])\n",
    "\n",
    "Bx = sp.symbols(r'B^x')\n",
    "By = sp.symbols(r'B^y')\n",
    "Bz = sp.symbols(r'B^z')\n",
    "B = Matrix([[Bx], [By], [Bz]])\n",
    "\n",
    "if divE_cleaning:\n",
    "    F = sp.symbols(r'F')\n",
    "\n",
    "if divB_cleaning:\n",
    "    G = sp.symbols(r'G')"
   ]
  },
  {
   "cell_type": "markdown",
   "metadata": {},
   "source": [
    "### First-order ODEs for $\\boldsymbol{E}$,  $\\boldsymbol{B}$, $F$ and $G$:"
   ]
  },
  {
   "cell_type": "code",
   "execution_count": 5,
   "metadata": {},
   "outputs": [],
   "source": [
    "dEx_dt = I*c**2*(ky*Bz-kz*By) \n",
    "dEy_dt = I*c**2*(kz*Bx-kx*Bz)\n",
    "dEz_dt = I*c**2*(kx*By-ky*Bx)\n",
    "\n",
    "dBx_dt = -I*(ky*Ez-kz*Ey)\n",
    "dBy_dt = -I*(kz*Ex-kx*Ez)\n",
    "dBz_dt = -I*(kx*Ey-ky*Ex)\n",
    "\n",
    "if divE_cleaning:\n",
    "    dEx_dt += I*c**2*F*kx \n",
    "    dEy_dt += I*c**2*F*ky\n",
    "    dEz_dt += I*c**2*F*kz\n",
    "    dF_dt = I*(kx*Ex+ky*Ey+kz*Ez)\n",
    "\n",
    "if divB_cleaning:\n",
    "    dBx_dt += I*c**2*G*kx\n",
    "    dBy_dt += I*c**2*G*ky\n",
    "    dBz_dt += I*c**2*G*kz\n",
    "    dG_dt = I*(kx*Bx+ky*By+kz*Bz)\n",
    "\n",
    "dE_dt = Matrix([[dEx_dt], [dEy_dt], [dEz_dt]])\n",
    "dB_dt = Matrix([[dBx_dt], [dBy_dt], [dBz_dt]])"
   ]
  },
  {
   "cell_type": "markdown",
   "metadata": {},
   "source": [
    "### Linear system of ODEs for $\\boldsymbol{E}$, $\\boldsymbol{B}$, $F$ and $G$:\n",
    "$$\n",
    "\\frac{\\partial}{\\partial t}\n",
    "\\begin{bmatrix}\n",
    "\\boldsymbol{E} \\\\\n",
    "\\boldsymbol{B} \\\\\n",
    "F \\\\\n",
    "G\n",
    "\\end{bmatrix}\n",
    "= M\n",
    "\\begin{bmatrix}\n",
    "\\boldsymbol{E} \\\\\n",
    "\\boldsymbol{B} \\\\\n",
    "F \\\\\n",
    "G\n",
    "\\end{bmatrix}\n",
    "-\\mu_0 c^2 \n",
    "\\begin{bmatrix}\n",
    "\\boldsymbol{J} \\\\\n",
    "\\boldsymbol{0} \\\\\n",
    "\\rho \\\\\n",
    " 0\n",
    "\\end{bmatrix}\n",
    "$$"
   ]
  },
  {
   "cell_type": "code",
   "execution_count": 6,
   "metadata": {},
   "outputs": [
    {
     "name": "stdout",
     "output_type": "stream",
     "text": [
      "M = \n"
     ]
    },
    {
     "data": {
      "image/png": "[encoded data removed]",
      "text/latex": [
       "$\\displaystyle \\left[\\begin{matrix}0 & 0 & 0 & 0 & - i c^{2} k_{z} & i c^{2} k_{y} & i c^{2} k_{x} & 0\\\\0 & 0 & 0 & i c^{2} k_{z} & 0 & - i c^{2} k_{x} & i c^{2} k_{y} & 0\\\\0 & 0 & 0 & - i c^{2} k_{y} & i c^{2} k_{x} & 0 & i c^{2} k_{z} & 0\\\\0 & i k_{z} & - i k_{y} & 0 & 0 & 0 & 0 & i c^{2} k_{x}\\\\- i k_{z} & 0 & i k_{x} & 0 & 0 & 0 & 0 & i c^{2} k_{y}\\\\i k_{y} & - i k_{x} & 0 & 0 & 0 & 0 & 0 & i c^{2} k_{z}\\\\i k_{x} & i k_{y} & i k_{z} & 0 & 0 & 0 & 0 & 0\\\\0 & 0 & 0 & i k_{x} & i k_{y} & i k_{z} & 0 & 0\\end{matrix}\\right]$"
      ],
      "text/plain": [
       "⎡                                      2         2         2              ⎤\n",
       "⎢  0       0      0         0      -ⅈ⋅c ⋅k_z  ⅈ⋅c ⋅k_y  ⅈ⋅c ⋅kₓ      0    ⎥\n",
       "⎢                                                                         ⎥\n",
       "⎢                          2                      2        2              ⎥\n",
       "⎢  0       0      0     ⅈ⋅c ⋅k_z       0      -ⅈ⋅c ⋅kₓ  ⅈ⋅c ⋅k_y     0    ⎥\n",
       "⎢                                                                         ⎥\n",
       "⎢                           2          2                   2              ⎥\n",
       "⎢  0       0      0     -ⅈ⋅c ⋅k_y   ⅈ⋅c ⋅kₓ      0      ⅈ⋅c ⋅k_z     0    ⎥\n",
       "⎢                                                                         ⎥\n",
       "⎢                                                                    2    ⎥\n",
       "⎢  0     ⅈ⋅k_z  -ⅈ⋅k_y      0          0         0         0      ⅈ⋅c ⋅kₓ ⎥\n",
       "⎢                                                                         ⎥\n",
       "⎢                                                                    2    ⎥\n",
       "⎢-ⅈ⋅k_z    0     ⅈ⋅kₓ       0          0         0         0      ⅈ⋅c ⋅k_y⎥\n",
       "⎢                                                                         ⎥\n",
       "⎢                                                                    2    ⎥\n",
       "⎢ⅈ⋅k_y   -ⅈ⋅kₓ    0         0          0         0         0      ⅈ⋅c ⋅k_z⎥\n",
       "⎢                                                                         ⎥\n",
       "⎢ ⅈ⋅kₓ   ⅈ⋅k_y  ⅈ⋅k_z       0          0         0         0         0    ⎥\n",
       "⎢                                                                         ⎥\n",
       "⎣  0       0      0       ⅈ⋅kₓ       ⅈ⋅k_y     ⅈ⋅k_z       0         0    ⎦"
      ]
     },
     "metadata": {},
     "output_type": "display_data"
    }
   ],
   "source": [
    "fields_list = [Ex, Ey, Ez, Bx, By, Bz]\n",
    "if divE_cleaning:\n",
    "    fields_list.append(F)\n",
    "if divB_cleaning:\n",
    "    fields_list.append(G)\n",
    "\n",
    "EBFG = zeros(dim, 1)\n",
    "for i in range(EBFG.shape[0]):\n",
    "    EBFG[i] = fields_list[i]\n",
    "\n",
    "fields_list = [dEx_dt, dEy_dt, dEz_dt, dBx_dt, dBy_dt, dBz_dt]\n",
    "if divE_cleaning:\n",
    "    fields_list.append(dF_dt)\n",
    "if divB_cleaning:\n",
    "    fields_list.append(dG_dt)\n",
    "\n",
    "dEBFG_dt = zeros(dim, 1)\n",
    "for i in range(dEBFG_dt.shape[0]):\n",
    "    dEBFG_dt[i] = fields_list[i]\n",
    "dEBFG_dt = dEBFG_dt.expand()\n",
    "\n",
    "M = zeros(dim)\n",
    "for i in range(M.shape[0]):\n",
    "    for j in range(M.shape[1]):\n",
    "        M[i,j] = dEBFG_dt[i].coeff(EBFG[j], 1)\n",
    "print(r'M = ')\n",
    "display(M)"
   ]
  },
  {
   "cell_type": "markdown",
   "metadata": {},
   "source": [
    "### Diagonalization of $W_1 = M (t-t_n) = P_1 D_1 P_1^{-1}$:"
   ]
  },
  {
   "cell_type": "code",
   "execution_count": 7,
   "metadata": {},
   "outputs": [
    {
     "name": "stdout",
     "output_type": "stream",
     "text": [
      "P1 = \n"
     ]
    },
    {
     "data": {
      "image/png": "[encoded data removed]",
      "text/latex": [
       "$\\displaystyle \\left[\\begin{matrix}\\frac{c k_{z}}{\\sqrt{k_{x}^{2} + k_{y}^{2} + k_{z}^{2}}} & - \\frac{c k_{y}}{\\sqrt{k_{x}^{2} + k_{y}^{2} + k_{z}^{2}}} & - \\frac{c k_{x}}{\\sqrt{k_{x}^{2} + k_{y}^{2} + k_{z}^{2}}} & 0 & - \\frac{c k_{z}}{\\sqrt{k_{x}^{2} + k_{y}^{2} + k_{z}^{2}}} & \\frac{c k_{y}}{\\sqrt{k_{x}^{2} + k_{y}^{2} + k_{z}^{2}}} & \\frac{c k_{x}}{\\sqrt{k_{x}^{2} + k_{y}^{2} + k_{z}^{2}}} & 0\\\\\\frac{c k_{y} k_{z}}{k_{x} \\sqrt{k_{x}^{2} + k_{y}^{2} + k_{z}^{2}}} & \\frac{c \\left(k_{x}^{2} + k_{z}^{2}\\right)}{k_{x} \\sqrt{k_{x}^{2} + k_{y}^{2} + k_{z}^{2}}} & - \\frac{c k_{y}}{\\sqrt{k_{x}^{2} + k_{y}^{2} + k_{z}^{2}}} & \\frac{c^{2} k_{z}}{k_{x}} & - \\frac{c k_{y} k_{z}}{k_{x} \\sqrt{k_{x}^{2} + k_{y}^{2} + k_{z}^{2}}} & - \\frac{c \\left(k_{x}^{2} + k_{z}^{2}\\right)}{k_{x} \\sqrt{k_{x}^{2} + k_{y}^{2} + k_{z}^{2}}} & \\frac{c k_{y}}{\\sqrt{k_{x}^{2} + k_{y}^{2} + k_{z}^{2}}} & \\frac{c^{2} k_{z}}{k_{x}}\\\\- \\frac{c \\left(k_{x}^{2} + k_{y}^{2}\\right)}{k_{x} \\sqrt{k_{x}^{2} + k_{y}^{2} + k_{z}^{2}}} & - \\frac{c k_{y} k_{z}}{k_{x} \\sqrt{k_{x}^{2} + k_{y}^{2} + k_{z}^{2}}} & - \\frac{c k_{z}}{\\sqrt{k_{x}^{2} + k_{y}^{2} + k_{z}^{2}}} & - \\frac{c^{2} k_{y}}{k_{x}} & \\frac{c \\left(k_{x}^{2} + k_{y}^{2}\\right)}{k_{x} \\sqrt{k_{x}^{2} + k_{y}^{2} + k_{z}^{2}}} & \\frac{c k_{y} k_{z}}{k_{x} \\sqrt{k_{x}^{2} + k_{y}^{2} + k_{z}^{2}}} & \\frac{c k_{z}}{\\sqrt{k_{x}^{2} + k_{y}^{2} + k_{z}^{2}}} & - \\frac{c^{2} k_{y}}{k_{x}}\\\\- \\frac{k_{y}}{k_{x}} & - \\frac{k_{z}}{k_{x}} & 0 & - \\frac{c \\sqrt{k_{x}^{2} + k_{y}^{2} + k_{z}^{2}}}{k_{x}} & - \\frac{k_{y}}{k_{x}} & - \\frac{k_{z}}{k_{x}} & 0 & \\frac{c \\sqrt{k_{x}^{2} + k_{y}^{2} + k_{z}^{2}}}{k_{x}}\\\\1 & 0 & 0 & 0 & 1 & 0 & 0 & 0\\\\0 & 1 & 0 & 0 & 0 & 1 & 0 & 0\\\\0 & 0 & 1 & 0 & 0 & 0 & 1 & 0\\\\0 & 0 & 0 & 1 & 0 & 0 & 0 & 1\\end{matrix}\\right]$"
      ],
      "text/plain": [
       "⎡         c⋅k_z                     -c⋅k_y                     -c⋅kₓ          \n",
       "⎢ ──────────────────────     ──────────────────────    ────────────────────── \n",
       "⎢    ___________________        ___________________       ___________________ \n",
       "⎢   ╱   2      2      2        ╱   2      2      2       ╱   2      2      2  \n",
       "⎢ ╲╱  kₓ  + k_y  + k_z       ╲╱  kₓ  + k_y  + k_z      ╲╱  kₓ  + k_y  + k_z   \n",
       "⎢                                                                             \n",
       "⎢                                   ⎛  2      2⎞                              \n",
       "⎢        c⋅k_y⋅k_z                c⋅⎝kₓ  + k_z ⎠              -c⋅k_y          \n",
       "⎢─────────────────────────  ─────────────────────────  ────────────────────── \n",
       "⎢      ___________________        ___________________     ___________________ \n",
       "⎢     ╱   2      2      2        ╱   2      2      2     ╱   2      2      2  \n",
       "⎢kₓ⋅╲╱  kₓ  + k_y  + k_z    kₓ⋅╲╱  kₓ  + k_y  + k_z    ╲╱  kₓ  + k_y  + k_z   \n",
       "⎢                                                                             \n",
       "⎢        ⎛  2      2⎞                                                         \n",
       "⎢     -c⋅⎝kₓ  + k_y ⎠              -c⋅k_y⋅k_z                 -c⋅k_z          \n",
       "⎢─────────────────────────  ─────────────────────────  ────────────────────── \n",
       "⎢      ___________________        ___________________     ___________________ \n",
       "⎢     ╱   2      2      2        ╱   2      2      2     ╱   2      2      2  \n",
       "⎢kₓ⋅╲╱  kₓ  + k_y  + k_z    kₓ⋅╲╱  kₓ  + k_y  + k_z    ╲╱  kₓ  + k_y  + k_z   \n",
       "⎢                                                                             \n",
       "⎢                                                                             \n",
       "⎢                                                                             \n",
       "⎢          -k_y                       -k_z                                    \n",
       "⎢          ─────                      ─────                      0            \n",
       "⎢            kₓ                         kₓ                                    \n",
       "⎢                                                                             \n",
       "⎢            1                          0                        0            \n",
       "⎢                                                                             \n",
       "⎢            0                          1                        0            \n",
       "⎢                                                                             \n",
       "⎢            0                          0                        1            \n",
       "⎢                                                                             \n",
       "⎣            0                          0                        0            \n",
       "\n",
       "                                     -c⋅k_z                      c⋅k_y        \n",
       "             0                ──────────────────────     ─────────────────────\n",
       "                                 ___________________        __________________\n",
       "                                ╱   2      2      2        ╱   2      2      2\n",
       "                              ╲╱  kₓ  + k_y  + k_z       ╲╱  kₓ  + k_y  + k_z \n",
       "                                                                              \n",
       "            2                                                   ⎛  2      2⎞  \n",
       "           c ⋅k_z                   -c⋅k_y⋅k_z               -c⋅⎝kₓ  + k_z ⎠  \n",
       "           ──────            ─────────────────────────  ──────────────────────\n",
       "             kₓ                    ___________________        ________________\n",
       "                                  ╱   2      2      2        ╱   2      2     \n",
       "                             kₓ⋅╲╱  kₓ  + k_y  + k_z    kₓ⋅╲╱  kₓ  + k_y  + k_\n",
       "                                                                              \n",
       "            2                        ⎛  2      2⎞                             \n",
       "          -c ⋅k_y                  c⋅⎝kₓ  + k_y ⎠               c⋅k_y⋅k_z     \n",
       "          ────────           ─────────────────────────  ──────────────────────\n",
       "             kₓ                    ___________________        ________________\n",
       "                                  ╱   2      2      2        ╱   2      2     \n",
       "                             kₓ⋅╲╱  kₓ  + k_y  + k_z    kₓ⋅╲╱  kₓ  + k_y  + k_\n",
       "                                                                              \n",
       "       ___________________                                                    \n",
       "      ╱   2      2      2                                                     \n",
       " -c⋅╲╱  kₓ  + k_y  + k_z               -k_y                       -k_z        \n",
       " ──────────────────────────            ─────                      ─────       \n",
       "             kₓ                          kₓ                         kₓ        \n",
       "                                                                              \n",
       "             0                           1                          0         \n",
       "                                                                              \n",
       "             0                           0                          1         \n",
       "                                                                              \n",
       "             0                           0                          0         \n",
       "                                                                              \n",
       "             1                           0                          0         \n",
       "\n",
       "              c⋅kₓ                                   ⎤\n",
       "─    ──────────────────────             0            ⎥\n",
       "_       ___________________                          ⎥\n",
       "       ╱   2      2      2                           ⎥\n",
       "     ╲╱  kₓ  + k_y  + k_z                            ⎥\n",
       "                                                     ⎥\n",
       "                                       2             ⎥\n",
       "             c⋅k_y                    c ⋅k_z         ⎥\n",
       "───  ──────────────────────           ──────         ⎥\n",
       "___     ___________________             kₓ           ⎥\n",
       " 2     ╱   2      2      2                           ⎥\n",
       "z    ╲╱  kₓ  + k_y  + k_z                            ⎥\n",
       "                                                     ⎥\n",
       "                                       2             ⎥\n",
       "             c⋅k_z                   -c ⋅k_y         ⎥\n",
       "───  ──────────────────────          ────────        ⎥\n",
       "___     ___________________             kₓ           ⎥\n",
       " 2     ╱   2      2      2                           ⎥\n",
       "z    ╲╱  kₓ  + k_y  + k_z                            ⎥\n",
       "                                                     ⎥\n",
       "                                  ___________________⎥\n",
       "                                 ╱   2      2      2 ⎥\n",
       "                             c⋅╲╱  kₓ  + k_y  + k_z  ⎥\n",
       "               0             ────────────────────────⎥\n",
       "                                        kₓ           ⎥\n",
       "                                                     ⎥\n",
       "               0                        0            ⎥\n",
       "                                                     ⎥\n",
       "               0                        0            ⎥\n",
       "                                                     ⎥\n",
       "               1                        0            ⎥\n",
       "                                                     ⎥\n",
       "               0                        1            ⎦"
      ]
     },
     "metadata": {},
     "output_type": "display_data"
    },
    {
     "name": "stdout",
     "output_type": "stream",
     "text": [
      "D1 = \n"
     ]
    },
    {
     "data": {
      "image/png": "[encoded data removed]",
      "text/latex": [
       "$\\displaystyle \\left[\\begin{matrix}- c \\left(t - t_{n}\\right) \\sqrt{- k_{x}^{2} - k_{y}^{2} - k_{z}^{2}} & 0 & 0 & 0 & 0 & 0 & 0 & 0\\\\0 & - c \\left(t - t_{n}\\right) \\sqrt{- k_{x}^{2} - k_{y}^{2} - k_{z}^{2}} & 0 & 0 & 0 & 0 & 0 & 0\\\\0 & 0 & - c \\left(t - t_{n}\\right) \\sqrt{- k_{x}^{2} - k_{y}^{2} - k_{z}^{2}} & 0 & 0 & 0 & 0 & 0\\\\0 & 0 & 0 & - c \\left(t - t_{n}\\right) \\sqrt{- k_{x}^{2} - k_{y}^{2} - k_{z}^{2}} & 0 & 0 & 0 & 0\\\\0 & 0 & 0 & 0 & c \\left(t - t_{n}\\right) \\sqrt{- k_{x}^{2} - k_{y}^{2} - k_{z}^{2}} & 0 & 0 & 0\\\\0 & 0 & 0 & 0 & 0 & c \\left(t - t_{n}\\right) \\sqrt{- k_{x}^{2} - k_{y}^{2} - k_{z}^{2}} & 0 & 0\\\\0 & 0 & 0 & 0 & 0 & 0 & c \\left(t - t_{n}\\right) \\sqrt{- k_{x}^{2} - k_{y}^{2} - k_{z}^{2}} & 0\\\\0 & 0 & 0 & 0 & 0 & 0 & 0 & c \\left(t - t_{n}\\right) \\sqrt{- k_{x}^{2} - k_{y}^{2} - k_{z}^{2}}\\end{matrix}\\right]$"
      ],
      "text/plain": [
       "⎡               _____________________                                         \n",
       "⎢              ╱     2      2      2                                          \n",
       "⎢-c⋅(t - tₙ)⋅╲╱  - kₓ  - k_y  - k_z                     0                     \n",
       "⎢                                                                             \n",
       "⎢                                                     _____________________   \n",
       "⎢                                                    ╱     2      2      2    \n",
       "⎢                 0                    -c⋅(t - tₙ)⋅╲╱  - kₓ  - k_y  - k_z     \n",
       "⎢                                                                             \n",
       "⎢                                                                             \n",
       "⎢                                                                             \n",
       "⎢                 0                                     0                    -\n",
       "⎢                                                                             \n",
       "⎢                                                                             \n",
       "⎢                                                                             \n",
       "⎢                 0                                     0                     \n",
       "⎢                                                                             \n",
       "⎢                                                                             \n",
       "⎢                                                                             \n",
       "⎢                 0                                     0                     \n",
       "⎢                                                                             \n",
       "⎢                                                                             \n",
       "⎢                                                                             \n",
       "⎢                 0                                     0                     \n",
       "⎢                                                                             \n",
       "⎢                                                                             \n",
       "⎢                                                                             \n",
       "⎢                 0                                     0                     \n",
       "⎢                                                                             \n",
       "⎢                                                                             \n",
       "⎢                                                                             \n",
       "⎣                 0                                     0                     \n",
       "\n",
       "                                                                              \n",
       "                                                                              \n",
       "                0                                     0                       \n",
       "                                                                              \n",
       "                                                                              \n",
       "                                                                              \n",
       "                0                                     0                       \n",
       "                                                                              \n",
       "              _____________________                                           \n",
       "             ╱     2      2      2                                            \n",
       "c⋅(t - tₙ)⋅╲╱  - kₓ  - k_y  - k_z                     0                       \n",
       "                                                                              \n",
       "                                                    _____________________     \n",
       "                                                   ╱     2      2      2      \n",
       "                0                    -c⋅(t - tₙ)⋅╲╱  - kₓ  - k_y  - k_z       \n",
       "                                                                              \n",
       "                                                                              \n",
       "                                                                              \n",
       "                0                                     0                    c⋅(\n",
       "                                                                              \n",
       "                                                                              \n",
       "                                                                              \n",
       "                0                                     0                       \n",
       "                                                                              \n",
       "                                                                              \n",
       "                                                                              \n",
       "                0                                     0                       \n",
       "                                                                              \n",
       "                                                                              \n",
       "                                                                              \n",
       "                0                                     0                       \n",
       "\n",
       "                                                                              \n",
       "                                                                              \n",
       "              0                                    0                          \n",
       "                                                                              \n",
       "                                                                              \n",
       "                                                                              \n",
       "              0                                    0                          \n",
       "                                                                              \n",
       "                                                                              \n",
       "                                                                              \n",
       "              0                                    0                          \n",
       "                                                                              \n",
       "                                                                              \n",
       "                                                                              \n",
       "              0                                    0                          \n",
       "                                                                              \n",
       "           _____________________                                              \n",
       "          ╱     2      2      2                                               \n",
       "t - tₙ)⋅╲╱  - kₓ  - k_y  - k_z                     0                          \n",
       "                                                                              \n",
       "                                                _____________________         \n",
       "                                               ╱     2      2      2          \n",
       "              0                   c⋅(t - tₙ)⋅╲╱  - kₓ  - k_y  - k_z           \n",
       "                                                                              \n",
       "                                                                              \n",
       "                                                                              \n",
       "              0                                    0                   c⋅(t - \n",
       "                                                                              \n",
       "                                                                              \n",
       "                                                                              \n",
       "              0                                    0                          \n",
       "\n",
       "                                                                 ⎤\n",
       "                                                                 ⎥\n",
       "          0                                    0                 ⎥\n",
       "                                                                 ⎥\n",
       "                                                                 ⎥\n",
       "                                                                 ⎥\n",
       "          0                                    0                 ⎥\n",
       "                                                                 ⎥\n",
       "                                                                 ⎥\n",
       "                                                                 ⎥\n",
       "          0                                    0                 ⎥\n",
       "                                                                 ⎥\n",
       "                                                                 ⎥\n",
       "                                                                 ⎥\n",
       "          0                                    0                 ⎥\n",
       "                                                                 ⎥\n",
       "                                                                 ⎥\n",
       "                                                                 ⎥\n",
       "          0                                    0                 ⎥\n",
       "                                                                 ⎥\n",
       "                                                                 ⎥\n",
       "                                                                 ⎥\n",
       "          0                                    0                 ⎥\n",
       "                                                                 ⎥\n",
       "       _____________________                                     ⎥\n",
       "      ╱     2      2      2                                      ⎥\n",
       "tₙ)⋅╲╱  - kₓ  - k_y  - k_z                     0                 ⎥\n",
       "                                                                 ⎥\n",
       "                                            _____________________⎥\n",
       "                                           ╱     2      2      2 ⎥\n",
       "          0                   c⋅(t - tₙ)⋅╲╱  - kₓ  - k_y  - k_z  ⎦"
      ]
     },
     "metadata": {},
     "output_type": "display_data"
    },
    {
     "name": "stdout",
     "output_type": "stream",
     "text": [
      "CPU times: user 54.2 s, sys: 27.4 ms, total: 54.2 s\n",
      "Wall time: 54.7 s\n"
     ]
    }
   ],
   "source": [
    "%%time\n",
    "\n",
    "W1 = M * (t-tn)\n",
    "P1, D1 = W1.diagonalize()\n",
    "invP1 = P1**(-1)\n",
    "expD1 = exp(D1)\n",
    "check_diag(W1, D1, P1, invP1)\n",
    "print('P1 = ')\n",
    "display(P1)\n",
    "print('D1 = ')\n",
    "display(D1)"
   ]
  },
  {
   "cell_type": "markdown",
   "metadata": {},
   "source": [
    "### Diagonalization of $W_2 = M t = P_2 D_2 P_2^{-1}$:"
   ]
  },
  {
   "cell_type": "code",
   "execution_count": 8,
   "metadata": {},
   "outputs": [
    {
     "name": "stdout",
     "output_type": "stream",
     "text": [
      "P2 = \n"
     ]
    },
    {
     "data": {
      "image/png": "[encoded data removed]",
      "text/latex": [
       "$\\displaystyle \\left[\\begin{matrix}\\frac{c k_{z}}{\\sqrt{k_{x}^{2} + k_{y}^{2} + k_{z}^{2}}} & - \\frac{c k_{y}}{\\sqrt{k_{x}^{2} + k_{y}^{2} + k_{z}^{2}}} & - \\frac{c k_{x}}{\\sqrt{k_{x}^{2} + k_{y}^{2} + k_{z}^{2}}} & 0 & - \\frac{c k_{z}}{\\sqrt{k_{x}^{2} + k_{y}^{2} + k_{z}^{2}}} & \\frac{c k_{y}}{\\sqrt{k_{x}^{2} + k_{y}^{2} + k_{z}^{2}}} & \\frac{c k_{x}}{\\sqrt{k_{x}^{2} + k_{y}^{2} + k_{z}^{2}}} & 0\\\\\\frac{c k_{y} k_{z}}{k_{x} \\sqrt{k_{x}^{2} + k_{y}^{2} + k_{z}^{2}}} & \\frac{c \\left(k_{x}^{2} + k_{z}^{2}\\right)}{k_{x} \\sqrt{k_{x}^{2} + k_{y}^{2} + k_{z}^{2}}} & - \\frac{c k_{y}}{\\sqrt{k_{x}^{2} + k_{y}^{2} + k_{z}^{2}}} & \\frac{c^{2} k_{z}}{k_{x}} & - \\frac{c k_{y} k_{z}}{k_{x} \\sqrt{k_{x}^{2} + k_{y}^{2} + k_{z}^{2}}} & - \\frac{c \\left(k_{x}^{2} + k_{z}^{2}\\right)}{k_{x} \\sqrt{k_{x}^{2} + k_{y}^{2} + k_{z}^{2}}} & \\frac{c k_{y}}{\\sqrt{k_{x}^{2} + k_{y}^{2} + k_{z}^{2}}} & \\frac{c^{2} k_{z}}{k_{x}}\\\\- \\frac{c \\left(k_{x}^{2} + k_{y}^{2}\\right)}{k_{x} \\sqrt{k_{x}^{2} + k_{y}^{2} + k_{z}^{2}}} & - \\frac{c k_{y} k_{z}}{k_{x} \\sqrt{k_{x}^{2} + k_{y}^{2} + k_{z}^{2}}} & - \\frac{c k_{z}}{\\sqrt{k_{x}^{2} + k_{y}^{2} + k_{z}^{2}}} & - \\frac{c^{2} k_{y}}{k_{x}} & \\frac{c \\left(k_{x}^{2} + k_{y}^{2}\\right)}{k_{x} \\sqrt{k_{x}^{2} + k_{y}^{2} + k_{z}^{2}}} & \\frac{c k_{y} k_{z}}{k_{x} \\sqrt{k_{x}^{2} + k_{y}^{2} + k_{z}^{2}}} & \\frac{c k_{z}}{\\sqrt{k_{x}^{2} + k_{y}^{2} + k_{z}^{2}}} & - \\frac{c^{2} k_{y}}{k_{x}}\\\\- \\frac{k_{y}}{k_{x}} & - \\frac{k_{z}}{k_{x}} & 0 & - \\frac{c \\sqrt{k_{x}^{2} + k_{y}^{2} + k_{z}^{2}}}{k_{x}} & - \\frac{k_{y}}{k_{x}} & - \\frac{k_{z}}{k_{x}} & 0 & \\frac{c \\sqrt{k_{x}^{2} + k_{y}^{2} + k_{z}^{2}}}{k_{x}}\\\\1 & 0 & 0 & 0 & 1 & 0 & 0 & 0\\\\0 & 1 & 0 & 0 & 0 & 1 & 0 & 0\\\\0 & 0 & 1 & 0 & 0 & 0 & 1 & 0\\\\0 & 0 & 0 & 1 & 0 & 0 & 0 & 1\\end{matrix}\\right]$"
      ],
      "text/plain": [
       "⎡         c⋅k_z                     -c⋅k_y                     -c⋅kₓ          \n",
       "⎢ ──────────────────────     ──────────────────────    ────────────────────── \n",
       "⎢    ___________________        ___________________       ___________________ \n",
       "⎢   ╱   2      2      2        ╱   2      2      2       ╱   2      2      2  \n",
       "⎢ ╲╱  kₓ  + k_y  + k_z       ╲╱  kₓ  + k_y  + k_z      ╲╱  kₓ  + k_y  + k_z   \n",
       "⎢                                                                             \n",
       "⎢                                   ⎛  2      2⎞                              \n",
       "⎢        c⋅k_y⋅k_z                c⋅⎝kₓ  + k_z ⎠              -c⋅k_y          \n",
       "⎢─────────────────────────  ─────────────────────────  ────────────────────── \n",
       "⎢      ___________________        ___________________     ___________________ \n",
       "⎢     ╱   2      2      2        ╱   2      2      2     ╱   2      2      2  \n",
       "⎢kₓ⋅╲╱  kₓ  + k_y  + k_z    kₓ⋅╲╱  kₓ  + k_y  + k_z    ╲╱  kₓ  + k_y  + k_z   \n",
       "⎢                                                                             \n",
       "⎢        ⎛  2      2⎞                                                         \n",
       "⎢     -c⋅⎝kₓ  + k_y ⎠              -c⋅k_y⋅k_z                 -c⋅k_z          \n",
       "⎢─────────────────────────  ─────────────────────────  ────────────────────── \n",
       "⎢      ___________________        ___________________     ___________________ \n",
       "⎢     ╱   2      2      2        ╱   2      2      2     ╱   2      2      2  \n",
       "⎢kₓ⋅╲╱  kₓ  + k_y  + k_z    kₓ⋅╲╱  kₓ  + k_y  + k_z    ╲╱  kₓ  + k_y  + k_z   \n",
       "⎢                                                                             \n",
       "⎢                                                                             \n",
       "⎢                                                                             \n",
       "⎢          -k_y                       -k_z                                    \n",
       "⎢          ─────                      ─────                      0            \n",
       "⎢            kₓ                         kₓ                                    \n",
       "⎢                                                                             \n",
       "⎢            1                          0                        0            \n",
       "⎢                                                                             \n",
       "⎢            0                          1                        0            \n",
       "⎢                                                                             \n",
       "⎢            0                          0                        1            \n",
       "⎢                                                                             \n",
       "⎣            0                          0                        0            \n",
       "\n",
       "                                     -c⋅k_z                      c⋅k_y        \n",
       "             0                ──────────────────────     ─────────────────────\n",
       "                                 ___________________        __________________\n",
       "                                ╱   2      2      2        ╱   2      2      2\n",
       "                              ╲╱  kₓ  + k_y  + k_z       ╲╱  kₓ  + k_y  + k_z \n",
       "                                                                              \n",
       "            2                                                   ⎛  2      2⎞  \n",
       "           c ⋅k_z                   -c⋅k_y⋅k_z               -c⋅⎝kₓ  + k_z ⎠  \n",
       "           ──────            ─────────────────────────  ──────────────────────\n",
       "             kₓ                    ___________________        ________________\n",
       "                                  ╱   2      2      2        ╱   2      2     \n",
       "                             kₓ⋅╲╱  kₓ  + k_y  + k_z    kₓ⋅╲╱  kₓ  + k_y  + k_\n",
       "                                                                              \n",
       "            2                        ⎛  2      2⎞                             \n",
       "          -c ⋅k_y                  c⋅⎝kₓ  + k_y ⎠               c⋅k_y⋅k_z     \n",
       "          ────────           ─────────────────────────  ──────────────────────\n",
       "             kₓ                    ___________________        ________________\n",
       "                                  ╱   2      2      2        ╱   2      2     \n",
       "                             kₓ⋅╲╱  kₓ  + k_y  + k_z    kₓ⋅╲╱  kₓ  + k_y  + k_\n",
       "                                                                              \n",
       "       ___________________                                                    \n",
       "      ╱   2      2      2                                                     \n",
       " -c⋅╲╱  kₓ  + k_y  + k_z               -k_y                       -k_z        \n",
       " ──────────────────────────            ─────                      ─────       \n",
       "             kₓ                          kₓ                         kₓ        \n",
       "                                                                              \n",
       "             0                           1                          0         \n",
       "                                                                              \n",
       "             0                           0                          1         \n",
       "                                                                              \n",
       "             0                           0                          0         \n",
       "                                                                              \n",
       "             1                           0                          0         \n",
       "\n",
       "              c⋅kₓ                                   ⎤\n",
       "─    ──────────────────────             0            ⎥\n",
       "_       ___________________                          ⎥\n",
       "       ╱   2      2      2                           ⎥\n",
       "     ╲╱  kₓ  + k_y  + k_z                            ⎥\n",
       "                                                     ⎥\n",
       "                                       2             ⎥\n",
       "             c⋅k_y                    c ⋅k_z         ⎥\n",
       "───  ──────────────────────           ──────         ⎥\n",
       "___     ___________________             kₓ           ⎥\n",
       " 2     ╱   2      2      2                           ⎥\n",
       "z    ╲╱  kₓ  + k_y  + k_z                            ⎥\n",
       "                                                     ⎥\n",
       "                                       2             ⎥\n",
       "             c⋅k_z                   -c ⋅k_y         ⎥\n",
       "───  ──────────────────────          ────────        ⎥\n",
       "___     ___________________             kₓ           ⎥\n",
       " 2     ╱   2      2      2                           ⎥\n",
       "z    ╲╱  kₓ  + k_y  + k_z                            ⎥\n",
       "                                                     ⎥\n",
       "                                  ___________________⎥\n",
       "                                 ╱   2      2      2 ⎥\n",
       "                             c⋅╲╱  kₓ  + k_y  + k_z  ⎥\n",
       "               0             ────────────────────────⎥\n",
       "                                        kₓ           ⎥\n",
       "                                                     ⎥\n",
       "               0                        0            ⎥\n",
       "                                                     ⎥\n",
       "               0                        0            ⎥\n",
       "                                                     ⎥\n",
       "               1                        0            ⎥\n",
       "                                                     ⎥\n",
       "               0                        1            ⎦"
      ]
     },
     "metadata": {},
     "output_type": "display_data"
    },
    {
     "name": "stdout",
     "output_type": "stream",
     "text": [
      "D2 = \n"
     ]
    },
    {
     "data": {
      "image/png": "[encoded data removed]",
      "text/latex": [
       "$\\displaystyle \\left[\\begin{matrix}- c t \\sqrt{- k_{x}^{2} - k_{y}^{2} - k_{z}^{2}} & 0 & 0 & 0 & 0 & 0 & 0 & 0\\\\0 & - c t \\sqrt{- k_{x}^{2} - k_{y}^{2} - k_{z}^{2}} & 0 & 0 & 0 & 0 & 0 & 0\\\\0 & 0 & - c t \\sqrt{- k_{x}^{2} - k_{y}^{2} - k_{z}^{2}} & 0 & 0 & 0 & 0 & 0\\\\0 & 0 & 0 & - c t \\sqrt{- k_{x}^{2} - k_{y}^{2} - k_{z}^{2}} & 0 & 0 & 0 & 0\\\\0 & 0 & 0 & 0 & c t \\sqrt{- k_{x}^{2} - k_{y}^{2} - k_{z}^{2}} & 0 & 0 & 0\\\\0 & 0 & 0 & 0 & 0 & c t \\sqrt{- k_{x}^{2} - k_{y}^{2} - k_{z}^{2}} & 0 & 0\\\\0 & 0 & 0 & 0 & 0 & 0 & c t \\sqrt{- k_{x}^{2} - k_{y}^{2} - k_{z}^{2}} & 0\\\\0 & 0 & 0 & 0 & 0 & 0 & 0 & c t \\sqrt{- k_{x}^{2} - k_{y}^{2} - k_{z}^{2}}\\end{matrix}\\right]$"
      ],
      "text/plain": [
       "⎡        _____________________                                                \n",
       "⎢       ╱     2      2      2                                                 \n",
       "⎢-c⋅t⋅╲╱  - kₓ  - k_y  - k_z                  0                              0\n",
       "⎢                                                                             \n",
       "⎢                                       _____________________                 \n",
       "⎢                                      ╱     2      2      2                  \n",
       "⎢              0                -c⋅t⋅╲╱  - kₓ  - k_y  - k_z                  0\n",
       "⎢                                                                             \n",
       "⎢                                                                      _______\n",
       "⎢                                                                     ╱     2 \n",
       "⎢              0                              0                -c⋅t⋅╲╱  - kₓ  \n",
       "⎢                                                                             \n",
       "⎢                                                                             \n",
       "⎢                                                                             \n",
       "⎢              0                              0                              0\n",
       "⎢                                                                             \n",
       "⎢                                                                             \n",
       "⎢                                                                             \n",
       "⎢              0                              0                              0\n",
       "⎢                                                                             \n",
       "⎢                                                                             \n",
       "⎢                                                                             \n",
       "⎢              0                              0                              0\n",
       "⎢                                                                             \n",
       "⎢                                                                             \n",
       "⎢                                                                             \n",
       "⎢              0                              0                              0\n",
       "⎢                                                                             \n",
       "⎢                                                                             \n",
       "⎢                                                                             \n",
       "⎣              0                              0                              0\n",
       "\n",
       "                                                                              \n",
       "                                                                              \n",
       "                              0                             0                 \n",
       "                                                                              \n",
       "                                                                              \n",
       "                                                                              \n",
       "                              0                             0                 \n",
       "                                                                              \n",
       "______________                                                                \n",
       "     2      2                                                                 \n",
       "- k_y  - k_z                  0                             0                 \n",
       "                                                                              \n",
       "                        _____________________                                 \n",
       "                       ╱     2      2      2                                  \n",
       "                -c⋅t⋅╲╱  - kₓ  - k_y  - k_z                 0                 \n",
       "                                                                              \n",
       "                                                      _____________________   \n",
       "                                                     ╱     2      2      2    \n",
       "                              0                c⋅t⋅╲╱  - kₓ  - k_y  - k_z     \n",
       "                                                                              \n",
       "                                                                              \n",
       "                                                                              \n",
       "                              0                             0                c\n",
       "                                                                              \n",
       "                                                                              \n",
       "                                                                              \n",
       "                              0                             0                 \n",
       "                                                                              \n",
       "                                                                              \n",
       "                                                                              \n",
       "                              0                             0                 \n",
       "\n",
       "                                                                              \n",
       "                                                                              \n",
       "            0                             0                             0     \n",
       "                                                                              \n",
       "                                                                              \n",
       "                                                                              \n",
       "            0                             0                             0     \n",
       "                                                                              \n",
       "                                                                              \n",
       "                                                                              \n",
       "            0                             0                             0     \n",
       "                                                                              \n",
       "                                                                              \n",
       "                                                                              \n",
       "            0                             0                             0     \n",
       "                                                                              \n",
       "                                                                              \n",
       "                                                                              \n",
       "            0                             0                             0     \n",
       "                                                                              \n",
       "      _____________________                                                   \n",
       "     ╱     2      2      2                                                    \n",
       "⋅t⋅╲╱  - kₓ  - k_y  - k_z                 0                             0     \n",
       "                                                                              \n",
       "                                    _____________________                     \n",
       "                                   ╱     2      2      2                      \n",
       "            0                c⋅t⋅╲╱  - kₓ  - k_y  - k_z                 0     \n",
       "                                                                              \n",
       "                                                                  ____________\n",
       "                                                                 ╱     2      \n",
       "            0                             0                c⋅t⋅╲╱  - kₓ  - k_y\n",
       "\n",
       "         ⎤\n",
       "         ⎥\n",
       "         ⎥\n",
       "         ⎥\n",
       "         ⎥\n",
       "         ⎥\n",
       "         ⎥\n",
       "         ⎥\n",
       "         ⎥\n",
       "         ⎥\n",
       "         ⎥\n",
       "         ⎥\n",
       "         ⎥\n",
       "         ⎥\n",
       "         ⎥\n",
       "         ⎥\n",
       "         ⎥\n",
       "         ⎥\n",
       "         ⎥\n",
       "         ⎥\n",
       "         ⎥\n",
       "         ⎥\n",
       "         ⎥\n",
       "         ⎥\n",
       "         ⎥\n",
       "         ⎥\n",
       "         ⎥\n",
       "         ⎥\n",
       "_________⎥\n",
       "2      2 ⎥\n",
       "  - k_z  ⎦"
      ]
     },
     "metadata": {},
     "output_type": "display_data"
    },
    {
     "name": "stdout",
     "output_type": "stream",
     "text": [
      "CPU times: user 28 s, sys: 31.8 ms, total: 28.1 s\n",
      "Wall time: 28.5 s\n"
     ]
    }
   ],
   "source": [
    "%%time\n",
    "\n",
    "W2 = M * t\n",
    "P2, D2 = W2.diagonalize()\n",
    "invP2 = P2**(-1)\n",
    "expD2 = exp(D2)\n",
    "check_diag(W2, D2, P2, invP2)\n",
    "print('P2 = ')\n",
    "display(P2)\n",
    "print('D2 = ')\n",
    "display(D2)"
   ]
  },
  {
   "cell_type": "markdown",
   "metadata": {},
   "source": [
    "### Diagonalization of $W_3 = -M s = P_3 D_3 P_3^{-1}$:"
   ]
  },
  {
   "cell_type": "code",
   "execution_count": 9,
   "metadata": {},
   "outputs": [
    {
     "name": "stdout",
     "output_type": "stream",
     "text": [
      "P3 = \n"
     ]
    },
    {
     "data": {
      "image/png": "[encoded data removed]",
      "text/latex": [
       "$\\displaystyle \\left[\\begin{matrix}- \\frac{c k_{z}}{\\sqrt{k_{x}^{2} + k_{y}^{2} + k_{z}^{2}}} & \\frac{c k_{y}}{\\sqrt{k_{x}^{2} + k_{y}^{2} + k_{z}^{2}}} & \\frac{c k_{x}}{\\sqrt{k_{x}^{2} + k_{y}^{2} + k_{z}^{2}}} & 0 & \\frac{c k_{z}}{\\sqrt{k_{x}^{2} + k_{y}^{2} + k_{z}^{2}}} & - \\frac{c k_{y}}{\\sqrt{k_{x}^{2} + k_{y}^{2} + k_{z}^{2}}} & - \\frac{c k_{x}}{\\sqrt{k_{x}^{2} + k_{y}^{2} + k_{z}^{2}}} & 0\\\\- \\frac{c k_{y} k_{z}}{k_{x} \\sqrt{k_{x}^{2} + k_{y}^{2} + k_{z}^{2}}} & - \\frac{c \\left(k_{x}^{2} + k_{z}^{2}\\right)}{k_{x} \\sqrt{k_{x}^{2} + k_{y}^{2} + k_{z}^{2}}} & \\frac{c k_{y}}{\\sqrt{k_{x}^{2} + k_{y}^{2} + k_{z}^{2}}} & \\frac{c^{2} k_{z}}{k_{x}} & \\frac{c k_{y} k_{z}}{k_{x} \\sqrt{k_{x}^{2} + k_{y}^{2} + k_{z}^{2}}} & \\frac{c \\left(k_{x}^{2} + k_{z}^{2}\\right)}{k_{x} \\sqrt{k_{x}^{2} + k_{y}^{2} + k_{z}^{2}}} & - \\frac{c k_{y}}{\\sqrt{k_{x}^{2} + k_{y}^{2} + k_{z}^{2}}} & \\frac{c^{2} k_{z}}{k_{x}}\\\\\\frac{c \\left(k_{x}^{2} + k_{y}^{2}\\right)}{k_{x} \\sqrt{k_{x}^{2} + k_{y}^{2} + k_{z}^{2}}} & \\frac{c k_{y} k_{z}}{k_{x} \\sqrt{k_{x}^{2} + k_{y}^{2} + k_{z}^{2}}} & \\frac{c k_{z}}{\\sqrt{k_{x}^{2} + k_{y}^{2} + k_{z}^{2}}} & - \\frac{c^{2} k_{y}}{k_{x}} & - \\frac{c \\left(k_{x}^{2} + k_{y}^{2}\\right)}{k_{x} \\sqrt{k_{x}^{2} + k_{y}^{2} + k_{z}^{2}}} & - \\frac{c k_{y} k_{z}}{k_{x} \\sqrt{k_{x}^{2} + k_{y}^{2} + k_{z}^{2}}} & - \\frac{c k_{z}}{\\sqrt{k_{x}^{2} + k_{y}^{2} + k_{z}^{2}}} & - \\frac{c^{2} k_{y}}{k_{x}}\\\\- \\frac{k_{y}}{k_{x}} & - \\frac{k_{z}}{k_{x}} & 0 & \\frac{c \\sqrt{k_{x}^{2} + k_{y}^{2} + k_{z}^{2}}}{k_{x}} & - \\frac{k_{y}}{k_{x}} & - \\frac{k_{z}}{k_{x}} & 0 & - \\frac{c \\sqrt{k_{x}^{2} + k_{y}^{2} + k_{z}^{2}}}{k_{x}}\\\\1 & 0 & 0 & 0 & 1 & 0 & 0 & 0\\\\0 & 1 & 0 & 0 & 0 & 1 & 0 & 0\\\\0 & 0 & 1 & 0 & 0 & 0 & 1 & 0\\\\0 & 0 & 0 & 1 & 0 & 0 & 0 & 1\\end{matrix}\\right]$"
      ],
      "text/plain": [
       "⎡        -c⋅k_z                      c⋅k_y                      c⋅kₓ          \n",
       "⎢ ──────────────────────     ──────────────────────    ────────────────────── \n",
       "⎢    ___________________        ___________________       ___________________ \n",
       "⎢   ╱   2      2      2        ╱   2      2      2       ╱   2      2      2  \n",
       "⎢ ╲╱  kₓ  + k_y  + k_z       ╲╱  kₓ  + k_y  + k_z      ╲╱  kₓ  + k_y  + k_z   \n",
       "⎢                                                                             \n",
       "⎢                                   ⎛  2      2⎞                              \n",
       "⎢       -c⋅k_y⋅k_z               -c⋅⎝kₓ  + k_z ⎠               c⋅k_y          \n",
       "⎢─────────────────────────  ─────────────────────────  ────────────────────── \n",
       "⎢      ___________________        ___________________     ___________________ \n",
       "⎢     ╱   2      2      2        ╱   2      2      2     ╱   2      2      2  \n",
       "⎢kₓ⋅╲╱  kₓ  + k_y  + k_z    kₓ⋅╲╱  kₓ  + k_y  + k_z    ╲╱  kₓ  + k_y  + k_z   \n",
       "⎢                                                                             \n",
       "⎢        ⎛  2      2⎞                                                         \n",
       "⎢      c⋅⎝kₓ  + k_y ⎠               c⋅k_y⋅k_z                  c⋅k_z          \n",
       "⎢─────────────────────────  ─────────────────────────  ────────────────────── \n",
       "⎢      ___________________        ___________________     ___________________ \n",
       "⎢     ╱   2      2      2        ╱   2      2      2     ╱   2      2      2  \n",
       "⎢kₓ⋅╲╱  kₓ  + k_y  + k_z    kₓ⋅╲╱  kₓ  + k_y  + k_z    ╲╱  kₓ  + k_y  + k_z   \n",
       "⎢                                                                             \n",
       "⎢                                                                             \n",
       "⎢                                                                             \n",
       "⎢          -k_y                       -k_z                                    \n",
       "⎢          ─────                      ─────                      0            \n",
       "⎢            kₓ                         kₓ                                    \n",
       "⎢                                                                             \n",
       "⎢            1                          0                        0            \n",
       "⎢                                                                             \n",
       "⎢            0                          1                        0            \n",
       "⎢                                                                             \n",
       "⎢            0                          0                        1            \n",
       "⎢                                                                             \n",
       "⎣            0                          0                        0            \n",
       "\n",
       "                                    c⋅k_z                     -c⋅k_y          \n",
       "            0               ──────────────────────     ────────────────────── \n",
       "                               ___________________        ___________________ \n",
       "                              ╱   2      2      2        ╱   2      2      2  \n",
       "                            ╲╱  kₓ  + k_y  + k_z       ╲╱  kₓ  + k_y  + k_z   \n",
       "                                                                              \n",
       "           2                                                  ⎛  2      2⎞    \n",
       "          c ⋅k_z                   c⋅k_y⋅k_z                c⋅⎝kₓ  + k_z ⎠    \n",
       "          ──────           ─────────────────────────  ────────────────────────\n",
       "            kₓ                   ___________________        __________________\n",
       "                                ╱   2      2      2        ╱   2      2      2\n",
       "                           kₓ⋅╲╱  kₓ  + k_y  + k_z    kₓ⋅╲╱  kₓ  + k_y  + k_z \n",
       "                                                                              \n",
       "           2                       ⎛  2      2⎞                               \n",
       "         -c ⋅k_y                -c⋅⎝kₓ  + k_y ⎠              -c⋅k_y⋅k_z       \n",
       "         ────────          ─────────────────────────  ────────────────────────\n",
       "            kₓ                   ___________________        __________________\n",
       "                                ╱   2      2      2        ╱   2      2      2\n",
       "                           kₓ⋅╲╱  kₓ  + k_y  + k_z    kₓ⋅╲╱  kₓ  + k_y  + k_z \n",
       "                                                                              \n",
       "      ___________________                                                     \n",
       "     ╱   2      2      2                                                      \n",
       " c⋅╲╱  kₓ  + k_y  + k_z              -k_y                       -k_z          \n",
       " ────────────────────────            ─────                      ─────         \n",
       "            kₓ                         kₓ                         kₓ          \n",
       "                                                                              \n",
       "            0                          1                          0           \n",
       "                                                                              \n",
       "            0                          0                          1           \n",
       "                                                                              \n",
       "            0                          0                          0           \n",
       "                                                                              \n",
       "            1                          0                          0           \n",
       "\n",
       "           -c⋅kₓ                                     ⎤\n",
       "   ──────────────────────              0             ⎥\n",
       "      ___________________                            ⎥\n",
       "     ╱   2      2      2                             ⎥\n",
       "   ╲╱  kₓ  + k_y  + k_z                              ⎥\n",
       "                                                     ⎥\n",
       "                                      2              ⎥\n",
       "          -c⋅k_y                     c ⋅k_z          ⎥\n",
       "─  ──────────────────────            ──────          ⎥\n",
       "_     ___________________              kₓ            ⎥\n",
       "     ╱   2      2      2                             ⎥\n",
       "   ╲╱  kₓ  + k_y  + k_z                              ⎥\n",
       "                                                     ⎥\n",
       "                                      2              ⎥\n",
       "          -c⋅k_z                    -c ⋅k_y          ⎥\n",
       "─  ──────────────────────           ────────         ⎥\n",
       "_     ___________________              kₓ            ⎥\n",
       "     ╱   2      2      2                             ⎥\n",
       "   ╲╱  kₓ  + k_y  + k_z                              ⎥\n",
       "                                                     ⎥\n",
       "                                 ___________________ ⎥\n",
       "                                ╱   2      2      2  ⎥\n",
       "                           -c⋅╲╱  kₓ  + k_y  + k_z   ⎥\n",
       "             0             ──────────────────────────⎥\n",
       "                                       kₓ            ⎥\n",
       "                                                     ⎥\n",
       "             0                         0             ⎥\n",
       "                                                     ⎥\n",
       "             0                         0             ⎥\n",
       "                                                     ⎥\n",
       "             1                         0             ⎥\n",
       "                                                     ⎥\n",
       "             0                         1             ⎦"
      ]
     },
     "metadata": {},
     "output_type": "display_data"
    },
    {
     "name": "stdout",
     "output_type": "stream",
     "text": [
      "D3 = \n"
     ]
    },
    {
     "data": {
      "image/png": "[encoded data removed]",
      "text/latex": [
       "$\\displaystyle \\left[\\begin{matrix}- c s \\sqrt{- k_{x}^{2} - k_{y}^{2} - k_{z}^{2}} & 0 & 0 & 0 & 0 & 0 & 0 & 0\\\\0 & - c s \\sqrt{- k_{x}^{2} - k_{y}^{2} - k_{z}^{2}} & 0 & 0 & 0 & 0 & 0 & 0\\\\0 & 0 & - c s \\sqrt{- k_{x}^{2} - k_{y}^{2} - k_{z}^{2}} & 0 & 0 & 0 & 0 & 0\\\\0 & 0 & 0 & - c s \\sqrt{- k_{x}^{2} - k_{y}^{2} - k_{z}^{2}} & 0 & 0 & 0 & 0\\\\0 & 0 & 0 & 0 & c s \\sqrt{- k_{x}^{2} - k_{y}^{2} - k_{z}^{2}} & 0 & 0 & 0\\\\0 & 0 & 0 & 0 & 0 & c s \\sqrt{- k_{x}^{2} - k_{y}^{2} - k_{z}^{2}} & 0 & 0\\\\0 & 0 & 0 & 0 & 0 & 0 & c s \\sqrt{- k_{x}^{2} - k_{y}^{2} - k_{z}^{2}} & 0\\\\0 & 0 & 0 & 0 & 0 & 0 & 0 & c s \\sqrt{- k_{x}^{2} - k_{y}^{2} - k_{z}^{2}}\\end{matrix}\\right]$"
      ],
      "text/plain": [
       "⎡        _____________________                                                \n",
       "⎢       ╱     2      2      2                                                 \n",
       "⎢-c⋅s⋅╲╱  - kₓ  - k_y  - k_z                  0                              0\n",
       "⎢                                                                             \n",
       "⎢                                       _____________________                 \n",
       "⎢                                      ╱     2      2      2                  \n",
       "⎢              0                -c⋅s⋅╲╱  - kₓ  - k_y  - k_z                  0\n",
       "⎢                                                                             \n",
       "⎢                                                                      _______\n",
       "⎢                                                                     ╱     2 \n",
       "⎢              0                              0                -c⋅s⋅╲╱  - kₓ  \n",
       "⎢                                                                             \n",
       "⎢                                                                             \n",
       "⎢                                                                             \n",
       "⎢              0                              0                              0\n",
       "⎢                                                                             \n",
       "⎢                                                                             \n",
       "⎢                                                                             \n",
       "⎢              0                              0                              0\n",
       "⎢                                                                             \n",
       "⎢                                                                             \n",
       "⎢                                                                             \n",
       "⎢              0                              0                              0\n",
       "⎢                                                                             \n",
       "⎢                                                                             \n",
       "⎢                                                                             \n",
       "⎢              0                              0                              0\n",
       "⎢                                                                             \n",
       "⎢                                                                             \n",
       "⎢                                                                             \n",
       "⎣              0                              0                              0\n",
       "\n",
       "                                                                              \n",
       "                                                                              \n",
       "                              0                             0                 \n",
       "                                                                              \n",
       "                                                                              \n",
       "                                                                              \n",
       "                              0                             0                 \n",
       "                                                                              \n",
       "______________                                                                \n",
       "     2      2                                                                 \n",
       "- k_y  - k_z                  0                             0                 \n",
       "                                                                              \n",
       "                        _____________________                                 \n",
       "                       ╱     2      2      2                                  \n",
       "                -c⋅s⋅╲╱  - kₓ  - k_y  - k_z                 0                 \n",
       "                                                                              \n",
       "                                                      _____________________   \n",
       "                                                     ╱     2      2      2    \n",
       "                              0                c⋅s⋅╲╱  - kₓ  - k_y  - k_z     \n",
       "                                                                              \n",
       "                                                                              \n",
       "                                                                              \n",
       "                              0                             0                c\n",
       "                                                                              \n",
       "                                                                              \n",
       "                                                                              \n",
       "                              0                             0                 \n",
       "                                                                              \n",
       "                                                                              \n",
       "                                                                              \n",
       "                              0                             0                 \n",
       "\n",
       "                                                                              \n",
       "                                                                              \n",
       "            0                             0                             0     \n",
       "                                                                              \n",
       "                                                                              \n",
       "                                                                              \n",
       "            0                             0                             0     \n",
       "                                                                              \n",
       "                                                                              \n",
       "                                                                              \n",
       "            0                             0                             0     \n",
       "                                                                              \n",
       "                                                                              \n",
       "                                                                              \n",
       "            0                             0                             0     \n",
       "                                                                              \n",
       "                                                                              \n",
       "                                                                              \n",
       "            0                             0                             0     \n",
       "                                                                              \n",
       "      _____________________                                                   \n",
       "     ╱     2      2      2                                                    \n",
       "⋅s⋅╲╱  - kₓ  - k_y  - k_z                 0                             0     \n",
       "                                                                              \n",
       "                                    _____________________                     \n",
       "                                   ╱     2      2      2                      \n",
       "            0                c⋅s⋅╲╱  - kₓ  - k_y  - k_z                 0     \n",
       "                                                                              \n",
       "                                                                  ____________\n",
       "                                                                 ╱     2      \n",
       "            0                             0                c⋅s⋅╲╱  - kₓ  - k_y\n",
       "\n",
       "         ⎤\n",
       "         ⎥\n",
       "         ⎥\n",
       "         ⎥\n",
       "         ⎥\n",
       "         ⎥\n",
       "         ⎥\n",
       "         ⎥\n",
       "         ⎥\n",
       "         ⎥\n",
       "         ⎥\n",
       "         ⎥\n",
       "         ⎥\n",
       "         ⎥\n",
       "         ⎥\n",
       "         ⎥\n",
       "         ⎥\n",
       "         ⎥\n",
       "         ⎥\n",
       "         ⎥\n",
       "         ⎥\n",
       "         ⎥\n",
       "         ⎥\n",
       "         ⎥\n",
       "         ⎥\n",
       "         ⎥\n",
       "         ⎥\n",
       "         ⎥\n",
       "_________⎥\n",
       "2      2 ⎥\n",
       "  - k_z  ⎦"
      ]
     },
     "metadata": {},
     "output_type": "display_data"
    },
    {
     "name": "stdout",
     "output_type": "stream",
     "text": [
      "CPU times: user 34 s, sys: 36 ms, total: 34 s\n",
      "Wall time: 34.4 s\n"
     ]
    }
   ],
   "source": [
    "%%time\n",
    "\n",
    "W3 = (-1) * M * s\n",
    "P3, D3 = W3.diagonalize()\n",
    "invP3 = P3**(-1)\n",
    "expD3 = exp(D3)\n",
    "check_diag(W3, D3, P3, invP3)\n",
    "print('P3 = ')\n",
    "display(P3)\n",
    "print('D3 = ')\n",
    "display(D3)"
   ]
  },
  {
   "cell_type": "markdown",
   "metadata": {},
   "source": [
    "### General solution (homogeneous system):\n",
    "$$\n",
    "\\begin{bmatrix}\n",
    "\\boldsymbol{E}_h(t) \\\\\n",
    "\\boldsymbol{B}_h(t) \\\\\n",
    "F_h(t) \\\\\n",
    "G_h(t)\n",
    "\\end{bmatrix}\n",
    "= e^{M (t-t_n)}\n",
    "\\begin{bmatrix}\n",
    "\\boldsymbol{E}(t_n) \\\\\n",
    "\\boldsymbol{B}(t_n) \\\\\n",
    "F(t_n) \\\\\n",
    "G(t_n)\n",
    "\\end{bmatrix}\n",
    "$$"
   ]
  },
  {
   "cell_type": "code",
   "execution_count": 10,
   "metadata": {},
   "outputs": [
    {
     "name": "stdout",
     "output_type": "stream",
     "text": [
      "CPU times: user 146 ms, sys: 4 ms, total: 150 ms\n",
      "Wall time: 148 ms\n"
     ]
    }
   ],
   "source": [
    "%%time\n",
    "\n",
    "# Compute exp(W1) = exp(M*(t-tn))\n",
    "expW1 = P1 * expD1 * invP1\n",
    "\n",
    "# Compute general solution at time t = tn+dt\n",
    "EBFG_h = expW1 * EBFG\n",
    "EBFG_h = EBFG_h.subs(t, tn+dt)"
   ]
  },
  {
   "cell_type": "code",
   "execution_count": 11,
   "metadata": {
    "scrolled": true
   },
   "outputs": [
    {
     "name": "stdout",
     "output_type": "stream",
     "text": [
      "Coefficient of Ex with respect to Ex:\n"
     ]
    },
    {
     "data": {
      "image/png": "[encoded data removed]",
      "text/latex": [
       "$\\displaystyle \\cos{\\left(\\Delta{t} c \\sqrt{k_{x}^{2} + k_{y}^{2} + k_{z}^{2}} \\right)}$"
      ],
      "text/plain": [
       "   ⎛               ___________________⎞\n",
       "   ⎜              ╱   2      2      2 ⎟\n",
       "cos⎝\\Delta{t}⋅c⋅╲╱  kₓ  + k_y  + k_z  ⎠"
      ]
     },
     "metadata": {},
     "output_type": "display_data"
    },
    {
     "name": "stdout",
     "output_type": "stream",
     "text": [
      "Coefficient of Ex with respect to Ey:\n"
     ]
    },
    {
     "data": {
      "image/png": "[encoded data removed]",
      "text/latex": [
       "$\\displaystyle 0$"
      ],
      "text/plain": [
       "0"
      ]
     },
     "metadata": {},
     "output_type": "display_data"
    },
    {
     "name": "stdout",
     "output_type": "stream",
     "text": [
      "Coefficient of Ex with respect to Ez:\n"
     ]
    },
    {
     "data": {
      "image/png": "[encoded data removed]",
      "text/latex": [
       "$\\displaystyle 0$"
      ],
      "text/plain": [
       "0"
      ]
     },
     "metadata": {},
     "output_type": "display_data"
    },
    {
     "name": "stdout",
     "output_type": "stream",
     "text": [
      "Coefficient of Ex with respect to Bx:\n"
     ]
    },
    {
     "data": {
      "image/png": "[encoded data removed]",
      "text/latex": [
       "$\\displaystyle 0$"
      ],
      "text/plain": [
       "0"
      ]
     },
     "metadata": {},
     "output_type": "display_data"
    },
    {
     "name": "stdout",
     "output_type": "stream",
     "text": [
      "Coefficient of Ex with respect to By:\n"
     ]
    },
    {
     "data": {
      "image/png": "[encoded data removed]",
      "text/latex": [
       "$\\displaystyle - \\frac{i c k_{z} \\sin{\\left(\\Delta{t} c \\sqrt{k_{x}^{2} + k_{y}^{2} + k_{z}^{2}} \\right)}}{\\sqrt{k_{x}^{2} + k_{y}^{2} + k_{z}^{2}}}$"
      ],
      "text/plain": [
       "            ⎛               ___________________⎞ \n",
       "            ⎜              ╱   2      2      2 ⎟ \n",
       "-ⅈ⋅c⋅k_z⋅sin⎝\\Delta{t}⋅c⋅╲╱  kₓ  + k_y  + k_z  ⎠ \n",
       "─────────────────────────────────────────────────\n",
       "                 ___________________             \n",
       "                ╱   2      2      2              \n",
       "              ╲╱  kₓ  + k_y  + k_z               "
      ]
     },
     "metadata": {},
     "output_type": "display_data"
    },
    {
     "name": "stdout",
     "output_type": "stream",
     "text": [
      "Coefficient of Ex with respect to Bz:\n"
     ]
    },
    {
     "data": {
      "image/png": "[encoded data removed]",
      "text/latex": [
       "$\\displaystyle \\frac{i c k_{y} \\sin{\\left(\\Delta{t} c \\sqrt{k_{x}^{2} + k_{y}^{2} + k_{z}^{2}} \\right)}}{\\sqrt{k_{x}^{2} + k_{y}^{2} + k_{z}^{2}}}$"
      ],
      "text/plain": [
       "           ⎛               ___________________⎞\n",
       "           ⎜              ╱   2      2      2 ⎟\n",
       "ⅈ⋅c⋅k_y⋅sin⎝\\Delta{t}⋅c⋅╲╱  kₓ  + k_y  + k_z  ⎠\n",
       "───────────────────────────────────────────────\n",
       "                ___________________            \n",
       "               ╱   2      2      2             \n",
       "             ╲╱  kₓ  + k_y  + k_z              "
      ]
     },
     "metadata": {},
     "output_type": "display_data"
    },
    {
     "name": "stdout",
     "output_type": "stream",
     "text": [
      "Coefficient of Ex with respect to F:\n"
     ]
    },
    {
     "data": {
      "image/png": "[encoded data removed]",
      "text/latex": [
       "$\\displaystyle \\frac{i c k_{x} \\sin{\\left(\\Delta{t} c \\sqrt{k_{x}^{2} + k_{y}^{2} + k_{z}^{2}} \\right)}}{\\sqrt{k_{x}^{2} + k_{y}^{2} + k_{z}^{2}}}$"
      ],
      "text/plain": [
       "          ⎛               ___________________⎞\n",
       "          ⎜              ╱   2      2      2 ⎟\n",
       "ⅈ⋅c⋅kₓ⋅sin⎝\\Delta{t}⋅c⋅╲╱  kₓ  + k_y  + k_z  ⎠\n",
       "──────────────────────────────────────────────\n",
       "               ___________________            \n",
       "              ╱   2      2      2             \n",
       "            ╲╱  kₓ  + k_y  + k_z              "
      ]
     },
     "metadata": {},
     "output_type": "display_data"
    },
    {
     "name": "stdout",
     "output_type": "stream",
     "text": [
      "Coefficient of Ex with respect to G:\n"
     ]
    },
    {
     "data": {
      "image/png": "[encoded data removed]",
      "text/latex": [
       "$\\displaystyle 0$"
      ],
      "text/plain": [
       "0"
      ]
     },
     "metadata": {},
     "output_type": "display_data"
    },
    {
     "name": "stdout",
     "output_type": "stream",
     "text": [
      "Coefficient of Ey with respect to Ex:\n"
     ]
    },
    {
     "data": {
      "image/png": "[encoded data removed]",
      "text/latex": [
       "$\\displaystyle 0$"
      ],
      "text/plain": [
       "0"
      ]
     },
     "metadata": {},
     "output_type": "display_data"
    },
    {
     "name": "stdout",
     "output_type": "stream",
     "text": [
      "Coefficient of Ey with respect to Ey:\n"
     ]
    },
    {
     "data": {
      "image/png": "[encoded data removed]",
      "text/latex": [
       "$\\displaystyle \\cos{\\left(\\Delta{t} c \\sqrt{k_{x}^{2} + k_{y}^{2} + k_{z}^{2}} \\right)}$"
      ],
      "text/plain": [
       "   ⎛               ___________________⎞\n",
       "   ⎜              ╱   2      2      2 ⎟\n",
       "cos⎝\\Delta{t}⋅c⋅╲╱  kₓ  + k_y  + k_z  ⎠"
      ]
     },
     "metadata": {},
     "output_type": "display_data"
    },
    {
     "name": "stdout",
     "output_type": "stream",
     "text": [
      "Coefficient of Ey with respect to Ez:\n"
     ]
    },
    {
     "data": {
      "image/png": "[encoded data removed]",
      "text/latex": [
       "$\\displaystyle 0$"
      ],
      "text/plain": [
       "0"
      ]
     },
     "metadata": {},
     "output_type": "display_data"
    },
    {
     "name": "stdout",
     "output_type": "stream",
     "text": [
      "Coefficient of Ey with respect to Bx:\n"
     ]
    },
    {
     "data": {
      "image/png": "[encoded data removed]",
      "text/latex": [
       "$\\displaystyle \\frac{i c k_{z} \\sin{\\left(\\Delta{t} c \\sqrt{k_{x}^{2} + k_{y}^{2} + k_{z}^{2}} \\right)}}{\\sqrt{k_{x}^{2} + k_{y}^{2} + k_{z}^{2}}}$"
      ],
      "text/plain": [
       "           ⎛               ___________________⎞\n",
       "           ⎜              ╱   2      2      2 ⎟\n",
       "ⅈ⋅c⋅k_z⋅sin⎝\\Delta{t}⋅c⋅╲╱  kₓ  + k_y  + k_z  ⎠\n",
       "───────────────────────────────────────────────\n",
       "                ___________________            \n",
       "               ╱   2      2      2             \n",
       "             ╲╱  kₓ  + k_y  + k_z              "
      ]
     },
     "metadata": {},
     "output_type": "display_data"
    },
    {
     "name": "stdout",
     "output_type": "stream",
     "text": [
      "Coefficient of Ey with respect to By:\n"
     ]
    },
    {
     "data": {
      "image/png": "[encoded data removed]",
      "text/latex": [
       "$\\displaystyle 0$"
      ],
      "text/plain": [
       "0"
      ]
     },
     "metadata": {},
     "output_type": "display_data"
    },
    {
     "name": "stdout",
     "output_type": "stream",
     "text": [
      "Coefficient of Ey with respect to Bz:\n"
     ]
    },
    {
     "data": {
      "image/png": "[encoded data removed]",
      "text/latex": [
       "$\\displaystyle - \\frac{i c k_{x} \\sin{\\left(\\Delta{t} c \\sqrt{k_{x}^{2} + k_{y}^{2} + k_{z}^{2}} \\right)}}{\\sqrt{k_{x}^{2} + k_{y}^{2} + k_{z}^{2}}}$"
      ],
      "text/plain": [
       "           ⎛               ___________________⎞ \n",
       "           ⎜              ╱   2      2      2 ⎟ \n",
       "-ⅈ⋅c⋅kₓ⋅sin⎝\\Delta{t}⋅c⋅╲╱  kₓ  + k_y  + k_z  ⎠ \n",
       "────────────────────────────────────────────────\n",
       "                ___________________             \n",
       "               ╱   2      2      2              \n",
       "             ╲╱  kₓ  + k_y  + k_z               "
      ]
     },
     "metadata": {},
     "output_type": "display_data"
    },
    {
     "name": "stdout",
     "output_type": "stream",
     "text": [
      "Coefficient of Ey with respect to F:\n"
     ]
    },
    {
     "data": {
      "image/png": "[encoded data removed]",
      "text/latex": [
       "$\\displaystyle \\frac{i c k_{y} \\sin{\\left(\\Delta{t} c \\sqrt{k_{x}^{2} + k_{y}^{2} + k_{z}^{2}} \\right)}}{\\sqrt{k_{x}^{2} + k_{y}^{2} + k_{z}^{2}}}$"
      ],
      "text/plain": [
       "           ⎛               ___________________⎞\n",
       "           ⎜              ╱   2      2      2 ⎟\n",
       "ⅈ⋅c⋅k_y⋅sin⎝\\Delta{t}⋅c⋅╲╱  kₓ  + k_y  + k_z  ⎠\n",
       "───────────────────────────────────────────────\n",
       "                ___________________            \n",
       "               ╱   2      2      2             \n",
       "             ╲╱  kₓ  + k_y  + k_z              "
      ]
     },
     "metadata": {},
     "output_type": "display_data"
    },
    {
     "name": "stdout",
     "output_type": "stream",
     "text": [
      "Coefficient of Ey with respect to G:\n"
     ]
    },
    {
     "data": {
      "image/png": "[encoded data removed]",
      "text/latex": [
       "$\\displaystyle 0$"
      ],
      "text/plain": [
       "0"
      ]
     },
     "metadata": {},
     "output_type": "display_data"
    },
    {
     "name": "stdout",
     "output_type": "stream",
     "text": [
      "Coefficient of Ez with respect to Ex:\n"
     ]
    },
    {
     "data": {
      "image/png": "[encoded data removed]",
      "text/latex": [
       "$\\displaystyle 0$"
      ],
      "text/plain": [
       "0"
      ]
     },
     "metadata": {},
     "output_type": "display_data"
    },
    {
     "name": "stdout",
     "output_type": "stream",
     "text": [
      "Coefficient of Ez with respect to Ey:\n"
     ]
    },
    {
     "data": {
      "image/png": "[encoded data removed]",
      "text/latex": [
       "$\\displaystyle 0$"
      ],
      "text/plain": [
       "0"
      ]
     },
     "metadata": {},
     "output_type": "display_data"
    },
    {
     "name": "stdout",
     "output_type": "stream",
     "text": [
      "Coefficient of Ez with respect to Ez:\n"
     ]
    },
    {
     "data": {
      "image/png": "[encoded data removed]",
      "text/latex": [
       "$\\displaystyle \\cos{\\left(\\Delta{t} c \\sqrt{k_{x}^{2} + k_{y}^{2} + k_{z}^{2}} \\right)}$"
      ],
      "text/plain": [
       "   ⎛               ___________________⎞\n",
       "   ⎜              ╱   2      2      2 ⎟\n",
       "cos⎝\\Delta{t}⋅c⋅╲╱  kₓ  + k_y  + k_z  ⎠"
      ]
     },
     "metadata": {},
     "output_type": "display_data"
    },
    {
     "name": "stdout",
     "output_type": "stream",
     "text": [
      "Coefficient of Ez with respect to Bx:\n"
     ]
    },
    {
     "data": {
      "image/png": "[encoded data removed]",
      "text/latex": [
       "$\\displaystyle - \\frac{i c k_{y} \\sin{\\left(\\Delta{t} c \\sqrt{k_{x}^{2} + k_{y}^{2} + k_{z}^{2}} \\right)}}{\\sqrt{k_{x}^{2} + k_{y}^{2} + k_{z}^{2}}}$"
      ],
      "text/plain": [
       "            ⎛               ___________________⎞ \n",
       "            ⎜              ╱   2      2      2 ⎟ \n",
       "-ⅈ⋅c⋅k_y⋅sin⎝\\Delta{t}⋅c⋅╲╱  kₓ  + k_y  + k_z  ⎠ \n",
       "─────────────────────────────────────────────────\n",
       "                 ___________________             \n",
       "                ╱   2      2      2              \n",
       "              ╲╱  kₓ  + k_y  + k_z               "
      ]
     },
     "metadata": {},
     "output_type": "display_data"
    },
    {
     "name": "stdout",
     "output_type": "stream",
     "text": [
      "Coefficient of Ez with respect to By:\n"
     ]
    },
    {
     "data": {
      "image/png": "[encoded data removed]",
      "text/latex": [
       "$\\displaystyle \\frac{i c k_{x} \\sin{\\left(\\Delta{t} c \\sqrt{k_{x}^{2} + k_{y}^{2} + k_{z}^{2}} \\right)}}{\\sqrt{k_{x}^{2} + k_{y}^{2} + k_{z}^{2}}}$"
      ],
      "text/plain": [
       "          ⎛               ___________________⎞\n",
       "          ⎜              ╱   2      2      2 ⎟\n",
       "ⅈ⋅c⋅kₓ⋅sin⎝\\Delta{t}⋅c⋅╲╱  kₓ  + k_y  + k_z  ⎠\n",
       "──────────────────────────────────────────────\n",
       "               ___________________            \n",
       "              ╱   2      2      2             \n",
       "            ╲╱  kₓ  + k_y  + k_z              "
      ]
     },
     "metadata": {},
     "output_type": "display_data"
    },
    {
     "name": "stdout",
     "output_type": "stream",
     "text": [
      "Coefficient of Ez with respect to Bz:\n"
     ]
    },
    {
     "data": {
      "image/png": "[encoded data removed]",
      "text/latex": [
       "$\\displaystyle 0$"
      ],
      "text/plain": [
       "0"
      ]
     },
     "metadata": {},
     "output_type": "display_data"
    },
    {
     "name": "stdout",
     "output_type": "stream",
     "text": [
      "Coefficient of Ez with respect to F:\n"
     ]
    },
    {
     "data": {
      "image/png": "[encoded data removed]",
      "text/latex": [
       "$\\displaystyle \\frac{i c k_{z} \\sin{\\left(\\Delta{t} c \\sqrt{k_{x}^{2} + k_{y}^{2} + k_{z}^{2}} \\right)}}{\\sqrt{k_{x}^{2} + k_{y}^{2} + k_{z}^{2}}}$"
      ],
      "text/plain": [
       "           ⎛               ___________________⎞\n",
       "           ⎜              ╱   2      2      2 ⎟\n",
       "ⅈ⋅c⋅k_z⋅sin⎝\\Delta{t}⋅c⋅╲╱  kₓ  + k_y  + k_z  ⎠\n",
       "───────────────────────────────────────────────\n",
       "                ___________________            \n",
       "               ╱   2      2      2             \n",
       "             ╲╱  kₓ  + k_y  + k_z              "
      ]
     },
     "metadata": {},
     "output_type": "display_data"
    },
    {
     "name": "stdout",
     "output_type": "stream",
     "text": [
      "Coefficient of Ez with respect to G:\n"
     ]
    },
    {
     "data": {
      "image/png": "[encoded data removed]",
      "text/latex": [
       "$\\displaystyle 0$"
      ],
      "text/plain": [
       "0"
      ]
     },
     "metadata": {},
     "output_type": "display_data"
    },
    {
     "name": "stdout",
     "output_type": "stream",
     "text": [
      "Coefficient of Bx with respect to Ex:\n"
     ]
    },
    {
     "data": {
      "image/png": "[encoded data removed]",
      "text/latex": [
       "$\\displaystyle 0$"
      ],
      "text/plain": [
       "0"
      ]
     },
     "metadata": {},
     "output_type": "display_data"
    },
    {
     "name": "stdout",
     "output_type": "stream",
     "text": [
      "Coefficient of Bx with respect to Ey:\n"
     ]
    },
    {
     "data": {
      "image/png": "[encoded data removed]",
      "text/latex": [
       "$\\displaystyle \\frac{i k_{z} \\sin{\\left(\\Delta{t} c \\sqrt{k_{x}^{2} + k_{y}^{2} + k_{z}^{2}} \\right)}}{c \\sqrt{k_{x}^{2} + k_{y}^{2} + k_{z}^{2}}}$"
      ],
      "text/plain": [
       "         ⎛               ___________________⎞\n",
       "         ⎜              ╱   2      2      2 ⎟\n",
       "ⅈ⋅k_z⋅sin⎝\\Delta{t}⋅c⋅╲╱  kₓ  + k_y  + k_z  ⎠\n",
       "─────────────────────────────────────────────\n",
       "                ___________________          \n",
       "               ╱   2      2      2           \n",
       "           c⋅╲╱  kₓ  + k_y  + k_z            "
      ]
     },
     "metadata": {},
     "output_type": "display_data"
    },
    {
     "name": "stdout",
     "output_type": "stream",
     "text": [
      "Coefficient of Bx with respect to Ez:\n"
     ]
    },
    {
     "data": {
      "image/png": "[encoded data removed]",
      "text/latex": [
       "$\\displaystyle - \\frac{i k_{y} \\sin{\\left(\\Delta{t} c \\sqrt{k_{x}^{2} + k_{y}^{2} + k_{z}^{2}} \\right)}}{c \\sqrt{k_{x}^{2} + k_{y}^{2} + k_{z}^{2}}}$"
      ],
      "text/plain": [
       "          ⎛               ___________________⎞ \n",
       "          ⎜              ╱   2      2      2 ⎟ \n",
       "-ⅈ⋅k_y⋅sin⎝\\Delta{t}⋅c⋅╲╱  kₓ  + k_y  + k_z  ⎠ \n",
       "───────────────────────────────────────────────\n",
       "                 ___________________           \n",
       "                ╱   2      2      2            \n",
       "            c⋅╲╱  kₓ  + k_y  + k_z             "
      ]
     },
     "metadata": {},
     "output_type": "display_data"
    },
    {
     "name": "stdout",
     "output_type": "stream",
     "text": [
      "Coefficient of Bx with respect to Bx:\n"
     ]
    },
    {
     "data": {
      "image/png": "[encoded data removed]",
      "text/latex": [
       "$\\displaystyle \\cos{\\left(\\Delta{t} c \\sqrt{k_{x}^{2} + k_{y}^{2} + k_{z}^{2}} \\right)}$"
      ],
      "text/plain": [
       "   ⎛               ___________________⎞\n",
       "   ⎜              ╱   2      2      2 ⎟\n",
       "cos⎝\\Delta{t}⋅c⋅╲╱  kₓ  + k_y  + k_z  ⎠"
      ]
     },
     "metadata": {},
     "output_type": "display_data"
    },
    {
     "name": "stdout",
     "output_type": "stream",
     "text": [
      "Coefficient of Bx with respect to By:\n"
     ]
    },
    {
     "data": {
      "image/png": "[encoded data removed]",
      "text/latex": [
       "$\\displaystyle 0$"
      ],
      "text/plain": [
       "0"
      ]
     },
     "metadata": {},
     "output_type": "display_data"
    },
    {
     "name": "stdout",
     "output_type": "stream",
     "text": [
      "Coefficient of Bx with respect to Bz:\n"
     ]
    },
    {
     "data": {
      "image/png": "[encoded data removed]",
      "text/latex": [
       "$\\displaystyle 0$"
      ],
      "text/plain": [
       "0"
      ]
     },
     "metadata": {},
     "output_type": "display_data"
    },
    {
     "name": "stdout",
     "output_type": "stream",
     "text": [
      "Coefficient of Bx with respect to F:\n"
     ]
    },
    {
     "data": {
      "image/png": "[encoded data removed]",
      "text/latex": [
       "$\\displaystyle 0$"
      ],
      "text/plain": [
       "0"
      ]
     },
     "metadata": {},
     "output_type": "display_data"
    },
    {
     "name": "stdout",
     "output_type": "stream",
     "text": [
      "Coefficient of Bx with respect to G:\n"
     ]
    },
    {
     "data": {
      "image/png": "[encoded data removed]",
      "text/latex": [
       "$\\displaystyle \\frac{i c k_{x} \\sin{\\left(\\Delta{t} c \\sqrt{k_{x}^{2} + k_{y}^{2} + k_{z}^{2}} \\right)}}{\\sqrt{k_{x}^{2} + k_{y}^{2} + k_{z}^{2}}}$"
      ],
      "text/plain": [
       "          ⎛               ___________________⎞\n",
       "          ⎜              ╱   2      2      2 ⎟\n",
       "ⅈ⋅c⋅kₓ⋅sin⎝\\Delta{t}⋅c⋅╲╱  kₓ  + k_y  + k_z  ⎠\n",
       "──────────────────────────────────────────────\n",
       "               ___________________            \n",
       "              ╱   2      2      2             \n",
       "            ╲╱  kₓ  + k_y  + k_z              "
      ]
     },
     "metadata": {},
     "output_type": "display_data"
    },
    {
     "name": "stdout",
     "output_type": "stream",
     "text": [
      "Coefficient of By with respect to Ex:\n"
     ]
    },
    {
     "data": {
      "image/png": "[encoded data removed]",
      "text/latex": [
       "$\\displaystyle - \\frac{i k_{z} \\sin{\\left(\\Delta{t} c \\sqrt{k_{x}^{2} + k_{y}^{2} + k_{z}^{2}} \\right)}}{c \\sqrt{k_{x}^{2} + k_{y}^{2} + k_{z}^{2}}}$"
      ],
      "text/plain": [
       "          ⎛               ___________________⎞ \n",
       "          ⎜              ╱   2      2      2 ⎟ \n",
       "-ⅈ⋅k_z⋅sin⎝\\Delta{t}⋅c⋅╲╱  kₓ  + k_y  + k_z  ⎠ \n",
       "───────────────────────────────────────────────\n",
       "                 ___________________           \n",
       "                ╱   2      2      2            \n",
       "            c⋅╲╱  kₓ  + k_y  + k_z             "
      ]
     },
     "metadata": {},
     "output_type": "display_data"
    },
    {
     "name": "stdout",
     "output_type": "stream",
     "text": [
      "Coefficient of By with respect to Ey:\n"
     ]
    },
    {
     "data": {
      "image/png": "[encoded data removed]",
      "text/latex": [
       "$\\displaystyle 0$"
      ],
      "text/plain": [
       "0"
      ]
     },
     "metadata": {},
     "output_type": "display_data"
    },
    {
     "name": "stdout",
     "output_type": "stream",
     "text": [
      "Coefficient of By with respect to Ez:\n"
     ]
    },
    {
     "data": {
      "image/png": "[encoded data removed]",
      "text/latex": [
       "$\\displaystyle \\frac{i k_{x} \\sin{\\left(\\Delta{t} c \\sqrt{k_{x}^{2} + k_{y}^{2} + k_{z}^{2}} \\right)}}{c \\sqrt{k_{x}^{2} + k_{y}^{2} + k_{z}^{2}}}$"
      ],
      "text/plain": [
       "        ⎛               ___________________⎞\n",
       "        ⎜              ╱   2      2      2 ⎟\n",
       "ⅈ⋅kₓ⋅sin⎝\\Delta{t}⋅c⋅╲╱  kₓ  + k_y  + k_z  ⎠\n",
       "────────────────────────────────────────────\n",
       "               ___________________          \n",
       "              ╱   2      2      2           \n",
       "          c⋅╲╱  kₓ  + k_y  + k_z            "
      ]
     },
     "metadata": {},
     "output_type": "display_data"
    },
    {
     "name": "stdout",
     "output_type": "stream",
     "text": [
      "Coefficient of By with respect to Bx:\n"
     ]
    },
    {
     "data": {
      "image/png": "[encoded data removed]",
      "text/latex": [
       "$\\displaystyle 0$"
      ],
      "text/plain": [
       "0"
      ]
     },
     "metadata": {},
     "output_type": "display_data"
    },
    {
     "name": "stdout",
     "output_type": "stream",
     "text": [
      "Coefficient of By with respect to By:\n"
     ]
    },
    {
     "data": {
      "image/png": "[encoded data removed]",
      "text/latex": [
       "$\\displaystyle \\cos{\\left(\\Delta{t} c \\sqrt{k_{x}^{2} + k_{y}^{2} + k_{z}^{2}} \\right)}$"
      ],
      "text/plain": [
       "   ⎛               ___________________⎞\n",
       "   ⎜              ╱   2      2      2 ⎟\n",
       "cos⎝\\Delta{t}⋅c⋅╲╱  kₓ  + k_y  + k_z  ⎠"
      ]
     },
     "metadata": {},
     "output_type": "display_data"
    },
    {
     "name": "stdout",
     "output_type": "stream",
     "text": [
      "Coefficient of By with respect to Bz:\n"
     ]
    },
    {
     "data": {
      "image/png": "[encoded data removed]",
      "text/latex": [
       "$\\displaystyle 0$"
      ],
      "text/plain": [
       "0"
      ]
     },
     "metadata": {},
     "output_type": "display_data"
    },
    {
     "name": "stdout",
     "output_type": "stream",
     "text": [
      "Coefficient of By with respect to F:\n"
     ]
    },
    {
     "data": {
      "image/png": "[encoded data removed]",
      "text/latex": [
       "$\\displaystyle 0$"
      ],
      "text/plain": [
       "0"
      ]
     },
     "metadata": {},
     "output_type": "display_data"
    },
    {
     "name": "stdout",
     "output_type": "stream",
     "text": [
      "Coefficient of By with respect to G:\n"
     ]
    },
    {
     "data": {
      "image/png": "[encoded data removed]",
      "text/latex": [
       "$\\displaystyle \\frac{i c k_{y} \\sin{\\left(\\Delta{t} c \\sqrt{k_{x}^{2} + k_{y}^{2} + k_{z}^{2}} \\right)}}{\\sqrt{k_{x}^{2} + k_{y}^{2} + k_{z}^{2}}}$"
      ],
      "text/plain": [
       "           ⎛               ___________________⎞\n",
       "           ⎜              ╱   2      2      2 ⎟\n",
       "ⅈ⋅c⋅k_y⋅sin⎝\\Delta{t}⋅c⋅╲╱  kₓ  + k_y  + k_z  ⎠\n",
       "───────────────────────────────────────────────\n",
       "                ___________________            \n",
       "               ╱   2      2      2             \n",
       "             ╲╱  kₓ  + k_y  + k_z              "
      ]
     },
     "metadata": {},
     "output_type": "display_data"
    },
    {
     "name": "stdout",
     "output_type": "stream",
     "text": [
      "Coefficient of Bz with respect to Ex:\n"
     ]
    },
    {
     "data": {
      "image/png": "[encoded data removed]",
      "text/latex": [
       "$\\displaystyle \\frac{i k_{y} \\sin{\\left(\\Delta{t} c \\sqrt{k_{x}^{2} + k_{y}^{2} + k_{z}^{2}} \\right)}}{c \\sqrt{k_{x}^{2} + k_{y}^{2} + k_{z}^{2}}}$"
      ],
      "text/plain": [
       "         ⎛               ___________________⎞\n",
       "         ⎜              ╱   2      2      2 ⎟\n",
       "ⅈ⋅k_y⋅sin⎝\\Delta{t}⋅c⋅╲╱  kₓ  + k_y  + k_z  ⎠\n",
       "─────────────────────────────────────────────\n",
       "                ___________________          \n",
       "               ╱   2      2      2           \n",
       "           c⋅╲╱  kₓ  + k_y  + k_z            "
      ]
     },
     "metadata": {},
     "output_type": "display_data"
    },
    {
     "name": "stdout",
     "output_type": "stream",
     "text": [
      "Coefficient of Bz with respect to Ey:\n"
     ]
    },
    {
     "data": {
      "image/png": "[encoded data removed]",
      "text/latex": [
       "$\\displaystyle - \\frac{i k_{x} \\sin{\\left(\\Delta{t} c \\sqrt{k_{x}^{2} + k_{y}^{2} + k_{z}^{2}} \\right)}}{c \\sqrt{k_{x}^{2} + k_{y}^{2} + k_{z}^{2}}}$"
      ],
      "text/plain": [
       "         ⎛               ___________________⎞ \n",
       "         ⎜              ╱   2      2      2 ⎟ \n",
       "-ⅈ⋅kₓ⋅sin⎝\\Delta{t}⋅c⋅╲╱  kₓ  + k_y  + k_z  ⎠ \n",
       "──────────────────────────────────────────────\n",
       "                ___________________           \n",
       "               ╱   2      2      2            \n",
       "           c⋅╲╱  kₓ  + k_y  + k_z             "
      ]
     },
     "metadata": {},
     "output_type": "display_data"
    },
    {
     "name": "stdout",
     "output_type": "stream",
     "text": [
      "Coefficient of Bz with respect to Ez:\n"
     ]
    },
    {
     "data": {
      "image/png": "[encoded data removed]",
      "text/latex": [
       "$\\displaystyle 0$"
      ],
      "text/plain": [
       "0"
      ]
     },
     "metadata": {},
     "output_type": "display_data"
    },
    {
     "name": "stdout",
     "output_type": "stream",
     "text": [
      "Coefficient of Bz with respect to Bx:\n"
     ]
    },
    {
     "data": {
      "image/png": "[encoded data removed]",
      "text/latex": [
       "$\\displaystyle 0$"
      ],
      "text/plain": [
       "0"
      ]
     },
     "metadata": {},
     "output_type": "display_data"
    },
    {
     "name": "stdout",
     "output_type": "stream",
     "text": [
      "Coefficient of Bz with respect to By:\n"
     ]
    },
    {
     "data": {
      "image/png": "[encoded data removed]",
      "text/latex": [
       "$\\displaystyle 0$"
      ],
      "text/plain": [
       "0"
      ]
     },
     "metadata": {},
     "output_type": "display_data"
    },
    {
     "name": "stdout",
     "output_type": "stream",
     "text": [
      "Coefficient of Bz with respect to Bz:\n"
     ]
    },
    {
     "data": {
      "image/png": "[encoded data removed]",
      "text/latex": [
       "$\\displaystyle \\cos{\\left(\\Delta{t} c \\sqrt{k_{x}^{2} + k_{y}^{2} + k_{z}^{2}} \\right)}$"
      ],
      "text/plain": [
       "   ⎛               ___________________⎞\n",
       "   ⎜              ╱   2      2      2 ⎟\n",
       "cos⎝\\Delta{t}⋅c⋅╲╱  kₓ  + k_y  + k_z  ⎠"
      ]
     },
     "metadata": {},
     "output_type": "display_data"
    },
    {
     "name": "stdout",
     "output_type": "stream",
     "text": [
      "Coefficient of Bz with respect to F:\n"
     ]
    },
    {
     "data": {
      "image/png": "[encoded data removed]",
      "text/latex": [
       "$\\displaystyle 0$"
      ],
      "text/plain": [
       "0"
      ]
     },
     "metadata": {},
     "output_type": "display_data"
    },
    {
     "name": "stdout",
     "output_type": "stream",
     "text": [
      "Coefficient of Bz with respect to G:\n"
     ]
    },
    {
     "data": {
      "image/png": "[encoded data removed]",
      "text/latex": [
       "$\\displaystyle \\frac{i c k_{z} \\sin{\\left(\\Delta{t} c \\sqrt{k_{x}^{2} + k_{y}^{2} + k_{z}^{2}} \\right)}}{\\sqrt{k_{x}^{2} + k_{y}^{2} + k_{z}^{2}}}$"
      ],
      "text/plain": [
       "           ⎛               ___________________⎞\n",
       "           ⎜              ╱   2      2      2 ⎟\n",
       "ⅈ⋅c⋅k_z⋅sin⎝\\Delta{t}⋅c⋅╲╱  kₓ  + k_y  + k_z  ⎠\n",
       "───────────────────────────────────────────────\n",
       "                ___________________            \n",
       "               ╱   2      2      2             \n",
       "             ╲╱  kₓ  + k_y  + k_z              "
      ]
     },
     "metadata": {},
     "output_type": "display_data"
    },
    {
     "name": "stdout",
     "output_type": "stream",
     "text": [
      "Coefficient of F with respect to Ex:\n"
     ]
    },
    {
     "data": {
      "image/png": "[encoded data removed]",
      "text/latex": [
       "$\\displaystyle \\frac{i k_{x} \\sin{\\left(\\Delta{t} c \\sqrt{k_{x}^{2} + k_{y}^{2} + k_{z}^{2}} \\right)}}{c \\sqrt{k_{x}^{2} + k_{y}^{2} + k_{z}^{2}}}$"
      ],
      "text/plain": [
       "        ⎛               ___________________⎞\n",
       "        ⎜              ╱   2      2      2 ⎟\n",
       "ⅈ⋅kₓ⋅sin⎝\\Delta{t}⋅c⋅╲╱  kₓ  + k_y  + k_z  ⎠\n",
       "────────────────────────────────────────────\n",
       "               ___________________          \n",
       "              ╱   2      2      2           \n",
       "          c⋅╲╱  kₓ  + k_y  + k_z            "
      ]
     },
     "metadata": {},
     "output_type": "display_data"
    },
    {
     "name": "stdout",
     "output_type": "stream",
     "text": [
      "Coefficient of F with respect to Ey:\n"
     ]
    },
    {
     "data": {
      "image/png": "[encoded data removed]",
      "text/latex": [
       "$\\displaystyle \\frac{i k_{y} \\sin{\\left(\\Delta{t} c \\sqrt{k_{x}^{2} + k_{y}^{2} + k_{z}^{2}} \\right)}}{c \\sqrt{k_{x}^{2} + k_{y}^{2} + k_{z}^{2}}}$"
      ],
      "text/plain": [
       "         ⎛               ___________________⎞\n",
       "         ⎜              ╱   2      2      2 ⎟\n",
       "ⅈ⋅k_y⋅sin⎝\\Delta{t}⋅c⋅╲╱  kₓ  + k_y  + k_z  ⎠\n",
       "─────────────────────────────────────────────\n",
       "                ___________________          \n",
       "               ╱   2      2      2           \n",
       "           c⋅╲╱  kₓ  + k_y  + k_z            "
      ]
     },
     "metadata": {},
     "output_type": "display_data"
    },
    {
     "name": "stdout",
     "output_type": "stream",
     "text": [
      "Coefficient of F with respect to Ez:\n"
     ]
    },
    {
     "data": {
      "image/png": "[encoded data removed]",
      "text/latex": [
       "$\\displaystyle \\frac{i k_{z} \\sin{\\left(\\Delta{t} c \\sqrt{k_{x}^{2} + k_{y}^{2} + k_{z}^{2}} \\right)}}{c \\sqrt{k_{x}^{2} + k_{y}^{2} + k_{z}^{2}}}$"
      ],
      "text/plain": [
       "         ⎛               ___________________⎞\n",
       "         ⎜              ╱   2      2      2 ⎟\n",
       "ⅈ⋅k_z⋅sin⎝\\Delta{t}⋅c⋅╲╱  kₓ  + k_y  + k_z  ⎠\n",
       "─────────────────────────────────────────────\n",
       "                ___________________          \n",
       "               ╱   2      2      2           \n",
       "           c⋅╲╱  kₓ  + k_y  + k_z            "
      ]
     },
     "metadata": {},
     "output_type": "display_data"
    },
    {
     "name": "stdout",
     "output_type": "stream",
     "text": [
      "Coefficient of F with respect to Bx:\n"
     ]
    },
    {
     "data": {
      "image/png": "[encoded data removed]",
      "text/latex": [
       "$\\displaystyle 0$"
      ],
      "text/plain": [
       "0"
      ]
     },
     "metadata": {},
     "output_type": "display_data"
    },
    {
     "name": "stdout",
     "output_type": "stream",
     "text": [
      "Coefficient of F with respect to By:\n"
     ]
    },
    {
     "data": {
      "image/png": "[encoded data removed]",
      "text/latex": [
       "$\\displaystyle 0$"
      ],
      "text/plain": [
       "0"
      ]
     },
     "metadata": {},
     "output_type": "display_data"
    },
    {
     "name": "stdout",
     "output_type": "stream",
     "text": [
      "Coefficient of F with respect to Bz:\n"
     ]
    },
    {
     "data": {
      "image/png": "[encoded data removed]",
      "text/latex": [
       "$\\displaystyle 0$"
      ],
      "text/plain": [
       "0"
      ]
     },
     "metadata": {},
     "output_type": "display_data"
    },
    {
     "name": "stdout",
     "output_type": "stream",
     "text": [
      "Coefficient of F with respect to F:\n"
     ]
    },
    {
     "data": {
      "image/png": "[encoded data removed]",
      "text/latex": [
       "$\\displaystyle \\cos{\\left(\\Delta{t} c \\sqrt{k_{x}^{2} + k_{y}^{2} + k_{z}^{2}} \\right)}$"
      ],
      "text/plain": [
       "   ⎛               ___________________⎞\n",
       "   ⎜              ╱   2      2      2 ⎟\n",
       "cos⎝\\Delta{t}⋅c⋅╲╱  kₓ  + k_y  + k_z  ⎠"
      ]
     },
     "metadata": {},
     "output_type": "display_data"
    },
    {
     "name": "stdout",
     "output_type": "stream",
     "text": [
      "Coefficient of F with respect to G:\n"
     ]
    },
    {
     "data": {
      "image/png": "[encoded data removed]",
      "text/latex": [
       "$\\displaystyle 0$"
      ],
      "text/plain": [
       "0"
      ]
     },
     "metadata": {},
     "output_type": "display_data"
    },
    {
     "name": "stdout",
     "output_type": "stream",
     "text": [
      "Coefficient of G with respect to Ex:\n"
     ]
    },
    {
     "data": {
      "image/png": "[encoded data removed]",
      "text/latex": [
       "$\\displaystyle 0$"
      ],
      "text/plain": [
       "0"
      ]
     },
     "metadata": {},
     "output_type": "display_data"
    },
    {
     "name": "stdout",
     "output_type": "stream",
     "text": [
      "Coefficient of G with respect to Ey:\n"
     ]
    },
    {
     "data": {
      "image/png": "[encoded data removed]",
      "text/latex": [
       "$\\displaystyle 0$"
      ],
      "text/plain": [
       "0"
      ]
     },
     "metadata": {},
     "output_type": "display_data"
    },
    {
     "name": "stdout",
     "output_type": "stream",
     "text": [
      "Coefficient of G with respect to Ez:\n"
     ]
    },
    {
     "data": {
      "image/png": "[encoded data removed]",
      "text/latex": [
       "$\\displaystyle 0$"
      ],
      "text/plain": [
       "0"
      ]
     },
     "metadata": {},
     "output_type": "display_data"
    },
    {
     "name": "stdout",
     "output_type": "stream",
     "text": [
      "Coefficient of G with respect to Bx:\n"
     ]
    },
    {
     "data": {
      "image/png": "[encoded data removed]",
      "text/latex": [
       "$\\displaystyle \\frac{i k_{x} \\sin{\\left(\\Delta{t} c \\sqrt{k_{x}^{2} + k_{y}^{2} + k_{z}^{2}} \\right)}}{c \\sqrt{k_{x}^{2} + k_{y}^{2} + k_{z}^{2}}}$"
      ],
      "text/plain": [
       "        ⎛               ___________________⎞\n",
       "        ⎜              ╱   2      2      2 ⎟\n",
       "ⅈ⋅kₓ⋅sin⎝\\Delta{t}⋅c⋅╲╱  kₓ  + k_y  + k_z  ⎠\n",
       "────────────────────────────────────────────\n",
       "               ___________________          \n",
       "              ╱   2      2      2           \n",
       "          c⋅╲╱  kₓ  + k_y  + k_z            "
      ]
     },
     "metadata": {},
     "output_type": "display_data"
    },
    {
     "name": "stdout",
     "output_type": "stream",
     "text": [
      "Coefficient of G with respect to By:\n"
     ]
    },
    {
     "data": {
      "image/png": "[encoded data removed]",
      "text/latex": [
       "$\\displaystyle \\frac{i k_{y} \\sin{\\left(\\Delta{t} c \\sqrt{k_{x}^{2} + k_{y}^{2} + k_{z}^{2}} \\right)}}{c \\sqrt{k_{x}^{2} + k_{y}^{2} + k_{z}^{2}}}$"
      ],
      "text/plain": [
       "         ⎛               ___________________⎞\n",
       "         ⎜              ╱   2      2      2 ⎟\n",
       "ⅈ⋅k_y⋅sin⎝\\Delta{t}⋅c⋅╲╱  kₓ  + k_y  + k_z  ⎠\n",
       "─────────────────────────────────────────────\n",
       "                ___________________          \n",
       "               ╱   2      2      2           \n",
       "           c⋅╲╱  kₓ  + k_y  + k_z            "
      ]
     },
     "metadata": {},
     "output_type": "display_data"
    },
    {
     "name": "stdout",
     "output_type": "stream",
     "text": [
      "Coefficient of G with respect to Bz:\n"
     ]
    },
    {
     "data": {
      "image/png": "[encoded data removed]",
      "text/latex": [
       "$\\displaystyle \\frac{i k_{z} \\sin{\\left(\\Delta{t} c \\sqrt{k_{x}^{2} + k_{y}^{2} + k_{z}^{2}} \\right)}}{c \\sqrt{k_{x}^{2} + k_{y}^{2} + k_{z}^{2}}}$"
      ],
      "text/plain": [
       "         ⎛               ___________________⎞\n",
       "         ⎜              ╱   2      2      2 ⎟\n",
       "ⅈ⋅k_z⋅sin⎝\\Delta{t}⋅c⋅╲╱  kₓ  + k_y  + k_z  ⎠\n",
       "─────────────────────────────────────────────\n",
       "                ___________________          \n",
       "               ╱   2      2      2           \n",
       "           c⋅╲╱  kₓ  + k_y  + k_z            "
      ]
     },
     "metadata": {},
     "output_type": "display_data"
    },
    {
     "name": "stdout",
     "output_type": "stream",
     "text": [
      "Coefficient of G with respect to F:\n"
     ]
    },
    {
     "data": {
      "image/png": "[encoded data removed]",
      "text/latex": [
       "$\\displaystyle 0$"
      ],
      "text/plain": [
       "0"
      ]
     },
     "metadata": {},
     "output_type": "display_data"
    },
    {
     "name": "stdout",
     "output_type": "stream",
     "text": [
      "Coefficient of G with respect to G:\n"
     ]
    },
    {
     "data": {
      "image/png": "[encoded data removed]",
      "text/latex": [
       "$\\displaystyle \\cos{\\left(\\Delta{t} c \\sqrt{k_{x}^{2} + k_{y}^{2} + k_{z}^{2}} \\right)}$"
      ],
      "text/plain": [
       "   ⎛               ___________________⎞\n",
       "   ⎜              ╱   2      2      2 ⎟\n",
       "cos⎝\\Delta{t}⋅c⋅╲╱  kₓ  + k_y  + k_z  ⎠"
      ]
     },
     "metadata": {},
     "output_type": "display_data"
    },
    {
     "name": "stdout",
     "output_type": "stream",
     "text": [
      "CPU times: user 4.46 s, sys: 816 ms, total: 5.28 s\n",
      "Wall time: 18.5 s\n"
     ]
    }
   ],
   "source": [
    "%%time\n",
    "\n",
    "L = ['Ex', 'Ey', 'Ez', 'Bx', 'By', 'Bz']\n",
    "R = ['Ex', 'Ey', 'Ez', 'Bx', 'By', 'Bz']\n",
    "if divE_cleaning:\n",
    "    L.append('F')\n",
    "    R.append('F')\n",
    "if divB_cleaning:\n",
    "    L.append('G')\n",
    "    R.append('G')\n",
    "\n",
    "# Compute individual coefficients in update equation\n",
    "coeff_h = dict()\n",
    "for i in range(dim):\n",
    "    for j in range(dim):\n",
    "        key = (L[i], R[j])\n",
    "        coeff_h[key] = EBFG_h[i].coeff(EBFG[j], 1).expand().simplify().rewrite(cos).trigsimp().simplify()\n",
    "        print(f'Coefficient of {L[i]} with respect to {R[j]}:')\n",
    "        display(coeff_h[key])"
   ]
  },
  {
   "cell_type": "markdown",
   "metadata": {},
   "source": [
    "### Definition of $\\boldsymbol{J}(t)$ and $\\rho(t)$:"
   ]
  },
  {
   "cell_type": "code",
   "execution_count": 12,
   "metadata": {},
   "outputs": [],
   "source": [
    "# Define J(t)\n",
    "Jx_c0 = sp.symbols(r'\\gamma_{J_x}', real=True)\n",
    "Jy_c0 = sp.symbols(r'\\gamma_{J_y}', real=True)\n",
    "Jz_c0 = sp.symbols(r'\\gamma_{J_z}', real=True)\n",
    "Jx = Jx_c0\n",
    "Jy = Jy_c0\n",
    "Jz = Jz_c0\n",
    "if J_in_time == 'linear':\n",
    "    Jx_c1 = sp.symbols(r'\\beta_{J_x}', real=True)\n",
    "    Jy_c1 = sp.symbols(r'\\beta_{J_y}', real=True)\n",
    "    Jz_c1 = sp.symbols(r'\\beta_{J_z}', real=True)\n",
    "    Jx += Jx_c1*(s-tn)\n",
    "    Jy += Jy_c1*(s-tn)\n",
    "    Jz += Jz_c1*(s-tn)\n",
    "if J_in_time == 'quadratic':\n",
    "    Jx_c1 = sp.symbols(r'\\beta_{J_x}', real=True)\n",
    "    Jy_c1 = sp.symbols(r'\\beta_{J_y}', real=True)\n",
    "    Jz_c1 = sp.symbols(r'\\beta_{J_z}', real=True)\n",
    "    Jx_c2 = sp.symbols(r'\\alpha_{J_x}', real=True)\n",
    "    Jy_c2 = sp.symbols(r'\\alpha_{J_y}', real=True)\n",
    "    Jz_c2 = sp.symbols(r'\\alpha_{J_z}', real=True)\n",
    "    Jx += Jx_c1*(s-tn) + Jx_c2*(s-tn)**2\n",
    "    Jy += Jy_c1*(s-tn) + Jy_c2*(s-tn)**2\n",
    "    Jz += Jz_c1*(s-tn) + Jz_c2*(s-tn)**2\n",
    "\n",
    "# Define rho(t)\n",
    "if divE_cleaning:\n",
    "    rho_c0 = sp.symbols(r'\\gamma_{\\rho}', real=True)\n",
    "    rho = rho_c0\n",
    "    if rho_in_time == 'linear':\n",
    "        rho_c1 = sp.symbols(r'\\beta_{\\rho}', real=True)\n",
    "        rho += rho_c1*(s-tn)\n",
    "    if rho_in_time == 'quadratic':\n",
    "        rho_c1 = sp.symbols(r'\\beta_{\\rho}', real=True)\n",
    "        rho_c2 = sp.symbols(r'\\alpha_{\\rho}', real=True)\n",
    "        rho += rho_c1*(s-tn) + rho_c2*(s-tn)**2"
   ]
  },
  {
   "cell_type": "markdown",
   "metadata": {},
   "source": [
    "### Particular solution (non-homogeneous system):\n",
    "$$\n",
    "\\begin{bmatrix}\n",
    "\\boldsymbol{E}_{nh}(t) \\\\\n",
    "\\boldsymbol{B}_{nh}(t) \\\\\n",
    "F_{nh}(t) \\\\\n",
    "G_{nh}(t)\n",
    "\\end{bmatrix}\n",
    "= -\\mu_0 c^2 e^{M t} \\left(\\int_{t_n}^t e^{-M s}\n",
    "\\begin{bmatrix}\n",
    "\\boldsymbol{J} \\\\\n",
    "\\boldsymbol{0} \\\\\n",
    "\\rho \\\\\n",
    "0\n",
    "\\end{bmatrix}\n",
    "ds\\right)\n",
    "$$"
   ]
  },
  {
   "cell_type": "code",
   "execution_count": 13,
   "metadata": {
    "scrolled": false
   },
   "outputs": [
    {
     "name": "stdout",
     "output_type": "stream",
     "text": [
      "CPU times: user 7.57 s, sys: 16 ms, total: 7.59 s\n",
      "Wall time: 7.59 s\n"
     ]
    }
   ],
   "source": [
    "%%time \n",
    "        \n",
    "fields_list = [Jx, Jy, Jz, 0, 0, 0]\n",
    "if divE_cleaning:\n",
    "    fields_list.append(rho)\n",
    "if divB_cleaning:\n",
    "    fields_list.append(0)\n",
    "\n",
    "S = zeros(dim, 1)\n",
    "for i in range(S.shape[0]):\n",
    "    S[i] = -mu0*c**2 * fields_list[i]\n",
    "\n",
    "# Compute integral of exp(W3)*S over s (assuming |k| is not zero)\n",
    "integral = zeros(dim, 1)\n",
    "tmp = expD3 * invP3 * S\n",
    "simple_mat(tmp)\n",
    "for i in range(dim):\n",
    "    r = integrate(tmp[i], (s, tn, t))\n",
    "    integral[i] = r.simplify()\n",
    "    \n",
    "# Compute particular solution at time t = tn+dt\n",
    "tmp = invP2 * P3\n",
    "simple_mat(tmp)\n",
    "EBFG_nh = P2 * expD2 * tmp * integral\n",
    "EBFG_nh = EBFG_nh.subs(t, tn+dt)"
   ]
  },
  {
   "cell_type": "code",
   "execution_count": 14,
   "metadata": {
    "scrolled": true
   },
   "outputs": [
    {
     "name": "stdout",
     "output_type": "stream",
     "text": [
      "Coefficient of Ex with respect to Jx_c0:\n"
     ]
    },
    {
     "data": {
      "image/png": "[encoded data removed]",
      "text/latex": [
       "$\\displaystyle - \\frac{\\mu_{0} c \\sin{\\left(\\Delta{t} c \\sqrt{k_{x}^{2} + k_{y}^{2} + k_{z}^{2}} \\right)}}{\\sqrt{k_{x}^{2} + k_{y}^{2} + k_{z}^{2}}}$"
      ],
      "text/plain": [
       "           ⎛               ___________________⎞ \n",
       "           ⎜              ╱   2      2      2 ⎟ \n",
       "-\\mu₀⋅c⋅sin⎝\\Delta{t}⋅c⋅╲╱  kₓ  + k_y  + k_z  ⎠ \n",
       "────────────────────────────────────────────────\n",
       "                ___________________             \n",
       "               ╱   2      2      2              \n",
       "             ╲╱  kₓ  + k_y  + k_z               "
      ]
     },
     "metadata": {},
     "output_type": "display_data"
    },
    {
     "name": "stdout",
     "output_type": "stream",
     "text": [
      "Coefficient of Ex with respect to Jy_c0:\n"
     ]
    },
    {
     "data": {
      "image/png": "[encoded data removed]",
      "text/latex": [
       "$\\displaystyle 0$"
      ],
      "text/plain": [
       "0"
      ]
     },
     "metadata": {},
     "output_type": "display_data"
    },
    {
     "name": "stdout",
     "output_type": "stream",
     "text": [
      "Coefficient of Ex with respect to Jz_c0:\n"
     ]
    },
    {
     "data": {
      "image/png": "[encoded data removed]",
      "text/latex": [
       "$\\displaystyle 0$"
      ],
      "text/plain": [
       "0"
      ]
     },
     "metadata": {},
     "output_type": "display_data"
    },
    {
     "name": "stdout",
     "output_type": "stream",
     "text": [
      "Coefficient of Ex with respect to rho_c0:\n"
     ]
    },
    {
     "data": {
      "image/png": "[encoded data removed]",
      "text/latex": [
       "$\\displaystyle \\frac{i \\mu_{0} c^{2} k_{x} \\left(\\cos{\\left(\\Delta{t} c \\sqrt{k_{x}^{2} + k_{y}^{2} + k_{z}^{2}} \\right)} - 1\\right)}{k_{x}^{2} + k_{y}^{2} + k_{z}^{2}}$"
      ],
      "text/plain": [
       "             ⎛   ⎛               ___________________⎞    ⎞\n",
       "        2    ⎜   ⎜              ╱   2      2      2 ⎟    ⎟\n",
       "ⅈ⋅\\mu₀⋅c ⋅kₓ⋅⎝cos⎝\\Delta{t}⋅c⋅╲╱  kₓ  + k_y  + k_z  ⎠ - 1⎠\n",
       "──────────────────────────────────────────────────────────\n",
       "                      2      2      2                     \n",
       "                    kₓ  + k_y  + k_z                      "
      ]
     },
     "metadata": {},
     "output_type": "display_data"
    },
    {
     "name": "stdout",
     "output_type": "stream",
     "text": [
      "Coefficient of Ey with respect to Jx_c0:\n"
     ]
    },
    {
     "data": {
      "image/png": "[encoded data removed]",
      "text/latex": [
       "$\\displaystyle 0$"
      ],
      "text/plain": [
       "0"
      ]
     },
     "metadata": {},
     "output_type": "display_data"
    },
    {
     "name": "stdout",
     "output_type": "stream",
     "text": [
      "Coefficient of Ey with respect to Jy_c0:\n"
     ]
    },
    {
     "data": {
      "image/png": "[encoded data removed]",
      "text/latex": [
       "$\\displaystyle - \\frac{\\mu_{0} c \\sin{\\left(\\Delta{t} c \\sqrt{k_{x}^{2} + k_{y}^{2} + k_{z}^{2}} \\right)}}{\\sqrt{k_{x}^{2} + k_{y}^{2} + k_{z}^{2}}}$"
      ],
      "text/plain": [
       "           ⎛               ___________________⎞ \n",
       "           ⎜              ╱   2      2      2 ⎟ \n",
       "-\\mu₀⋅c⋅sin⎝\\Delta{t}⋅c⋅╲╱  kₓ  + k_y  + k_z  ⎠ \n",
       "────────────────────────────────────────────────\n",
       "                ___________________             \n",
       "               ╱   2      2      2              \n",
       "             ╲╱  kₓ  + k_y  + k_z               "
      ]
     },
     "metadata": {},
     "output_type": "display_data"
    },
    {
     "name": "stdout",
     "output_type": "stream",
     "text": [
      "Coefficient of Ey with respect to Jz_c0:\n"
     ]
    },
    {
     "data": {
      "image/png": "[encoded data removed]",
      "text/latex": [
       "$\\displaystyle 0$"
      ],
      "text/plain": [
       "0"
      ]
     },
     "metadata": {},
     "output_type": "display_data"
    },
    {
     "name": "stdout",
     "output_type": "stream",
     "text": [
      "Coefficient of Ey with respect to rho_c0:\n"
     ]
    },
    {
     "data": {
      "image/png": "[encoded data removed]",
      "text/latex": [
       "$\\displaystyle \\frac{i \\mu_{0} c^{2} k_{y} \\left(\\cos{\\left(\\Delta{t} c \\sqrt{k_{x}^{2} + k_{y}^{2} + k_{z}^{2}} \\right)} - 1\\right)}{k_{x}^{2} + k_{y}^{2} + k_{z}^{2}}$"
      ],
      "text/plain": [
       "              ⎛   ⎛               ___________________⎞    ⎞\n",
       "        2     ⎜   ⎜              ╱   2      2      2 ⎟    ⎟\n",
       "ⅈ⋅\\mu₀⋅c ⋅k_y⋅⎝cos⎝\\Delta{t}⋅c⋅╲╱  kₓ  + k_y  + k_z  ⎠ - 1⎠\n",
       "───────────────────────────────────────────────────────────\n",
       "                       2      2      2                     \n",
       "                     kₓ  + k_y  + k_z                      "
      ]
     },
     "metadata": {},
     "output_type": "display_data"
    },
    {
     "name": "stdout",
     "output_type": "stream",
     "text": [
      "Coefficient of Ez with respect to Jx_c0:\n"
     ]
    },
    {
     "data": {
      "image/png": "[encoded data removed]",
      "text/latex": [
       "$\\displaystyle 0$"
      ],
      "text/plain": [
       "0"
      ]
     },
     "metadata": {},
     "output_type": "display_data"
    },
    {
     "name": "stdout",
     "output_type": "stream",
     "text": [
      "Coefficient of Ez with respect to Jy_c0:\n"
     ]
    },
    {
     "data": {
      "image/png": "[encoded data removed]",
      "text/latex": [
       "$\\displaystyle 0$"
      ],
      "text/plain": [
       "0"
      ]
     },
     "metadata": {},
     "output_type": "display_data"
    },
    {
     "name": "stdout",
     "output_type": "stream",
     "text": [
      "Coefficient of Ez with respect to Jz_c0:\n"
     ]
    },
    {
     "data": {
      "image/png": "[encoded data removed]",
      "text/latex": [
       "$\\displaystyle - \\frac{\\mu_{0} c \\sin{\\left(\\Delta{t} c \\sqrt{k_{x}^{2} + k_{y}^{2} + k_{z}^{2}} \\right)}}{\\sqrt{k_{x}^{2} + k_{y}^{2} + k_{z}^{2}}}$"
      ],
      "text/plain": [
       "           ⎛               ___________________⎞ \n",
       "           ⎜              ╱   2      2      2 ⎟ \n",
       "-\\mu₀⋅c⋅sin⎝\\Delta{t}⋅c⋅╲╱  kₓ  + k_y  + k_z  ⎠ \n",
       "────────────────────────────────────────────────\n",
       "                ___________________             \n",
       "               ╱   2      2      2              \n",
       "             ╲╱  kₓ  + k_y  + k_z               "
      ]
     },
     "metadata": {},
     "output_type": "display_data"
    },
    {
     "name": "stdout",
     "output_type": "stream",
     "text": [
      "Coefficient of Ez with respect to rho_c0:\n"
     ]
    },
    {
     "data": {
      "image/png": "[encoded data removed]",
      "text/latex": [
       "$\\displaystyle \\frac{i \\mu_{0} c^{2} k_{z} \\left(\\cos{\\left(\\Delta{t} c \\sqrt{k_{x}^{2} + k_{y}^{2} + k_{z}^{2}} \\right)} - 1\\right)}{k_{x}^{2} + k_{y}^{2} + k_{z}^{2}}$"
      ],
      "text/plain": [
       "              ⎛   ⎛               ___________________⎞    ⎞\n",
       "        2     ⎜   ⎜              ╱   2      2      2 ⎟    ⎟\n",
       "ⅈ⋅\\mu₀⋅c ⋅k_z⋅⎝cos⎝\\Delta{t}⋅c⋅╲╱  kₓ  + k_y  + k_z  ⎠ - 1⎠\n",
       "───────────────────────────────────────────────────────────\n",
       "                       2      2      2                     \n",
       "                     kₓ  + k_y  + k_z                      "
      ]
     },
     "metadata": {},
     "output_type": "display_data"
    },
    {
     "name": "stdout",
     "output_type": "stream",
     "text": [
      "Coefficient of Bx with respect to Jx_c0:\n"
     ]
    },
    {
     "data": {
      "image/png": "[encoded data removed]",
      "text/latex": [
       "$\\displaystyle 0$"
      ],
      "text/plain": [
       "0"
      ]
     },
     "metadata": {},
     "output_type": "display_data"
    },
    {
     "name": "stdout",
     "output_type": "stream",
     "text": [
      "Coefficient of Bx with respect to Jy_c0:\n"
     ]
    },
    {
     "data": {
      "image/png": "[encoded data removed]",
      "text/latex": [
       "$\\displaystyle \\frac{i \\mu_{0} k_{z} \\left(\\cos{\\left(\\Delta{t} c \\sqrt{k_{x}^{2} + k_{y}^{2} + k_{z}^{2}} \\right)} - 1\\right)}{k_{x}^{2} + k_{y}^{2} + k_{z}^{2}}$"
      ],
      "text/plain": [
       "           ⎛   ⎛               ___________________⎞    ⎞\n",
       "           ⎜   ⎜              ╱   2      2      2 ⎟    ⎟\n",
       "ⅈ⋅\\mu₀⋅k_z⋅⎝cos⎝\\Delta{t}⋅c⋅╲╱  kₓ  + k_y  + k_z  ⎠ - 1⎠\n",
       "────────────────────────────────────────────────────────\n",
       "                     2      2      2                    \n",
       "                   kₓ  + k_y  + k_z                     "
      ]
     },
     "metadata": {},
     "output_type": "display_data"
    },
    {
     "name": "stdout",
     "output_type": "stream",
     "text": [
      "Coefficient of Bx with respect to Jz_c0:\n"
     ]
    },
    {
     "data": {
      "image/png": "[encoded data removed]",
      "text/latex": [
       "$\\displaystyle \\frac{i \\mu_{0} k_{y} \\left(1 - \\cos{\\left(\\Delta{t} c \\sqrt{k_{x}^{2} + k_{y}^{2} + k_{z}^{2}} \\right)}\\right)}{k_{x}^{2} + k_{y}^{2} + k_{z}^{2}}$"
      ],
      "text/plain": [
       "           ⎛       ⎛               ___________________⎞⎞\n",
       "           ⎜       ⎜              ╱   2      2      2 ⎟⎟\n",
       "ⅈ⋅\\mu₀⋅k_y⋅⎝1 - cos⎝\\Delta{t}⋅c⋅╲╱  kₓ  + k_y  + k_z  ⎠⎠\n",
       "────────────────────────────────────────────────────────\n",
       "                     2      2      2                    \n",
       "                   kₓ  + k_y  + k_z                     "
      ]
     },
     "metadata": {},
     "output_type": "display_data"
    },
    {
     "name": "stdout",
     "output_type": "stream",
     "text": [
      "Coefficient of Bx with respect to rho_c0:\n"
     ]
    },
    {
     "data": {
      "image/png": "[encoded data removed]",
      "text/latex": [
       "$\\displaystyle 0$"
      ],
      "text/plain": [
       "0"
      ]
     },
     "metadata": {},
     "output_type": "display_data"
    },
    {
     "name": "stdout",
     "output_type": "stream",
     "text": [
      "Coefficient of By with respect to Jx_c0:\n"
     ]
    },
    {
     "data": {
      "image/png": "[encoded data removed]",
      "text/latex": [
       "$\\displaystyle \\frac{i \\mu_{0} k_{z} \\left(1 - \\cos{\\left(\\Delta{t} c \\sqrt{k_{x}^{2} + k_{y}^{2} + k_{z}^{2}} \\right)}\\right)}{k_{x}^{2} + k_{y}^{2} + k_{z}^{2}}$"
      ],
      "text/plain": [
       "           ⎛       ⎛               ___________________⎞⎞\n",
       "           ⎜       ⎜              ╱   2      2      2 ⎟⎟\n",
       "ⅈ⋅\\mu₀⋅k_z⋅⎝1 - cos⎝\\Delta{t}⋅c⋅╲╱  kₓ  + k_y  + k_z  ⎠⎠\n",
       "────────────────────────────────────────────────────────\n",
       "                     2      2      2                    \n",
       "                   kₓ  + k_y  + k_z                     "
      ]
     },
     "metadata": {},
     "output_type": "display_data"
    },
    {
     "name": "stdout",
     "output_type": "stream",
     "text": [
      "Coefficient of By with respect to Jy_c0:\n"
     ]
    },
    {
     "data": {
      "image/png": "[encoded data removed]",
      "text/latex": [
       "$\\displaystyle 0$"
      ],
      "text/plain": [
       "0"
      ]
     },
     "metadata": {},
     "output_type": "display_data"
    },
    {
     "name": "stdout",
     "output_type": "stream",
     "text": [
      "Coefficient of By with respect to Jz_c0:\n"
     ]
    },
    {
     "data": {
      "image/png": "[encoded data removed]",
      "text/latex": [
       "$\\displaystyle \\frac{i \\mu_{0} k_{x} \\left(\\cos{\\left(\\Delta{t} c \\sqrt{k_{x}^{2} + k_{y}^{2} + k_{z}^{2}} \\right)} - 1\\right)}{k_{x}^{2} + k_{y}^{2} + k_{z}^{2}}$"
      ],
      "text/plain": [
       "          ⎛   ⎛               ___________________⎞    ⎞\n",
       "          ⎜   ⎜              ╱   2      2      2 ⎟    ⎟\n",
       "ⅈ⋅\\mu₀⋅kₓ⋅⎝cos⎝\\Delta{t}⋅c⋅╲╱  kₓ  + k_y  + k_z  ⎠ - 1⎠\n",
       "───────────────────────────────────────────────────────\n",
       "                     2      2      2                   \n",
       "                   kₓ  + k_y  + k_z                    "
      ]
     },
     "metadata": {},
     "output_type": "display_data"
    },
    {
     "name": "stdout",
     "output_type": "stream",
     "text": [
      "Coefficient of By with respect to rho_c0:\n"
     ]
    },
    {
     "data": {
      "image/png": "[encoded data removed]",
      "text/latex": [
       "$\\displaystyle 0$"
      ],
      "text/plain": [
       "0"
      ]
     },
     "metadata": {},
     "output_type": "display_data"
    },
    {
     "name": "stdout",
     "output_type": "stream",
     "text": [
      "Coefficient of Bz with respect to Jx_c0:\n"
     ]
    },
    {
     "data": {
      "image/png": "[encoded data removed]",
      "text/latex": [
       "$\\displaystyle \\frac{i \\mu_{0} k_{y} \\left(\\cos{\\left(\\Delta{t} c \\sqrt{k_{x}^{2} + k_{y}^{2} + k_{z}^{2}} \\right)} - 1\\right)}{k_{x}^{2} + k_{y}^{2} + k_{z}^{2}}$"
      ],
      "text/plain": [
       "           ⎛   ⎛               ___________________⎞    ⎞\n",
       "           ⎜   ⎜              ╱   2      2      2 ⎟    ⎟\n",
       "ⅈ⋅\\mu₀⋅k_y⋅⎝cos⎝\\Delta{t}⋅c⋅╲╱  kₓ  + k_y  + k_z  ⎠ - 1⎠\n",
       "────────────────────────────────────────────────────────\n",
       "                     2      2      2                    \n",
       "                   kₓ  + k_y  + k_z                     "
      ]
     },
     "metadata": {},
     "output_type": "display_data"
    },
    {
     "name": "stdout",
     "output_type": "stream",
     "text": [
      "Coefficient of Bz with respect to Jy_c0:\n"
     ]
    },
    {
     "data": {
      "image/png": "[encoded data removed]",
      "text/latex": [
       "$\\displaystyle \\frac{i \\mu_{0} k_{x} \\left(1 - \\cos{\\left(\\Delta{t} c \\sqrt{k_{x}^{2} + k_{y}^{2} + k_{z}^{2}} \\right)}\\right)}{k_{x}^{2} + k_{y}^{2} + k_{z}^{2}}$"
      ],
      "text/plain": [
       "          ⎛       ⎛               ___________________⎞⎞\n",
       "          ⎜       ⎜              ╱   2      2      2 ⎟⎟\n",
       "ⅈ⋅\\mu₀⋅kₓ⋅⎝1 - cos⎝\\Delta{t}⋅c⋅╲╱  kₓ  + k_y  + k_z  ⎠⎠\n",
       "───────────────────────────────────────────────────────\n",
       "                     2      2      2                   \n",
       "                   kₓ  + k_y  + k_z                    "
      ]
     },
     "metadata": {},
     "output_type": "display_data"
    },
    {
     "name": "stdout",
     "output_type": "stream",
     "text": [
      "Coefficient of Bz with respect to Jz_c0:\n"
     ]
    },
    {
     "data": {
      "image/png": "[encoded data removed]",
      "text/latex": [
       "$\\displaystyle 0$"
      ],
      "text/plain": [
       "0"
      ]
     },
     "metadata": {},
     "output_type": "display_data"
    },
    {
     "name": "stdout",
     "output_type": "stream",
     "text": [
      "Coefficient of Bz with respect to rho_c0:\n"
     ]
    },
    {
     "data": {
      "image/png": "[encoded data removed]",
      "text/latex": [
       "$\\displaystyle 0$"
      ],
      "text/plain": [
       "0"
      ]
     },
     "metadata": {},
     "output_type": "display_data"
    },
    {
     "name": "stdout",
     "output_type": "stream",
     "text": [
      "Coefficient of F with respect to Jx_c0:\n"
     ]
    },
    {
     "data": {
      "image/png": "[encoded data removed]",
      "text/latex": [
       "$\\displaystyle \\frac{i \\mu_{0} k_{x} \\left(\\cos{\\left(\\Delta{t} c \\sqrt{k_{x}^{2} + k_{y}^{2} + k_{z}^{2}} \\right)} - 1\\right)}{k_{x}^{2} + k_{y}^{2} + k_{z}^{2}}$"
      ],
      "text/plain": [
       "          ⎛   ⎛               ___________________⎞    ⎞\n",
       "          ⎜   ⎜              ╱   2      2      2 ⎟    ⎟\n",
       "ⅈ⋅\\mu₀⋅kₓ⋅⎝cos⎝\\Delta{t}⋅c⋅╲╱  kₓ  + k_y  + k_z  ⎠ - 1⎠\n",
       "───────────────────────────────────────────────────────\n",
       "                     2      2      2                   \n",
       "                   kₓ  + k_y  + k_z                    "
      ]
     },
     "metadata": {},
     "output_type": "display_data"
    },
    {
     "name": "stdout",
     "output_type": "stream",
     "text": [
      "Coefficient of F with respect to Jy_c0:\n"
     ]
    },
    {
     "data": {
      "image/png": "[encoded data removed]",
      "text/latex": [
       "$\\displaystyle \\frac{i \\mu_{0} k_{y} \\left(\\cos{\\left(\\Delta{t} c \\sqrt{k_{x}^{2} + k_{y}^{2} + k_{z}^{2}} \\right)} - 1\\right)}{k_{x}^{2} + k_{y}^{2} + k_{z}^{2}}$"
      ],
      "text/plain": [
       "           ⎛   ⎛               ___________________⎞    ⎞\n",
       "           ⎜   ⎜              ╱   2      2      2 ⎟    ⎟\n",
       "ⅈ⋅\\mu₀⋅k_y⋅⎝cos⎝\\Delta{t}⋅c⋅╲╱  kₓ  + k_y  + k_z  ⎠ - 1⎠\n",
       "────────────────────────────────────────────────────────\n",
       "                     2      2      2                    \n",
       "                   kₓ  + k_y  + k_z                     "
      ]
     },
     "metadata": {},
     "output_type": "display_data"
    },
    {
     "name": "stdout",
     "output_type": "stream",
     "text": [
      "Coefficient of F with respect to Jz_c0:\n"
     ]
    },
    {
     "data": {
      "image/png": "[encoded data removed]",
      "text/latex": [
       "$\\displaystyle \\frac{i \\mu_{0} k_{z} \\left(\\cos{\\left(\\Delta{t} c \\sqrt{k_{x}^{2} + k_{y}^{2} + k_{z}^{2}} \\right)} - 1\\right)}{k_{x}^{2} + k_{y}^{2} + k_{z}^{2}}$"
      ],
      "text/plain": [
       "           ⎛   ⎛               ___________________⎞    ⎞\n",
       "           ⎜   ⎜              ╱   2      2      2 ⎟    ⎟\n",
       "ⅈ⋅\\mu₀⋅k_z⋅⎝cos⎝\\Delta{t}⋅c⋅╲╱  kₓ  + k_y  + k_z  ⎠ - 1⎠\n",
       "────────────────────────────────────────────────────────\n",
       "                     2      2      2                    \n",
       "                   kₓ  + k_y  + k_z                     "
      ]
     },
     "metadata": {},
     "output_type": "display_data"
    },
    {
     "name": "stdout",
     "output_type": "stream",
     "text": [
      "Coefficient of F with respect to rho_c0:\n"
     ]
    },
    {
     "data": {
      "image/png": "[encoded data removed]",
      "text/latex": [
       "$\\displaystyle - \\frac{\\mu_{0} c \\sin{\\left(\\Delta{t} c \\sqrt{k_{x}^{2} + k_{y}^{2} + k_{z}^{2}} \\right)}}{\\sqrt{k_{x}^{2} + k_{y}^{2} + k_{z}^{2}}}$"
      ],
      "text/plain": [
       "           ⎛               ___________________⎞ \n",
       "           ⎜              ╱   2      2      2 ⎟ \n",
       "-\\mu₀⋅c⋅sin⎝\\Delta{t}⋅c⋅╲╱  kₓ  + k_y  + k_z  ⎠ \n",
       "────────────────────────────────────────────────\n",
       "                ___________________             \n",
       "               ╱   2      2      2              \n",
       "             ╲╱  kₓ  + k_y  + k_z               "
      ]
     },
     "metadata": {},
     "output_type": "display_data"
    },
    {
     "name": "stdout",
     "output_type": "stream",
     "text": [
      "Coefficient of G with respect to Jx_c0:\n"
     ]
    },
    {
     "data": {
      "image/png": "[encoded data removed]",
      "text/latex": [
       "$\\displaystyle 0$"
      ],
      "text/plain": [
       "0"
      ]
     },
     "metadata": {},
     "output_type": "display_data"
    },
    {
     "name": "stdout",
     "output_type": "stream",
     "text": [
      "Coefficient of G with respect to Jy_c0:\n"
     ]
    },
    {
     "data": {
      "image/png": "[encoded data removed]",
      "text/latex": [
       "$\\displaystyle 0$"
      ],
      "text/plain": [
       "0"
      ]
     },
     "metadata": {},
     "output_type": "display_data"
    },
    {
     "name": "stdout",
     "output_type": "stream",
     "text": [
      "Coefficient of G with respect to Jz_c0:\n"
     ]
    },
    {
     "data": {
      "image/png": "[encoded data removed]",
      "text/latex": [
       "$\\displaystyle 0$"
      ],
      "text/plain": [
       "0"
      ]
     },
     "metadata": {},
     "output_type": "display_data"
    },
    {
     "name": "stdout",
     "output_type": "stream",
     "text": [
      "Coefficient of G with respect to rho_c0:\n"
     ]
    },
    {
     "data": {
      "image/png": "[encoded data removed]",
      "text/latex": [
       "$\\displaystyle 0$"
      ],
      "text/plain": [
       "0"
      ]
     },
     "metadata": {},
     "output_type": "display_data"
    },
    {
     "name": "stdout",
     "output_type": "stream",
     "text": [
      "CPU times: user 14.1 s, sys: 380 ms, total: 14.5 s\n",
      "Wall time: 21.1 s\n"
     ]
    }
   ],
   "source": [
    "%%time\n",
    "\n",
    "L = ['Ex', 'Ey', 'Ez', 'Bx', 'By', 'Bz']\n",
    "R = ['Jx_c0', 'Jy_c0', 'Jz_c0']\n",
    "if J_in_time == 'linear':\n",
    "    R.append('Jx_c1')\n",
    "    R.append('Jy_c1')\n",
    "    R.append('Jz_c1')\n",
    "if J_in_time == 'quadratic':\n",
    "    R.append('Jx_c1')\n",
    "    R.append('Jy_c1')\n",
    "    R.append('Jz_c1')\n",
    "    R.append('Jx_c2')\n",
    "    R.append('Jy_c2')\n",
    "    R.append('Jz_c2')\n",
    "if divE_cleaning:\n",
    "    L.append('F')\n",
    "    R.append('rho_c0')\n",
    "    if rho_in_time == 'linear':\n",
    "        R.append('rho_c1')\n",
    "    if rho_in_time == 'quadratic':\n",
    "        R.append('rho_c1')\n",
    "        R.append('rho_c2')\n",
    "if divB_cleaning:\n",
    "    L.append('G')\n",
    "\n",
    "ab = [Jx_c0, Jy_c0, Jz_c0]\n",
    "if J_in_time == 'linear':\n",
    "    ab.append(Jx_c1)\n",
    "    ab.append(Jy_c1)\n",
    "    ab.append(Jz_c1)\n",
    "if J_in_time == 'quadratic':\n",
    "    ab.append(Jx_c1)\n",
    "    ab.append(Jy_c1)\n",
    "    ab.append(Jz_c1)\n",
    "    ab.append(Jx_c2)\n",
    "    ab.append(Jy_c2)\n",
    "    ab.append(Jz_c2)\n",
    "if divE_cleaning:\n",
    "    ab.append(rho_c0)\n",
    "    if rho_in_time == 'linear':\n",
    "        ab.append(rho_c1)\n",
    "    if rho_in_time == 'quadratic':\n",
    "        ab.append(rho_c1)\n",
    "        ab.append(rho_c2)\n",
    "    \n",
    "# Compute individual coefficients in update equation\n",
    "coeff_nh = dict()\n",
    "for i in range(len(L)):\n",
    "    for j in range(len(R)):\n",
    "        key = (L[i], R[j])\n",
    "        coeff_nh[key] = EBFG_nh[i].expand().coeff(ab[j], 1).expand().simplify().rewrite(cos).trigsimp().simplify()\n",
    "        print(f'Coefficient of {L[i]} with respect to {R[j]}:')\n",
    "        display(coeff_nh[key])"
   ]
  },
  {
   "cell_type": "markdown",
   "metadata": {},
   "source": [
    "### Coefficients of update equations:\n",
    "\n",
    "Display the coefficients of the update equations, for example:\n",
    "- `coeff_h[('Ex', 'By')]`, for the homogeneous solution\n",
    "- `coeff_nh[('Ex', 'Jx_c0')]`, for the non-homogeneous solution"
   ]
  },
  {
   "cell_type": "code",
   "execution_count": 15,
   "metadata": {
    "scrolled": false
   },
   "outputs": [
    {
     "data": {
      "image/png": "[encoded data removed]",
      "text/latex": [
       "$\\displaystyle - \\frac{i c k_{z} \\sin{\\left(\\Delta{t} c \\sqrt{k_{x}^{2} + k_{y}^{2} + k_{z}^{2}} \\right)}}{\\sqrt{k_{x}^{2} + k_{y}^{2} + k_{z}^{2}}}$"
      ],
      "text/plain": [
       "            ⎛               ___________________⎞ \n",
       "            ⎜              ╱   2      2      2 ⎟ \n",
       "-ⅈ⋅c⋅k_z⋅sin⎝\\Delta{t}⋅c⋅╲╱  kₓ  + k_y  + k_z  ⎠ \n",
       "─────────────────────────────────────────────────\n",
       "                 ___________________             \n",
       "                ╱   2      2      2              \n",
       "              ╲╱  kₓ  + k_y  + k_z               "
      ]
     },
     "execution_count": 15,
     "metadata": {},
     "output_type": "execute_result"
    }
   ],
   "source": [
    "coeff_h[('Ex', 'By')]"
   ]
  },
  {
   "cell_type": "code",
   "execution_count": 16,
   "metadata": {
    "scrolled": false
   },
   "outputs": [
    {
     "data": {
      "image/png": "[encoded data removed]",
      "text/latex": [
       "$\\displaystyle - \\frac{\\mu_{0} c \\sin{\\left(\\Delta{t} c \\sqrt{k_{x}^{2} + k_{y}^{2} + k_{z}^{2}} \\right)}}{\\sqrt{k_{x}^{2} + k_{y}^{2} + k_{z}^{2}}}$"
      ],
      "text/plain": [
       "           ⎛               ___________________⎞ \n",
       "           ⎜              ╱   2      2      2 ⎟ \n",
       "-\\mu₀⋅c⋅sin⎝\\Delta{t}⋅c⋅╲╱  kₓ  + k_y  + k_z  ⎠ \n",
       "────────────────────────────────────────────────\n",
       "                ___________________             \n",
       "               ╱   2      2      2              \n",
       "             ╲╱  kₓ  + k_y  + k_z               "
      ]
     },
     "execution_count": 16,
     "metadata": {},
     "output_type": "execute_result"
    }
   ],
   "source": [
    "coeff_nh[('Ex', 'Jx_c0')]"
   ]
  }
 ],
 "metadata": {
  "kernelspec": {
   "display_name": "Python 3",
   "language": "python",
   "name": "python3"
  },
  "language_info": {
   "codemirror_mode": {
    "name": "ipython",
    "version": 3
   },
   "file_extension": ".py",
   "mimetype": "text/x-python",
   "name": "python",
   "nbconvert_exporter": "python",
   "pygments_lexer": "ipython3",
   "version": "3.8.10"
  }
 },
 "nbformat": 4,
 "nbformat_minor": 4
}
